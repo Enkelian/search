{
 "cells": [
  {
   "cell_type": "code",
   "execution_count": 364,
   "metadata": {},
   "outputs": [],
   "source": [
    "import wikipediaapi as wa\n",
    "import os.path\n",
    "import string\n",
    "import scipy.sparse as sparse\n",
    "import numpy as np\n",
    "import nltk\n",
    "from nltk.corpus import stopwords\n",
    "from nltk.tokenize import word_tokenize\n",
    "from nltk.stem import PorterStemmer\n",
    "from sklearn.preprocessing import normalize\n",
    "from sklearn.decomposition import TruncatedSVD\n",
    "from collections import defaultdict\n",
    "import json\n",
    "\n",
    "# nltk.download('punkt')\n",
    "# nltk.download('stopwords')\n",
    "\n",
    "wiki_wiki = wa.Wikipedia('en')\n",
    "max_depth = 2\n",
    "res_dir = \"res\"\n",
    "dir = res_dir + os.sep + \"stoner\"\n",
    "ps = PorterStemmer()\n",
    "\n",
    "\n",
    "def valid_title(title):\n",
    "    words = {\"Wikipedia\", \"Help\", \"Category\", \":\", \"\\\"\", \"/\", \"?\", \"List\", \"*\", \"<\", \">\", \"|\"}\n",
    "    for word in words:\n",
    "        if word in title:\n",
    "            return False\n",
    "    return True\n",
    "\n",
    "\n",
    "def visit_links(page, rec_level):\n",
    "    if rec_level > max_depth:\n",
    "        return\n",
    "\n",
    "    links = page.links\n",
    "    for key in sorted(links.keys()):\n",
    "        title = links[key].title\n",
    "        if valid_title(title):\n",
    "            visit_page(title, rec_level + 1)\n",
    "            \n",
    "\n",
    "def print_categorymembers(categorymembers, level=0, max_level=1):\n",
    "    for c in categorymembers.values():\n",
    "        print(\"%s: %s (ns: %d)\" % (\"*\" * (level + 1), c.title, c.ns))\n",
    "        if c.ns == wa.Namespace.CATEGORY and level < max_level:\n",
    "            print_categorymembers(c.categorymembers, level=level + 1, max_level=max_level)\n",
    "\n",
    "\n",
    "def visit_page(page, rec_level):\n",
    "    \n",
    "    page_py = wiki_wiki.page(page)\n",
    "    file_name = dir + page_py.title + \".txt\"\n",
    "    \n",
    "    if os.path.exists(file_name):\n",
    "        return\n",
    "    \n",
    "    words = page_py.text.split()[:200]\n",
    "    if len(words) > 100:\n",
    "        \n",
    "        with open(dir + os.sep + page_py.title + \".txt\", 'w+', encoding=\"utf-8\") as file:\n",
    "            file.write(page_py.title+\"\\n\")\n",
    "            for word in words:\n",
    "                file.write(word+' ')\n",
    "        visit_links(page_py, rec_level)\n",
    "\n",
    "\n",
    "def get_files():\n",
    "    categories = wiki_wiki.page(\"Category:Stoner rock musical groups\")\n",
    "\n",
    "    for member in categories.categorymembers:\n",
    "        visit_page(member, 0)"
   ]
  },
  {
   "cell_type": "markdown",
   "metadata": {},
   "source": [
    "## Dane"
   ]
  },
  {
   "cell_type": "markdown",
   "metadata": {},
   "source": [
    "Aby pozyskać dokumenty wykorzystano Wikipedia API. Za jego pomocą pobrano około 50 tysięcy artykułów z Wikipedii (zapisano pierwsze 200 słów każdego z artykułów wraz z ich tytułem). Artykuły pobierano w następujący sposób: rozpoczęto od listy zespołów z kategorii Stoner rock musical groups, a następnie rekurencyjnie w każdym arykule wchodzono do kolejnych odnośników do artykułów Wikipedii. Ominięto artykuły mające mało treści, a także takie, które były kolejnymi listami. Uzyskane w ten sposób dokumenty nie są spójne tematycznie. Z maksymalnym poziomem zagłębienia rekurencji równym 2 uzyskano już różnorodną tematykę otrzymanych tekstów."
   ]
  },
  {
   "cell_type": "markdown",
   "metadata": {},
   "source": [
    "Link do wykorzystanego API:\n",
    "https://github.com/martin-majlis/Wikipedia-API"
   ]
  },
  {
   "cell_type": "code",
   "execution_count": 365,
   "metadata": {},
   "outputs": [],
   "source": [
    "def get_terms(dir):\n",
    "    terms = set({})\n",
    "    document_count = 0\n",
    "    documents_dict = {}\n",
    "    i = 0\n",
    "    for subdir, dirs, files in os.walk(dir):\n",
    "        for file in files:\n",
    "            documents_dict[file] = i\n",
    "            i += 1\n",
    "            file_path = dir + os.sep + file\n",
    "            document_count+=1\n",
    "            with open(file_path, encoding=\"utf-8\") as f:\n",
    "                text = f.read()\n",
    "                words = text_to_words(text)\n",
    "                for word in words:\n",
    "                    terms.add(word)\n",
    "    return np.sort(list(terms)), documents_dict\n",
    "\n",
    "def is_ascii(s):\n",
    "    return all(ord(c) < 128 for c in s)\n",
    "\n",
    "def text_to_words(text):\n",
    "    text = clear_text(text)\n",
    "    words = word_tokenize(text)\n",
    "    words = remove_stop_words(words)\n",
    "    return words\n",
    "\n",
    "\n",
    "def clear_text(text):\n",
    "    text = \"\".join([c for c in text if c not in string.punctuation])\n",
    "    return text.lower()\n",
    "\n",
    "\n",
    "def remove_stop_words(words):\n",
    "    stop_words = set(stopwords.words('english'))\n",
    "    words = [ps.stem(w) for w in words if (w not in stop_words and is_ascii(w))]\n",
    "    return words"
   ]
  },
  {
   "cell_type": "markdown",
   "metadata": {},
   "source": [
    "Powyższy kod odpowiada za wstępne przetworzenie dokumentów i uzyskanie słownika termów. Słownik ten został uzyskany jako unia wszystkich słów występujących we wszystkich dokumentach. Usunięto znaki interpunkcyjne, wszystkie litery zamieniono na małe i zastosowano stemming (PorterStemmer z bilioteki nltk). Usunięto takze stop words (listę stop words uzyskano z biblioteki nltk). W funkcji get_terms stworzono także słownik dokumentów, aby w późniejszych etapach mieć łatwy dostęp do indeksu danego dokumentu."
   ]
  },
  {
   "cell_type": "code",
   "execution_count": 366,
   "metadata": {},
   "outputs": [
    {
     "name": "stdout",
     "output_type": "stream",
     "text": [
      "['0' '00' '000' ... 'zzap64' 'zzebra' 'zzzzz']\n"
     ]
    }
   ],
   "source": [
    "terms, documents_dict = get_terms(dir)\n",
    "print(terms)"
   ]
  },
  {
   "cell_type": "code",
   "execution_count": 367,
   "metadata": {},
   "outputs": [
    {
     "name": "stdout",
     "output_type": "stream",
     "text": [
      "197360\n"
     ]
    }
   ],
   "source": [
    "print(len(terms))\n",
    "terms_dict = {}\n",
    "for i in range(len(terms)):\n",
    "    terms_dict[terms[i]] = i"
   ]
  },
  {
   "cell_type": "markdown",
   "metadata": {},
   "source": [
    "Za pomocą słownika zaindeksowano posortowane termy. Następnie oba słowniki zapisano do plików o rozszerzeniu .json."
   ]
  },
  {
   "cell_type": "code",
   "execution_count": 368,
   "metadata": {
    "scrolled": true
   },
   "outputs": [
    {
     "name": "stdout",
     "output_type": "stream",
     "text": [
      "197360\n",
      "50293\n"
     ]
    }
   ],
   "source": [
    "print(len(terms_dict))\n",
    "print(len(documents_dict))"
   ]
  },
  {
   "cell_type": "code",
   "execution_count": 369,
   "metadata": {},
   "outputs": [],
   "source": [
    "json.dump(terms_dict, open( res_dir + os.sep + \"terms_dict.json\", 'w' ))\n",
    "json.dump(documents_dict, open( res_dir + os.sep + \"documents_dict.json\", 'w' ))"
   ]
  },
  {
   "cell_type": "code",
   "execution_count": 370,
   "metadata": {},
   "outputs": [],
   "source": [
    "def load_dicts():\n",
    "    terms_dict = json.load( open( res_dir + os.sep + \"terms_dict.json\" ) )\n",
    "    documents_dict = json.load( open( res_dir + os.sep + \"documents_dict.json\" ) )\n",
    "    return terms_dict, documents_dict"
   ]
  },
  {
   "cell_type": "markdown",
   "metadata": {},
   "source": [
    "## Obliczenie bag of words i term by document matrix"
   ]
  },
  {
   "cell_type": "code",
   "execution_count": 377,
   "metadata": {},
   "outputs": [],
   "source": [
    "def get_term_by_document_matrix(terms_dict, dir, documents_dict):\n",
    "    \n",
    "    terms_count = len(terms_dict)\n",
    "    documents_count = len(documents_dict)\n",
    "    \n",
    "    tbd = sparse.lil_matrix((terms_count, documents_count))\n",
    "    for subdir, dirs, files in os.walk(dir):\n",
    "        for file in files:\n",
    "            file_path = dir + os.sep + file\n",
    "            with open(file_path, encoding=\"utf-8\") as f:\n",
    "                for word in text_to_words(f.read()):\n",
    "                    tbd[terms_dict[word], documents_dict[file]] += 1\n",
    "    return sparse.csc_matrix(tbd)"
   ]
  },
  {
   "cell_type": "code",
   "execution_count": 378,
   "metadata": {},
   "outputs": [],
   "source": [
    "tbd = get_term_by_document_matrix(terms_dict, dir, documents_dict)\n",
    "sparse.save_npz(res_dir + os.sep + 'tbd_no_idf.npz', tbd)"
   ]
  },
  {
   "cell_type": "code",
   "execution_count": 479,
   "metadata": {},
   "outputs": [
    {
     "name": "stdout",
     "output_type": "stream",
     "text": [
      "(197360, 50293)\n"
     ]
    }
   ],
   "source": [
    "print(tbd.shape)"
   ]
  },
  {
   "cell_type": "markdown",
   "metadata": {},
   "source": [
    "Utworzono macierz term by document poprzez wyznaczenie dla każdego dokumentu wektora bag of words. Do utworzenia macierzy term by document wykorzystano macierz lil z scipy.sparse."
   ]
  },
  {
   "cell_type": "code",
   "execution_count": 504,
   "metadata": {},
   "outputs": [],
   "source": [
    "def apply_idf(tbd, terms_count, documents_count):\n",
    "    idf = []\n",
    "    tbd_csr = sparse.csr_matrix(tbd)\n",
    "    i = 0\n",
    "    for row in tbd_csr:\n",
    "        doc_count = row.count_nonzero()\n",
    "        idf_i = np.log(documents_count/doc_count)\n",
    "        idf.append(idf_i)\n",
    "        row = row * idf_i\n",
    "    return idf, tbd_csr"
   ]
  },
  {
   "cell_type": "code",
   "execution_count": 505,
   "metadata": {},
   "outputs": [],
   "source": [
    "idf, tbd_csr = apply_idf(tbd, len(terms_dict), len(documents_dict))"
   ]
  },
  {
   "cell_type": "code",
   "execution_count": 506,
   "metadata": {},
   "outputs": [],
   "source": [
    "tbd_csc = sparse.csc_matrix(tbd_csr)\n",
    "sparse.save_npz(res_dir + os.sep + 'tbd.npz', tbd_csc)"
   ]
  },
  {
   "cell_type": "markdown",
   "metadata": {},
   "source": [
    "Następnie wyznaczono inverse document frequency dla każdego dokumentu. Liczbę dokumentów, w której wystąpiło dane słowo obliczno jako liczbę niezerowych komórek w rzędzie macierzy term by document. Tak przetworzoną macierz term by document zapisano do pliku."
   ]
  },
  {
   "cell_type": "code",
   "execution_count": 382,
   "metadata": {},
   "outputs": [],
   "source": [
    "def get_col_norms(tbd, documents_count):\n",
    "    \n",
    "    col_norms = []\n",
    "    \n",
    "    for i in range(documents_count):\n",
    "        col_norm = sparse.linalg.norm(tbd.getcol(i))\n",
    "        col_norms.append(col_norm)\n",
    "    return sparse.csc_matrix(col_norms)"
   ]
  },
  {
   "cell_type": "code",
   "execution_count": 383,
   "metadata": {},
   "outputs": [],
   "source": [
    "col_norms = get_col_norms(tbd_csc, len(documents_dict))"
   ]
  },
  {
   "cell_type": "code",
   "execution_count": 384,
   "metadata": {},
   "outputs": [],
   "source": [
    "sparse.save_npz(res_dir + os.sep + 'col_norms.npz', col_norms)"
   ]
  },
  {
   "cell_type": "code",
   "execution_count": 385,
   "metadata": {},
   "outputs": [],
   "source": [
    "def print_results(results):\n",
    "    for res in results:\n",
    "        file_path = dir+os.sep+res[1]\n",
    "        with open(file_path, encoding=\"utf-8\") as f:\n",
    "            text = f.read()\n",
    "            print(text)\n",
    "            print(\"\\n\")"
   ]
  },
  {
   "cell_type": "code",
   "execution_count": 386,
   "metadata": {},
   "outputs": [],
   "source": [
    "def query_to_bow(query, terms_dict):\n",
    "\n",
    "    query_words = text_to_words(query)\n",
    "    query_words = clean_query(query_words, terms_dict)\n",
    "\n",
    "    if not query_words:\n",
    "        return []\n",
    "\n",
    "    query_bow = sparse.lil_matrix((len(terms_dict), 1))\n",
    "\n",
    "    for word in query_words:\n",
    "        query_bow[terms_dict[word], 0] += 1\n",
    "    return query_bow\n",
    "\n",
    "def clean_query(query_words, terms_dict):\n",
    "    query_words = [word for word in query_words if word in terms_dict]\n",
    "    return query_words"
   ]
  },
  {
   "cell_type": "markdown",
   "metadata": {},
   "source": [
    "Powyższe funkcje, używane we wszystkich wariantach wyszukiwarki przekształca zapytanie w wektor bag of words. Najpierw poddaje tekst tym samym przekształceniom, co dokumenty (usunięcie interpunkcji i stop words, stemming), usuwa z zapytania słowa niebędące w słowniku, a następnie tworzy wektor bag of words w postaci macierzy rzadkiej."
   ]
  },
  {
   "cell_type": "markdown",
   "metadata": {},
   "source": [
    "## Wyszukiwanie bez wcześniejszej normalizacji macierzy"
   ]
  },
  {
   "cell_type": "code",
   "execution_count": 387,
   "metadata": {},
   "outputs": [],
   "source": [
    "def find_documents_not_normalized(query, k):\n",
    "    \n",
    "    terms_dict, documents_dict = load_dicts()\n",
    "    \n",
    "    query_bow = query_to_bow(query, terms_dict)\n",
    "    \n",
    "    if query_bow == []:\n",
    "        return []\n",
    "    \n",
    "    query_bow_t = query_bow.transpose()\n",
    "    \n",
    "    tbd = sparse.load_npz(res_dir + os.sep + 'tbd.npz')\n",
    "    col_norms = sparse.load_npz(res_dir + os.sep + 'col_norms.npz')\n",
    "    results = []\n",
    "    \n",
    "    query_norm = sparse.linalg.norm(query_bow)\n",
    "    \n",
    "    for document in documents_dict.keys():\n",
    "        i = documents_dict[document]\n",
    "        col = tbd.getcol(i)\n",
    "        res = query_bow_t.dot(col)[0,0] / (col_norms.getcol(i)[0,0] * query_norm)\n",
    "        if i < k:\n",
    "            results.append((res, document))\n",
    "        else:\n",
    "            results = sorted(results)\n",
    "            if res > results[0][0]:\n",
    "                results[0] = (res, document)\n",
    "                \n",
    "    return results"
   ]
  },
  {
   "cell_type": "code",
   "execution_count": 388,
   "metadata": {},
   "outputs": [
    {
     "name": "stdout",
     "output_type": "stream",
     "text": [
      "Screaming Trees\n",
      "Screaming Trees were an American rock band formed in Ellensburg, Washington in 1985 by vocalist Mark Lanegan, guitarist Gary Lee Conner, bass player Van Conner and drummer Mark Pickerel. Pickerel had been replaced by Barrett Martin by the time the band reached its most successful period. Although widely associated with grunge, the band's sound incorporated hard rock and psychedelic elements. During Screaming Trees' existence the band released seven studio albums, five EPs, and three compilations. Screaming Trees is known as one of the pioneers of grunge along with the Melvins, Mudhoney, U-Men, Skin Yard, Soundgarden, Green River, and Malfunkshun. Screaming Trees rose to fame as part of the grunge movement of the early 1990s, along with bands such as Alice in Chains, Pearl Jam, Nirvana, and Soundgarden and was one of the most successful underground music acts of the 1990s. The band achieved one top ten single on the Modern Rock Tracks charts. Screaming Trees were plagued by extended inactivity due to their problems with making a follow up to Dust. This led to their official breakup in 2000. History 1985–1989: Formation and early releases The Conner brothers formed Screaming Trees with Mark Lanegan and Mark Pickerel in 1985 in \n",
      "\n",
      "\n",
      "Rolling Stone's 100 Greatest Songwriters of All Time\n",
      "\"The 100 Greatest Songwriters of All Time\" is a feature published by the American magazine Rolling Stone in August 2015. The list presented was compiled based on the magazine's music critics, and unlike previous lists the votes came entirely from the magazine's staff. However, it predominantly features American and English songwriters solely of the rock era. Top 10 songwriters Reception The list received mixed response from fellow publications. Writing for Flavorwire, Judy Berman criticized the selection of the songwriters, saying \"Predictably, it's over 70% white and features only nine solo female songwriters (five other women are included as part of mixed-gender writing teams). Classic rock is overrepresented; every other genre and subgenre of popular music is underrepresented.\" Geeta Dayal from The Guardian accused \"corporate sponsorship\" in determining the list's content. Tom Moon from NPR wrote that \"This list represents another trip through the hagiographic, hermetically sealed rock hall of fame, with the same stars you've been reading about in Rolling Stone since the dinosaur age.\" The Daily Telegraph editor Martin Chilton responded with a list of 100 best songwriters missed out by Rolling Stone, including Cole Porter, Townes Van Zandt, Ewan MacColl, Kate Bush, and Ray Charles.Jacqueline Cutler from New \n",
      "\n",
      "\n",
      "Bucida buceras\n",
      "Bucida buceras is a tree in the Combretaceae family. It is known by a variety of names in English, including bullet tree, black olive tree, gregorywood (or gregory wood), Antigua whitewood, and oxhorn bucida. It is native to Mexico, Central America, the Caribbean, and northern South America. It is commonly found in coastal swamps and wet inland forests in low elevations.To grow it prefers high sunlight and rich, moist, well drained soil. It is highly tolerant to salt, insects, fungus, wind, and air pollution. Its roots are able to dig up paving stones and damage foundations.The wood of the bullet tree is extremely hard and durable. Being highly resistance to insects and fungi, it is sometimes used for house posts or bridge timbers. The bark may be used for tanning leather due to its contained tannins. Generally it is also often used as an ornamental/shade tree. == References == \n",
      "\n",
      "\n",
      "Steven Wilson\n",
      "Steven John Wilson (born 3 November 1967) is an English musician, singer, songwriter and record producer, most closely associated with the progressive rock genre. Currently a solo artist, he became known as the founder, lead guitarist, lead vocalist and songwriter of the band Porcupine Tree, as well as being a member of several other bands. Wilson is a self-taught composer, producer, audio engineer, guitar and keyboard player, and plays other instruments as needed, including bass guitar, autoharp, hammered dulcimer and flute. Despite being mainly associated with progressive rock, his influences and work have encompassed a diverse range of genres including psychedelia, pop, extreme metal, electronic and jazz, among others, shifting his musical direction through his albums. His concerts incorporate quadraphonic sound and elaborate visuals. He has also worked with artists such as Opeth, King Crimson, Pendulum, Jethro Tull, Andy Partridge, Yes, Fish, Marillion, Tears for Fears, Roxy Music and Anathema. In a career spanning more than 30 years, Wilson has made music prolifically and earned critical acclaim. His honours include four nominations for Grammy Awards, twice with Porcupine Tree, with his collaborative band Storm Corrosion and as a soloist on one occasion. In 2015, he received three awards at the \n",
      "\n",
      "\n",
      "Joshua Tree, California\n",
      "Joshua Tree is a census-designated place (CDP) in San Bernardino County, California, United States. The population was 7,414 at the 2010 census. At approximately 2,700 feet (820 meters) above sea level, Joshua Tree and its surrounding communities are located in the High Desert of California. The center of the business district in Joshua Tree is on California State Route 62. Geography Joshua Tree is located in the Mojave Desert at 34°8′N 116°19′W.According to the United States Census Bureau, the CDP has a total all land area of 95.9 km² (37.0 mi²). Joshua Tree, California is home to Joshua Tree National Park. Joshua Tree shares the border to its east with Twentynine Palms, California, its western border with Yucca Valley, California, its northwestern border with Landers, California, and its southern border is Coachella Valley, California. Demographics 2010 The 2010 United States Census reported that Joshua Tree had a population of 7,414. The population density was 200.1 people per square mile (77.3/km²). The racial makeup of Joshua Tree was 6,176 (83.3%) White (73.9% Non-Hispanic White), 234 (3.2%) African American, 84 (1.1%) Native American, 104 (1.4%) Asian, 18 (0.2%) Pacific Islander, 368 (5.0%) from other races, and 430 (5.8%) from two or more \n",
      "\n",
      "\n",
      "Songwriters Hall of Fame\n",
      "The Songwriters Hall of Fame (SHOF) was founded in 1969 by songwriter Johnny Mercer and music publisher/songwriter Abe Olman and publisher/executive Howie Richmond to honor those whose work represents and maintains the heritage and legacy of a spectrum of the most beloved songs from the world's popular music songbook. It not only celebrates these established songwriters, but is also involved on the development of new songwriting talent through workshops, showcases and scholarships. There are many programs designed to teach and discover new songwriters. Nile Rodgers serves as the organization's chairman.The Hall of Fame only existed as an online virtual collection until 2010, when it was first put on display as a physical gallery inside The Grammy Museum in Los Angeles. With an under-construction basement installation at the Brill Building in New York, the Hall does not have a permanent place and the awards are not televised.Through 2019, 461 individuals had been inducted into the SHOF. There are numerous examples of collaborating songwriters being inducted in unison, with each person being considered a separate entrant. The inaugural year featured 120 inductees, many of whom had a professional partnership, such as Rodgers and Hammerstein. Burt Bacharach and Hal David followed in 1972. \n",
      "\n",
      "\n",
      "Ailanthus altissima\n",
      "Ailanthus altissima , commonly known as tree of heaven, ailanthus, varnish tree, or in Chinese as chouchun (Chinese: 臭椿; pinyin: chòuchūn; literally: 'foul smelling tree'), is a deciduous tree in the family Simaroubaceae. It is native to both northeast and central China, as well as Taiwan. Unlike other members of the genus Ailanthus, it is found in temperate climates rather than the tropics. The tree grows rapidly and is capable of reaching heights of 15 m (50 feet) in 25 years. While the species rarely lives more than 50 years, some specimens exceed 100 years of age. Its remarkable suckering ability makes it possible for this tree to clone itself indefinitely. It is considered a noxious weed and vigorous invasive species, and one of the worst invasive plant species in Europe and North America. Description A. altissima is a medium-sized tree that reaches heights between 17 and 27 metres (56 and 89 ft) with a diameter at breast height of about 1 m (40 inches). The bark is smooth and light grey, often becoming somewhat rougher with light tan fissures as the tree ages. The twigs are stout, smooth to lightly pubescent, and reddish or chestnut in color. They have \n",
      "\n",
      "\n",
      "Joshua Tree\n",
      "Yucca brevifolia is a plant species belonging to the genus Yucca. It is tree-like in habit, which is reflected in its common names: Joshua tree, yucca palm, tree yucca, and palm tree yucca.This monocotyledonous tree is native to the arid southwestern United States, specifically California, Arizona, Utah, and Nevada, where it is confined mostly to the Mojave Desert between 400 and 1,800 m (1,300 and 5,900 ft) elevation. It thrives in the open grasslands of Queen Valley and Lost Horse Valley in Joshua Tree National Park. A dense Joshua tree forest also exists on the Cima Dome (Cima, California) in the Mojave National Preserve; northeast of Kingman, Arizona, in Mohave County, Arizona; as well as along U.S. 93 between the towns of Wickenburg and Wikieup, and designated as the Joshua Tree Parkway of Arizona. The Joshua Tree has barely any leaves, just a few balls on the edges. The Joshua tree can appear in the Mojave desert most of the time. It rarely appears in Death Valley. Taxonomy The Joshua tree is also called izote de desierto (Spanish, \"desert dagger\"). It was first formally described in the botanical literature as Yucca brevifolia by George Engelmann in 1871 as part of \n",
      "\n",
      "\n",
      "Songwriter\n",
      "A songwriter is a musician who professionally composes musical compositions and writes lyrics for songs. A songwriter can also be called a composer, although the latter term tends to be used mainly for individuals from the classical music genre and film scoring, but is also associated writing and composing the original musical composition or musical bed. A songwriter who mainly writes the lyrics for a song is referred to as lyricist. The pressure from the music industry to produce popular hits means that songwriting is often an activity for which the tasks are distributed between a number of people. For example, a songwriter who excels at writing lyrics might be paired with a songwriter with the task of creating original melodies. Pop songs may be composed by group members from the band or by staff writers – songwriters directly employed by music publishers. Some songwriters serve as their own music publishers, while others have outside publishers.The old-style apprenticeship approach to learning how to write songs is being supplemented by university degrees and college diplomas and \"rock schools\". Knowledge of modern music technology (sequencers, synthesizers, computer sound editing), songwriting elements and business skills are now often necessary requirements for a songwriter. \n",
      "\n",
      "\n",
      "Tree sitting\n",
      "Tree sitting is a form of environmentalist civil disobedience in which a protester sits in a tree, usually on a small platform built for the purpose, to protect it from being cut down (speculating that loggers will not endanger human lives by cutting an occupied tree). Supporters usually provide the tree sitters with food and other supplies. Tree sitting is often used as a stalling tactic, to prevent the cutting of trees while lawyers fight in the courts to secure the long-term victories. Tree-sitting was once a children's pastime. In the early 1930s, when endurance contests raged across the U.S., it became a child's contest for kids to climb into their backyard trees and, serviced by siblings and local businesses, attempt to win prizes for the longest sit. Extractions Tree-sitters in trees claimed by Pacific Lumber in Humboldt County have been subject to forced removal by hired extractors. The practice started with a single extractor in the late 1990s but in 2003 Pacific Lumber hired teams of climbers to remove dozens of tree-sitters, particularly in the Freshwater area East of Eureka, California.Most of the extractions in Northern California are done under the leadership of Eric Schatz of Schatz Tree Service, \n",
      "\n",
      "\n"
     ]
    }
   ],
   "source": [
    "results = find_documents_not_normalized(\"songwriter of Porcupine Tree\", 10)\n",
    "print_results(results)"
   ]
  },
  {
   "cell_type": "markdown",
   "metadata": {},
   "source": [
    "Powyższa funkcja wyszukuje k dokumentów najbardziej podobnych do podanego zapytania. Wczytywana macierz term by document ma nieznormalizowane kolumny. Przy obliczaniu korelacji kolumna macierzy i wektor bag of words wprowadzonego zapytania dzielone są przez ich normy. Funkcję przetestowano dla zapytania \"songwriter of Porcupine Tree\". Artykuł o Stevenie Wilsonie, którego szukano, był czwartym wynikiem wyszukiwania. Pozostałe wyniki to artykuły, w których często występują słowa \"songwriter\" lub \"tree\"."
   ]
  },
  {
   "cell_type": "markdown",
   "metadata": {},
   "source": [
    "## Wyszukiwanie wykorzystując znormalizowaną macierz term by document"
   ]
  },
  {
   "cell_type": "code",
   "execution_count": 507,
   "metadata": {},
   "outputs": [],
   "source": [
    "def normalize_tbd(tbd_csc):\n",
    "    return normalize(tbd_csc, axis = 0)"
   ]
  },
  {
   "cell_type": "code",
   "execution_count": 508,
   "metadata": {},
   "outputs": [],
   "source": [
    "tbd_csc = normalize_tbd(tbd_csc)"
   ]
  },
  {
   "cell_type": "code",
   "execution_count": 509,
   "metadata": {},
   "outputs": [],
   "source": [
    "sparse.save_npz(res_dir + os.sep + 'tbd_normalized.npz', tbd_csc)"
   ]
  },
  {
   "cell_type": "code",
   "execution_count": 392,
   "metadata": {},
   "outputs": [],
   "source": [
    "def find_documents_normalized(query, k):\n",
    "    \n",
    "    terms_dict, documents_dict = load_dicts()\n",
    "    \n",
    "    query_bow = query_to_bow(query, terms_dict)\n",
    "    \n",
    "    if query_bow == []:\n",
    "        return []\n",
    "    \n",
    "    query_bow = normalize(query_bow, axis = 1)\n",
    "    query_bow_t = query_bow.transpose()\n",
    "    \n",
    "    tbd = sparse.load_npz(res_dir + os.sep + 'tbd_normalized.npz')\n",
    "    \n",
    "    results = []\n",
    "    \n",
    "    for document in documents_dict.keys():\n",
    "        i = documents_dict[document]\n",
    "        col = tbd.getcol(i)\n",
    "        res = query_bow_t.dot(col)[0,0]\n",
    "        if i < k:\n",
    "            results.append((res, document))\n",
    "        else:\n",
    "            results = sorted(results)\n",
    "            if res > results[0][0]:\n",
    "                results[0] = (res, document)\n",
    "                \n",
    "    return results"
   ]
  },
  {
   "cell_type": "code",
   "execution_count": 393,
   "metadata": {},
   "outputs": [
    {
     "name": "stdout",
     "output_type": "stream",
     "text": [
      "Screaming Trees\n",
      "Screaming Trees were an American rock band formed in Ellensburg, Washington in 1985 by vocalist Mark Lanegan, guitarist Gary Lee Conner, bass player Van Conner and drummer Mark Pickerel. Pickerel had been replaced by Barrett Martin by the time the band reached its most successful period. Although widely associated with grunge, the band's sound incorporated hard rock and psychedelic elements. During Screaming Trees' existence the band released seven studio albums, five EPs, and three compilations. Screaming Trees is known as one of the pioneers of grunge along with the Melvins, Mudhoney, U-Men, Skin Yard, Soundgarden, Green River, and Malfunkshun. Screaming Trees rose to fame as part of the grunge movement of the early 1990s, along with bands such as Alice in Chains, Pearl Jam, Nirvana, and Soundgarden and was one of the most successful underground music acts of the 1990s. The band achieved one top ten single on the Modern Rock Tracks charts. Screaming Trees were plagued by extended inactivity due to their problems with making a follow up to Dust. This led to their official breakup in 2000. History 1985–1989: Formation and early releases The Conner brothers formed Screaming Trees with Mark Lanegan and Mark Pickerel in 1985 in \n",
      "\n",
      "\n",
      "Rolling Stone's 100 Greatest Songwriters of All Time\n",
      "\"The 100 Greatest Songwriters of All Time\" is a feature published by the American magazine Rolling Stone in August 2015. The list presented was compiled based on the magazine's music critics, and unlike previous lists the votes came entirely from the magazine's staff. However, it predominantly features American and English songwriters solely of the rock era. Top 10 songwriters Reception The list received mixed response from fellow publications. Writing for Flavorwire, Judy Berman criticized the selection of the songwriters, saying \"Predictably, it's over 70% white and features only nine solo female songwriters (five other women are included as part of mixed-gender writing teams). Classic rock is overrepresented; every other genre and subgenre of popular music is underrepresented.\" Geeta Dayal from The Guardian accused \"corporate sponsorship\" in determining the list's content. Tom Moon from NPR wrote that \"This list represents another trip through the hagiographic, hermetically sealed rock hall of fame, with the same stars you've been reading about in Rolling Stone since the dinosaur age.\" The Daily Telegraph editor Martin Chilton responded with a list of 100 best songwriters missed out by Rolling Stone, including Cole Porter, Townes Van Zandt, Ewan MacColl, Kate Bush, and Ray Charles.Jacqueline Cutler from New \n",
      "\n",
      "\n",
      "Bucida buceras\n",
      "Bucida buceras is a tree in the Combretaceae family. It is known by a variety of names in English, including bullet tree, black olive tree, gregorywood (or gregory wood), Antigua whitewood, and oxhorn bucida. It is native to Mexico, Central America, the Caribbean, and northern South America. It is commonly found in coastal swamps and wet inland forests in low elevations.To grow it prefers high sunlight and rich, moist, well drained soil. It is highly tolerant to salt, insects, fungus, wind, and air pollution. Its roots are able to dig up paving stones and damage foundations.The wood of the bullet tree is extremely hard and durable. Being highly resistance to insects and fungi, it is sometimes used for house posts or bridge timbers. The bark may be used for tanning leather due to its contained tannins. Generally it is also often used as an ornamental/shade tree. == References == \n",
      "\n",
      "\n",
      "Steven Wilson\n",
      "Steven John Wilson (born 3 November 1967) is an English musician, singer, songwriter and record producer, most closely associated with the progressive rock genre. Currently a solo artist, he became known as the founder, lead guitarist, lead vocalist and songwriter of the band Porcupine Tree, as well as being a member of several other bands. Wilson is a self-taught composer, producer, audio engineer, guitar and keyboard player, and plays other instruments as needed, including bass guitar, autoharp, hammered dulcimer and flute. Despite being mainly associated with progressive rock, his influences and work have encompassed a diverse range of genres including psychedelia, pop, extreme metal, electronic and jazz, among others, shifting his musical direction through his albums. His concerts incorporate quadraphonic sound and elaborate visuals. He has also worked with artists such as Opeth, King Crimson, Pendulum, Jethro Tull, Andy Partridge, Yes, Fish, Marillion, Tears for Fears, Roxy Music and Anathema. In a career spanning more than 30 years, Wilson has made music prolifically and earned critical acclaim. His honours include four nominations for Grammy Awards, twice with Porcupine Tree, with his collaborative band Storm Corrosion and as a soloist on one occasion. In 2015, he received three awards at the \n",
      "\n",
      "\n",
      "Joshua Tree, California\n",
      "Joshua Tree is a census-designated place (CDP) in San Bernardino County, California, United States. The population was 7,414 at the 2010 census. At approximately 2,700 feet (820 meters) above sea level, Joshua Tree and its surrounding communities are located in the High Desert of California. The center of the business district in Joshua Tree is on California State Route 62. Geography Joshua Tree is located in the Mojave Desert at 34°8′N 116°19′W.According to the United States Census Bureau, the CDP has a total all land area of 95.9 km² (37.0 mi²). Joshua Tree, California is home to Joshua Tree National Park. Joshua Tree shares the border to its east with Twentynine Palms, California, its western border with Yucca Valley, California, its northwestern border with Landers, California, and its southern border is Coachella Valley, California. Demographics 2010 The 2010 United States Census reported that Joshua Tree had a population of 7,414. The population density was 200.1 people per square mile (77.3/km²). The racial makeup of Joshua Tree was 6,176 (83.3%) White (73.9% Non-Hispanic White), 234 (3.2%) African American, 84 (1.1%) Native American, 104 (1.4%) Asian, 18 (0.2%) Pacific Islander, 368 (5.0%) from other races, and 430 (5.8%) from two or more \n",
      "\n",
      "\n",
      "Songwriters Hall of Fame\n",
      "The Songwriters Hall of Fame (SHOF) was founded in 1969 by songwriter Johnny Mercer and music publisher/songwriter Abe Olman and publisher/executive Howie Richmond to honor those whose work represents and maintains the heritage and legacy of a spectrum of the most beloved songs from the world's popular music songbook. It not only celebrates these established songwriters, but is also involved on the development of new songwriting talent through workshops, showcases and scholarships. There are many programs designed to teach and discover new songwriters. Nile Rodgers serves as the organization's chairman.The Hall of Fame only existed as an online virtual collection until 2010, when it was first put on display as a physical gallery inside The Grammy Museum in Los Angeles. With an under-construction basement installation at the Brill Building in New York, the Hall does not have a permanent place and the awards are not televised.Through 2019, 461 individuals had been inducted into the SHOF. There are numerous examples of collaborating songwriters being inducted in unison, with each person being considered a separate entrant. The inaugural year featured 120 inductees, many of whom had a professional partnership, such as Rodgers and Hammerstein. Burt Bacharach and Hal David followed in 1972. \n",
      "\n",
      "\n",
      "Ailanthus altissima\n",
      "Ailanthus altissima , commonly known as tree of heaven, ailanthus, varnish tree, or in Chinese as chouchun (Chinese: 臭椿; pinyin: chòuchūn; literally: 'foul smelling tree'), is a deciduous tree in the family Simaroubaceae. It is native to both northeast and central China, as well as Taiwan. Unlike other members of the genus Ailanthus, it is found in temperate climates rather than the tropics. The tree grows rapidly and is capable of reaching heights of 15 m (50 feet) in 25 years. While the species rarely lives more than 50 years, some specimens exceed 100 years of age. Its remarkable suckering ability makes it possible for this tree to clone itself indefinitely. It is considered a noxious weed and vigorous invasive species, and one of the worst invasive plant species in Europe and North America. Description A. altissima is a medium-sized tree that reaches heights between 17 and 27 metres (56 and 89 ft) with a diameter at breast height of about 1 m (40 inches). The bark is smooth and light grey, often becoming somewhat rougher with light tan fissures as the tree ages. The twigs are stout, smooth to lightly pubescent, and reddish or chestnut in color. They have \n",
      "\n",
      "\n",
      "Joshua Tree\n",
      "Yucca brevifolia is a plant species belonging to the genus Yucca. It is tree-like in habit, which is reflected in its common names: Joshua tree, yucca palm, tree yucca, and palm tree yucca.This monocotyledonous tree is native to the arid southwestern United States, specifically California, Arizona, Utah, and Nevada, where it is confined mostly to the Mojave Desert between 400 and 1,800 m (1,300 and 5,900 ft) elevation. It thrives in the open grasslands of Queen Valley and Lost Horse Valley in Joshua Tree National Park. A dense Joshua tree forest also exists on the Cima Dome (Cima, California) in the Mojave National Preserve; northeast of Kingman, Arizona, in Mohave County, Arizona; as well as along U.S. 93 between the towns of Wickenburg and Wikieup, and designated as the Joshua Tree Parkway of Arizona. The Joshua Tree has barely any leaves, just a few balls on the edges. The Joshua tree can appear in the Mojave desert most of the time. It rarely appears in Death Valley. Taxonomy The Joshua tree is also called izote de desierto (Spanish, \"desert dagger\"). It was first formally described in the botanical literature as Yucca brevifolia by George Engelmann in 1871 as part of \n",
      "\n",
      "\n",
      "Songwriter\n",
      "A songwriter is a musician who professionally composes musical compositions and writes lyrics for songs. A songwriter can also be called a composer, although the latter term tends to be used mainly for individuals from the classical music genre and film scoring, but is also associated writing and composing the original musical composition or musical bed. A songwriter who mainly writes the lyrics for a song is referred to as lyricist. The pressure from the music industry to produce popular hits means that songwriting is often an activity for which the tasks are distributed between a number of people. For example, a songwriter who excels at writing lyrics might be paired with a songwriter with the task of creating original melodies. Pop songs may be composed by group members from the band or by staff writers – songwriters directly employed by music publishers. Some songwriters serve as their own music publishers, while others have outside publishers.The old-style apprenticeship approach to learning how to write songs is being supplemented by university degrees and college diplomas and \"rock schools\". Knowledge of modern music technology (sequencers, synthesizers, computer sound editing), songwriting elements and business skills are now often necessary requirements for a songwriter. \n",
      "\n",
      "\n",
      "Tree sitting\n",
      "Tree sitting is a form of environmentalist civil disobedience in which a protester sits in a tree, usually on a small platform built for the purpose, to protect it from being cut down (speculating that loggers will not endanger human lives by cutting an occupied tree). Supporters usually provide the tree sitters with food and other supplies. Tree sitting is often used as a stalling tactic, to prevent the cutting of trees while lawyers fight in the courts to secure the long-term victories. Tree-sitting was once a children's pastime. In the early 1930s, when endurance contests raged across the U.S., it became a child's contest for kids to climb into their backyard trees and, serviced by siblings and local businesses, attempt to win prizes for the longest sit. Extractions Tree-sitters in trees claimed by Pacific Lumber in Humboldt County have been subject to forced removal by hired extractors. The practice started with a single extractor in the late 1990s but in 2003 Pacific Lumber hired teams of climbers to remove dozens of tree-sitters, particularly in the Freshwater area East of Eureka, California.Most of the extractions in Northern California are done under the leadership of Eric Schatz of Schatz Tree Service, \n",
      "\n",
      "\n"
     ]
    }
   ],
   "source": [
    "results = find_documents_normalized(\"songwriter of Porcupine Tree\", 10)\n",
    "print_results(results)"
   ]
  },
  {
   "cell_type": "markdown",
   "metadata": {},
   "source": [
    "W przypadku powyższej funkcji macierz term by document wczytywana z pliku jest macierzą o znormalizowanych kolumnach. Dzięki temu wyszukiwanie przebiega szybciej. Wynik zapytania dla hasła \"songwriter of Procupine Tree\" pokrywa się z wynikiem uzyskanym przy zastosowaniu poprzedniej funkcji."
   ]
  },
  {
   "cell_type": "markdown",
   "metadata": {},
   "source": [
    "## Wyszukiwanie z użyciem Latent Semantic Indexing"
   ]
  },
  {
   "cell_type": "code",
   "execution_count": 518,
   "metadata": {},
   "outputs": [],
   "source": [
    "def apply_svd(tbd, k):\n",
    "    svd = TruncatedSVD(n_components=k).fit(tbd)\n",
    "    tbd = svd.transform(tbd)\n",
    "    return tbd, svd"
   ]
  },
  {
   "cell_type": "code",
   "execution_count": 522,
   "metadata": {},
   "outputs": [
    {
     "ename": "KeyboardInterrupt",
     "evalue": "",
     "output_type": "error",
     "traceback": [
      "\u001b[1;31m---------------------------------------------------------------------------\u001b[0m",
      "\u001b[1;31mKeyboardInterrupt\u001b[0m                         Traceback (most recent call last)",
      "\u001b[1;32m<ipython-input-522-b7f312433f0d>\u001b[0m in \u001b[0;36m<module>\u001b[1;34m\u001b[0m\n\u001b[0;32m      1\u001b[0m \u001b[0mtbd\u001b[0m \u001b[1;33m=\u001b[0m \u001b[0msparse\u001b[0m\u001b[1;33m.\u001b[0m\u001b[0mload_npz\u001b[0m\u001b[1;33m(\u001b[0m\u001b[0mres_dir\u001b[0m \u001b[1;33m+\u001b[0m \u001b[0mos\u001b[0m\u001b[1;33m.\u001b[0m\u001b[0msep\u001b[0m \u001b[1;33m+\u001b[0m \u001b[1;34m'tbd_normalized.npz'\u001b[0m\u001b[1;33m)\u001b[0m\u001b[1;33m\u001b[0m\u001b[1;33m\u001b[0m\u001b[0m\n\u001b[1;32m----> 2\u001b[1;33m \u001b[0mtbd_trans\u001b[0m\u001b[1;33m,\u001b[0m \u001b[0msvd\u001b[0m \u001b[1;33m=\u001b[0m \u001b[0mapply_svd\u001b[0m\u001b[1;33m(\u001b[0m\u001b[0mtbd\u001b[0m\u001b[1;33m,\u001b[0m \u001b[1;36m500\u001b[0m\u001b[1;33m)\u001b[0m\u001b[1;33m\u001b[0m\u001b[1;33m\u001b[0m\u001b[0m\n\u001b[0m\u001b[0;32m      3\u001b[0m \u001b[0msparse\u001b[0m\u001b[1;33m.\u001b[0m\u001b[0msave_npz\u001b[0m\u001b[1;33m(\u001b[0m\u001b[0mres_dir\u001b[0m \u001b[1;33m+\u001b[0m \u001b[0mos\u001b[0m\u001b[1;33m.\u001b[0m\u001b[0msep\u001b[0m \u001b[1;33m+\u001b[0m \u001b[1;34m'tbd_trans.npz'\u001b[0m\u001b[1;33m,\u001b[0m \u001b[0msparse\u001b[0m\u001b[1;33m.\u001b[0m\u001b[0mcsc_matrix\u001b[0m\u001b[1;33m(\u001b[0m\u001b[0mtbd_trans\u001b[0m\u001b[1;33m)\u001b[0m\u001b[1;33m)\u001b[0m\u001b[1;33m\u001b[0m\u001b[1;33m\u001b[0m\u001b[0m\n\u001b[0;32m      4\u001b[0m \u001b[0msparse\u001b[0m\u001b[1;33m.\u001b[0m\u001b[0msave_npz\u001b[0m\u001b[1;33m(\u001b[0m\u001b[0mres_dir\u001b[0m \u001b[1;33m+\u001b[0m \u001b[0mos\u001b[0m\u001b[1;33m.\u001b[0m\u001b[0msep\u001b[0m \u001b[1;33m+\u001b[0m \u001b[1;34m'svd_compoments_.npz'\u001b[0m\u001b[1;33m,\u001b[0m \u001b[0msparse\u001b[0m\u001b[1;33m.\u001b[0m\u001b[0mcsc_matrix\u001b[0m\u001b[1;33m(\u001b[0m\u001b[0msvd\u001b[0m\u001b[1;33m.\u001b[0m\u001b[0mcomponents_\u001b[0m\u001b[1;33m)\u001b[0m\u001b[1;33m)\u001b[0m\u001b[1;33m\u001b[0m\u001b[1;33m\u001b[0m\u001b[0m\n",
      "\u001b[1;32m<ipython-input-518-589c68b84c0f>\u001b[0m in \u001b[0;36mapply_svd\u001b[1;34m(tbd, k)\u001b[0m\n\u001b[0;32m      1\u001b[0m \u001b[1;32mdef\u001b[0m \u001b[0mapply_svd\u001b[0m\u001b[1;33m(\u001b[0m\u001b[0mtbd\u001b[0m\u001b[1;33m,\u001b[0m \u001b[0mk\u001b[0m\u001b[1;33m)\u001b[0m\u001b[1;33m:\u001b[0m\u001b[1;33m\u001b[0m\u001b[1;33m\u001b[0m\u001b[0m\n\u001b[1;32m----> 2\u001b[1;33m     \u001b[0msvd\u001b[0m \u001b[1;33m=\u001b[0m \u001b[0mTruncatedSVD\u001b[0m\u001b[1;33m(\u001b[0m\u001b[0mn_components\u001b[0m\u001b[1;33m=\u001b[0m\u001b[0mk\u001b[0m\u001b[1;33m)\u001b[0m\u001b[1;33m.\u001b[0m\u001b[0mfit\u001b[0m\u001b[1;33m(\u001b[0m\u001b[0mtbd\u001b[0m\u001b[1;33m)\u001b[0m\u001b[1;33m\u001b[0m\u001b[1;33m\u001b[0m\u001b[0m\n\u001b[0m\u001b[0;32m      3\u001b[0m     \u001b[0mtbd\u001b[0m \u001b[1;33m=\u001b[0m \u001b[0msvd\u001b[0m\u001b[1;33m.\u001b[0m\u001b[0mtransform\u001b[0m\u001b[1;33m(\u001b[0m\u001b[0mtbd\u001b[0m\u001b[1;33m)\u001b[0m\u001b[1;33m\u001b[0m\u001b[1;33m\u001b[0m\u001b[0m\n\u001b[0;32m      4\u001b[0m     \u001b[1;32mreturn\u001b[0m \u001b[0mtbd\u001b[0m\u001b[1;33m,\u001b[0m \u001b[0msvd\u001b[0m\u001b[1;33m\u001b[0m\u001b[1;33m\u001b[0m\u001b[0m\n",
      "\u001b[1;32mc:\\users\\anian\\anaconda3\\envs\\mownit_lab\\lib\\site-packages\\sklearn\\decomposition\\_truncated_svd.py\u001b[0m in \u001b[0;36mfit\u001b[1;34m(self, X, y)\u001b[0m\n\u001b[0;32m    141\u001b[0m             \u001b[0mReturns\u001b[0m \u001b[0mthe\u001b[0m \u001b[0mtransformer\u001b[0m \u001b[0mobject\u001b[0m\u001b[1;33m.\u001b[0m\u001b[1;33m\u001b[0m\u001b[1;33m\u001b[0m\u001b[0m\n\u001b[0;32m    142\u001b[0m         \"\"\"\n\u001b[1;32m--> 143\u001b[1;33m         \u001b[0mself\u001b[0m\u001b[1;33m.\u001b[0m\u001b[0mfit_transform\u001b[0m\u001b[1;33m(\u001b[0m\u001b[0mX\u001b[0m\u001b[1;33m)\u001b[0m\u001b[1;33m\u001b[0m\u001b[1;33m\u001b[0m\u001b[0m\n\u001b[0m\u001b[0;32m    144\u001b[0m         \u001b[1;32mreturn\u001b[0m \u001b[0mself\u001b[0m\u001b[1;33m\u001b[0m\u001b[1;33m\u001b[0m\u001b[0m\n\u001b[0;32m    145\u001b[0m \u001b[1;33m\u001b[0m\u001b[0m\n",
      "\u001b[1;32mc:\\users\\anian\\anaconda3\\envs\\mownit_lab\\lib\\site-packages\\sklearn\\decomposition\\_truncated_svd.py\u001b[0m in \u001b[0;36mfit_transform\u001b[1;34m(self, X, y)\u001b[0m\n\u001b[0;32m    178\u001b[0m             U, Sigma, VT = randomized_svd(X, self.n_components,\n\u001b[0;32m    179\u001b[0m                                           \u001b[0mn_iter\u001b[0m\u001b[1;33m=\u001b[0m\u001b[0mself\u001b[0m\u001b[1;33m.\u001b[0m\u001b[0mn_iter\u001b[0m\u001b[1;33m,\u001b[0m\u001b[1;33m\u001b[0m\u001b[1;33m\u001b[0m\u001b[0m\n\u001b[1;32m--> 180\u001b[1;33m                                           random_state=random_state)\n\u001b[0m\u001b[0;32m    181\u001b[0m         \u001b[1;32melse\u001b[0m\u001b[1;33m:\u001b[0m\u001b[1;33m\u001b[0m\u001b[1;33m\u001b[0m\u001b[0m\n\u001b[0;32m    182\u001b[0m             \u001b[1;32mraise\u001b[0m \u001b[0mValueError\u001b[0m\u001b[1;33m(\u001b[0m\u001b[1;34m\"unknown algorithm %r\"\u001b[0m \u001b[1;33m%\u001b[0m \u001b[0mself\u001b[0m\u001b[1;33m.\u001b[0m\u001b[0malgorithm\u001b[0m\u001b[1;33m)\u001b[0m\u001b[1;33m\u001b[0m\u001b[1;33m\u001b[0m\u001b[0m\n",
      "\u001b[1;32mc:\\users\\anian\\anaconda3\\envs\\mownit_lab\\lib\\site-packages\\sklearn\\utils\\extmath.py\u001b[0m in \u001b[0;36mrandomized_svd\u001b[1;34m(M, n_components, n_oversamples, n_iter, power_iteration_normalizer, transpose, flip_sign, random_state)\u001b[0m\n\u001b[0;32m    346\u001b[0m \u001b[1;33m\u001b[0m\u001b[0m\n\u001b[0;32m    347\u001b[0m     Q = randomized_range_finder(M, n_random, n_iter,\n\u001b[1;32m--> 348\u001b[1;33m                                 power_iteration_normalizer, random_state)\n\u001b[0m\u001b[0;32m    349\u001b[0m \u001b[1;33m\u001b[0m\u001b[0m\n\u001b[0;32m    350\u001b[0m     \u001b[1;31m# project M to the (k + p) dimensional space using the basis vectors\u001b[0m\u001b[1;33m\u001b[0m\u001b[1;33m\u001b[0m\u001b[1;33m\u001b[0m\u001b[0m\n",
      "\u001b[1;32mc:\\users\\anian\\anaconda3\\envs\\mownit_lab\\lib\\site-packages\\sklearn\\utils\\extmath.py\u001b[0m in \u001b[0;36mrandomized_range_finder\u001b[1;34m(A, size, n_iter, power_iteration_normalizer, random_state)\u001b[0m\n\u001b[0;32m    231\u001b[0m         \u001b[1;32melif\u001b[0m \u001b[0mpower_iteration_normalizer\u001b[0m \u001b[1;33m==\u001b[0m \u001b[1;34m'LU'\u001b[0m\u001b[1;33m:\u001b[0m\u001b[1;33m\u001b[0m\u001b[1;33m\u001b[0m\u001b[0m\n\u001b[0;32m    232\u001b[0m             \u001b[0mQ\u001b[0m\u001b[1;33m,\u001b[0m \u001b[0m_\u001b[0m \u001b[1;33m=\u001b[0m \u001b[0mlinalg\u001b[0m\u001b[1;33m.\u001b[0m\u001b[0mlu\u001b[0m\u001b[1;33m(\u001b[0m\u001b[0msafe_sparse_dot\u001b[0m\u001b[1;33m(\u001b[0m\u001b[0mA\u001b[0m\u001b[1;33m,\u001b[0m \u001b[0mQ\u001b[0m\u001b[1;33m)\u001b[0m\u001b[1;33m,\u001b[0m \u001b[0mpermute_l\u001b[0m\u001b[1;33m=\u001b[0m\u001b[1;32mTrue\u001b[0m\u001b[1;33m)\u001b[0m\u001b[1;33m\u001b[0m\u001b[1;33m\u001b[0m\u001b[0m\n\u001b[1;32m--> 233\u001b[1;33m             \u001b[0mQ\u001b[0m\u001b[1;33m,\u001b[0m \u001b[0m_\u001b[0m \u001b[1;33m=\u001b[0m \u001b[0mlinalg\u001b[0m\u001b[1;33m.\u001b[0m\u001b[0mlu\u001b[0m\u001b[1;33m(\u001b[0m\u001b[0msafe_sparse_dot\u001b[0m\u001b[1;33m(\u001b[0m\u001b[0mA\u001b[0m\u001b[1;33m.\u001b[0m\u001b[0mT\u001b[0m\u001b[1;33m,\u001b[0m \u001b[0mQ\u001b[0m\u001b[1;33m)\u001b[0m\u001b[1;33m,\u001b[0m \u001b[0mpermute_l\u001b[0m\u001b[1;33m=\u001b[0m\u001b[1;32mTrue\u001b[0m\u001b[1;33m)\u001b[0m\u001b[1;33m\u001b[0m\u001b[1;33m\u001b[0m\u001b[0m\n\u001b[0m\u001b[0;32m    234\u001b[0m         \u001b[1;32melif\u001b[0m \u001b[0mpower_iteration_normalizer\u001b[0m \u001b[1;33m==\u001b[0m \u001b[1;34m'QR'\u001b[0m\u001b[1;33m:\u001b[0m\u001b[1;33m\u001b[0m\u001b[1;33m\u001b[0m\u001b[0m\n\u001b[0;32m    235\u001b[0m             \u001b[0mQ\u001b[0m\u001b[1;33m,\u001b[0m \u001b[0m_\u001b[0m \u001b[1;33m=\u001b[0m \u001b[0mlinalg\u001b[0m\u001b[1;33m.\u001b[0m\u001b[0mqr\u001b[0m\u001b[1;33m(\u001b[0m\u001b[0msafe_sparse_dot\u001b[0m\u001b[1;33m(\u001b[0m\u001b[0mA\u001b[0m\u001b[1;33m,\u001b[0m \u001b[0mQ\u001b[0m\u001b[1;33m)\u001b[0m\u001b[1;33m,\u001b[0m \u001b[0mmode\u001b[0m\u001b[1;33m=\u001b[0m\u001b[1;34m'economic'\u001b[0m\u001b[1;33m)\u001b[0m\u001b[1;33m\u001b[0m\u001b[1;33m\u001b[0m\u001b[0m\n",
      "\u001b[1;32mc:\\users\\anian\\anaconda3\\envs\\mownit_lab\\lib\\site-packages\\sklearn\\utils\\extmath.py\u001b[0m in \u001b[0;36msafe_sparse_dot\u001b[1;34m(a, b, dense_output)\u001b[0m\n\u001b[0;32m    149\u001b[0m             \u001b[0mret\u001b[0m \u001b[1;33m=\u001b[0m \u001b[0mnp\u001b[0m\u001b[1;33m.\u001b[0m\u001b[0mdot\u001b[0m\u001b[1;33m(\u001b[0m\u001b[0ma\u001b[0m\u001b[1;33m,\u001b[0m \u001b[0mb\u001b[0m\u001b[1;33m)\u001b[0m\u001b[1;33m\u001b[0m\u001b[1;33m\u001b[0m\u001b[0m\n\u001b[0;32m    150\u001b[0m     \u001b[1;32melse\u001b[0m\u001b[1;33m:\u001b[0m\u001b[1;33m\u001b[0m\u001b[1;33m\u001b[0m\u001b[0m\n\u001b[1;32m--> 151\u001b[1;33m         \u001b[0mret\u001b[0m \u001b[1;33m=\u001b[0m \u001b[0ma\u001b[0m \u001b[1;33m@\u001b[0m \u001b[0mb\u001b[0m\u001b[1;33m\u001b[0m\u001b[1;33m\u001b[0m\u001b[0m\n\u001b[0m\u001b[0;32m    152\u001b[0m \u001b[1;33m\u001b[0m\u001b[0m\n\u001b[0;32m    153\u001b[0m     if (sparse.issparse(a) and sparse.issparse(b)\n",
      "\u001b[1;32mc:\\users\\anian\\anaconda3\\envs\\mownit_lab\\lib\\site-packages\\scipy\\sparse\\base.py\u001b[0m in \u001b[0;36m__matmul__\u001b[1;34m(self, other)\u001b[0m\n\u001b[0;32m    562\u001b[0m             raise ValueError(\"Scalar operands are not allowed, \"\n\u001b[0;32m    563\u001b[0m                              \"use '*' instead\")\n\u001b[1;32m--> 564\u001b[1;33m         \u001b[1;32mreturn\u001b[0m \u001b[0mself\u001b[0m\u001b[1;33m.\u001b[0m\u001b[0m__mul__\u001b[0m\u001b[1;33m(\u001b[0m\u001b[0mother\u001b[0m\u001b[1;33m)\u001b[0m\u001b[1;33m\u001b[0m\u001b[1;33m\u001b[0m\u001b[0m\n\u001b[0m\u001b[0;32m    565\u001b[0m \u001b[1;33m\u001b[0m\u001b[0m\n\u001b[0;32m    566\u001b[0m     \u001b[1;32mdef\u001b[0m \u001b[0m__rmatmul__\u001b[0m\u001b[1;33m(\u001b[0m\u001b[0mself\u001b[0m\u001b[1;33m,\u001b[0m \u001b[0mother\u001b[0m\u001b[1;33m)\u001b[0m\u001b[1;33m:\u001b[0m\u001b[1;33m\u001b[0m\u001b[1;33m\u001b[0m\u001b[0m\n",
      "\u001b[1;32mc:\\users\\anian\\anaconda3\\envs\\mownit_lab\\lib\\site-packages\\scipy\\sparse\\base.py\u001b[0m in \u001b[0;36m__mul__\u001b[1;34m(self, other)\u001b[0m\n\u001b[0;32m    473\u001b[0m                 \u001b[1;32mreturn\u001b[0m \u001b[0mself\u001b[0m\u001b[1;33m.\u001b[0m\u001b[0m_mul_vector\u001b[0m\u001b[1;33m(\u001b[0m\u001b[0mother\u001b[0m\u001b[1;33m.\u001b[0m\u001b[0mravel\u001b[0m\u001b[1;33m(\u001b[0m\u001b[1;33m)\u001b[0m\u001b[1;33m)\u001b[0m\u001b[1;33m.\u001b[0m\u001b[0mreshape\u001b[0m\u001b[1;33m(\u001b[0m\u001b[0mM\u001b[0m\u001b[1;33m,\u001b[0m \u001b[1;36m1\u001b[0m\u001b[1;33m)\u001b[0m\u001b[1;33m\u001b[0m\u001b[1;33m\u001b[0m\u001b[0m\n\u001b[0;32m    474\u001b[0m             \u001b[1;32melif\u001b[0m \u001b[0mother\u001b[0m\u001b[1;33m.\u001b[0m\u001b[0mndim\u001b[0m \u001b[1;33m==\u001b[0m \u001b[1;36m2\u001b[0m \u001b[1;32mand\u001b[0m \u001b[0mother\u001b[0m\u001b[1;33m.\u001b[0m\u001b[0mshape\u001b[0m\u001b[1;33m[\u001b[0m\u001b[1;36m0\u001b[0m\u001b[1;33m]\u001b[0m \u001b[1;33m==\u001b[0m \u001b[0mN\u001b[0m\u001b[1;33m:\u001b[0m\u001b[1;33m\u001b[0m\u001b[1;33m\u001b[0m\u001b[0m\n\u001b[1;32m--> 475\u001b[1;33m                 \u001b[1;32mreturn\u001b[0m \u001b[0mself\u001b[0m\u001b[1;33m.\u001b[0m\u001b[0m_mul_multivector\u001b[0m\u001b[1;33m(\u001b[0m\u001b[0mother\u001b[0m\u001b[1;33m)\u001b[0m\u001b[1;33m\u001b[0m\u001b[1;33m\u001b[0m\u001b[0m\n\u001b[0m\u001b[0;32m    476\u001b[0m \u001b[1;33m\u001b[0m\u001b[0m\n\u001b[0;32m    477\u001b[0m         \u001b[1;32mif\u001b[0m \u001b[0misscalarlike\u001b[0m\u001b[1;33m(\u001b[0m\u001b[0mother\u001b[0m\u001b[1;33m)\u001b[0m\u001b[1;33m:\u001b[0m\u001b[1;33m\u001b[0m\u001b[1;33m\u001b[0m\u001b[0m\n",
      "\u001b[1;32mc:\\users\\anian\\anaconda3\\envs\\mownit_lab\\lib\\site-packages\\scipy\\sparse\\compressed.py\u001b[0m in \u001b[0;36m_mul_multivector\u001b[1;34m(self, other)\u001b[0m\n\u001b[0;32m    485\u001b[0m         \u001b[0mfn\u001b[0m \u001b[1;33m=\u001b[0m \u001b[0mgetattr\u001b[0m\u001b[1;33m(\u001b[0m\u001b[0m_sparsetools\u001b[0m\u001b[1;33m,\u001b[0m \u001b[0mself\u001b[0m\u001b[1;33m.\u001b[0m\u001b[0mformat\u001b[0m \u001b[1;33m+\u001b[0m \u001b[1;34m'_matvecs'\u001b[0m\u001b[1;33m)\u001b[0m\u001b[1;33m\u001b[0m\u001b[1;33m\u001b[0m\u001b[0m\n\u001b[0;32m    486\u001b[0m         fn(M, N, n_vecs, self.indptr, self.indices, self.data,\n\u001b[1;32m--> 487\u001b[1;33m            other.ravel(), result.ravel())\n\u001b[0m\u001b[0;32m    488\u001b[0m \u001b[1;33m\u001b[0m\u001b[0m\n\u001b[0;32m    489\u001b[0m         \u001b[1;32mreturn\u001b[0m \u001b[0mresult\u001b[0m\u001b[1;33m\u001b[0m\u001b[1;33m\u001b[0m\u001b[0m\n",
      "\u001b[1;31mKeyboardInterrupt\u001b[0m: "
     ]
    }
   ],
   "source": [
    "tbd = sparse.load_npz(res_dir + os.sep + 'tbd_normalized.npz')\n",
    "tbd_trans, svd = apply_svd(tbd, 500)\n",
    "sparse.save_npz(res_dir + os.sep + 'tbd_trans.npz', sparse.csc_matrix(tbd_trans))\n",
    "sparse.save_npz(res_dir + os.sep + 'svd_compoments_.npz', sparse.csc_matrix(svd.components_))"
   ]
  },
  {
   "cell_type": "markdown",
   "metadata": {},
   "source": [
    "Powyższa funkcja apply_svd stosuje svd i low rand approximation aby ograniczyć szum w macierzy term by document matrix.\n",
    "Do zastosowania svd użyto biblioteki sklearn. Po zastosowaniu svd do plików zapisywane są macierze tbd po transformacji i svd.components_."
   ]
  },
  {
   "cell_type": "code",
   "execution_count": null,
   "metadata": {},
   "outputs": [],
   "source": [
    "def find_documents_svd(query, k):\n",
    "    \n",
    "    terms_dict, documents_dict = load_dicts()\n",
    "    \n",
    "    query_bow = query_to_bow(query, terms_dict)\n",
    "    \n",
    "    if query_bow == []:\n",
    "        return []\n",
    "    \n",
    "    query_bow = normalize(query_bow, axis = 1)\n",
    "    query_bow_t = query_bow.transpose()\n",
    "    query_bow_t = np.array(query_bow_t)\n",
    "    tbd_trans = sparse.load_npz(res_dir + os.sep + 'tbd_trans.npz')\n",
    "    svd_components = sparse.load_npz(res_dir + os.sep + 'svd_compoments_.npz')\n",
    "    print(tbd_trans)\n",
    "    \n",
    "    similarities = query_bow_t.dot(tbd_trans)\n",
    "    similarities = similarities.dot(svd_components).getrow(0).toarray()[0]\n",
    "    \n",
    "    i = 0\n",
    "    results = []\n",
    "    for document in documents_dict.keys():\n",
    "        i = documents_dict[document]\n",
    "        res = similarities[i]\n",
    "        if i < k:\n",
    "            results.append((res, document))\n",
    "        else:\n",
    "            results = sorted(results)\n",
    "            if res > results[0][0]:\n",
    "                results[0] = (res, document)\n",
    "        \n",
    "    return results"
   ]
  },
  {
   "cell_type": "code",
   "execution_count": null,
   "metadata": {
    "scrolled": true
   },
   "outputs": [],
   "source": [
    "results = find_documents_svd(\"Steven John Wilson (born 3 November 1967) is an English musician, singer, songwriter and record producer, most closely associated with the progressive rock genre\", 10)\n",
    "print_results(results)"
   ]
  },
  {
   "cell_type": "code",
   "execution_count": null,
   "metadata": {
    "scrolled": true
   },
   "outputs": [],
   "source": [
    "results = find_documents_svd(\"songwriter of Porcupine Tree\", 10)\n",
    "print_results(results)"
   ]
  },
  {
   "cell_type": "code",
   "execution_count": null,
   "metadata": {
    "scrolled": true
   },
   "outputs": [],
   "source": [
    "results = find_documents_svd(\"singer and songwriter of Porcupine Tree\", 10)\n",
    "print_results(results)"
   ]
  },
  {
   "cell_type": "code",
   "execution_count": null,
   "metadata": {
    "scrolled": true
   },
   "outputs": [],
   "source": [
    "results = find_documents_svd(\"Steven Wilson\", 10)\n",
    "print_results(results)"
   ]
  },
  {
   "cell_type": "code",
   "execution_count": null,
   "metadata": {
    "scrolled": true
   },
   "outputs": [],
   "source": [
    "results = find_documents_svd(\"cat\", 10)\n",
    "print_results(results)"
   ]
  },
  {
   "cell_type": "code",
   "execution_count": null,
   "metadata": {
    "scrolled": true
   },
   "outputs": [],
   "source": [
    "results = find_documents_svd(\"(Felis catus) is a domestic species of small carnivorous mammal\", 10)\n",
    "print_results(results)"
   ]
  },
  {
   "cell_type": "code",
   "execution_count": null,
   "metadata": {
    "scrolled": true
   },
   "outputs": [],
   "source": [
    "results = find_documents_svd(\"it has a strong flexible body, quick reflexes, sharp teeth and retractable claws adapted to killing small prey\", 10)\n",
    "print_results(results)"
   ]
  },
  {
   "cell_type": "code",
   "execution_count": 441,
   "metadata": {
    "scrolled": true
   },
   "outputs": [
    {
     "name": "stdout",
     "output_type": "stream",
     "text": [
      "Melanism\n",
      "The term melanism refers to black pigment and is derived from the Greek: μελανός. Melanism is the increased development of the dark-colored pigment melanin in the skin or hair. Pseudomelanism, also called abundism, is another variant of pigmentation, identifiable by dark spots or enlarged stripes, which cover a large part of the body of the animal, making it appear melanistic.The morbid deposition of black matter, often of a malignant character causing pigmented tumors, is called melanosis. Adaptation Melanism related to the process of adaptation is called adaptive. Most commonly, dark individuals become fitter to survive and reproduce in their environment as they are better camouflaged. This makes some species less conspicuous to predators, while others, such as black panthers, use it as a foraging advantage during night hunting. Typically, adaptive melanism is heritable: A dominant allele, which is entirely or nearly entirely expressed in the phenotype, is responsible for the excessive amount of melanin. Adaptive melanism has been shown to occur in a variety of animals, including mammals such as squirrels, many felines and canids, and coral snakes. Adaptive melanism can lead to the creation of morphs, the most notable example being the peppered moth, whose evolutionary history in the \n",
      "\n",
      "\n",
      "Ben Small\n",
      "Benjamin Small (born 1971) is a British voice actor. Career Small is best known for voicing Thomas in the UK version of the CGI episodes of the children's television series Thomas & Friends from 2009 to 2015. Small also provided voices for Toby (in which he based the character's voice on Dad's Army actor Clive Dunn) and Ferdinand in the UK version while voicing Rheneas, Flynn, the Troublesome Trucks and Owen in both the UK and US versions of the series. In the US version, Small voiced Stanley and Charlie, who are voiced by Small's co-star Matt Wilkinson in the UK. Small left the show alongside Thomas' US voice Martin Sherman as their contract was terminated and the executives wanted to give Thomas the Tank Engine a fresh new voice. As well as Thomas & Friends Small and fellow actor Keith Wickham previously collaborated by providing the British voices for Watch My Chops from 2004-2006. Prior to that, Small was the voice of Clifford the Big Red Dog's best friend: \"T-Bone\". He also was the voice of Jorge/George and Shun in the spin-off Clifford's Puppy Days. Small also voiced Zorro in the animated TV series Zorro: Generation Z and played \n",
      "\n",
      "\n",
      "Dragon's teeth (fortification)\n",
      "Dragon's teeth (German: Drachenzähne) are square-pyramidal fortifications of reinforced concrete first used during the Second World War to impede the movement of tanks and mechanised infantry. The idea was to slow down and channel tanks into killing zones where they could easily be disposed of by anti-tank weapons. They were employed extensively, particularly on the Siegfried Line. World War II Dragon's teeth were used by several armies in the European Theatre. The Germans made extensive use of them on the Siegfried Line and the Atlantic Wall. Typically, each \"tooth\" was 90 to 120 cm (3 to 4 ft) tall, depending on the precise model. Land mines were often laid between the individual \"teeth\", and further obstacles were constructed along the lines of \"teeth\", such as barbed wire to impede infantry or diagonally-placed steel beams to further hinder tanks. Many were laid in the United Kingdom in 1940–1941, as part of the effort to strengthen the country's defences against a possible German invasion. Behind minefields were the dragon's teeth. They rested on a concrete mat between ten and thirty meters wide, sunk in a meter or two into the ground (to prevent any attempt to tunnel underneath them and place explosive \n",
      "\n",
      "\n",
      "Dentures\n",
      "Dentures (also known as false teeth) are prosthetic devices constructed to replace missing teeth, and are supported by the surrounding soft and hard tissues of the oral cavity. Conventional dentures are removable (removable partial denture or complete denture). However, there are many denture designs, some which rely on bonding or clasping onto teeth or dental implants (fixed prosthodontics). There are two main categories of dentures, the distinction being whether they are used to replace missing teeth on the mandibular arch or on the maxillary arch. Medical uses Dentures do not feel like real teeth, nor do they function like real teeth.Dentures can help people through: Mastication or chewing ability is improved by replacing edentulous areas with denture teeth. Aesthetics, because the presence of teeth gives a natural appearance to the face, and wearing a denture to replace missing teeth provides support for the lips and cheeks and corrects the collapsed appearance that results from the loss of teeth. Pronunciation, because replacing missing teeth, especially the anteriors, enables patients to speak better. There is especially improvement in pronouncing words containing sibilants or fricatives. Self-esteem, because improved looks and speech boost confidence in the ability to interact socially. Complications Stomatitis Denture stomatitis \n",
      "\n",
      "\n",
      "Parent company\n",
      "A parent company is a company that owns enough voting stock in another firm to control management and operation by influencing or electing its board of directors. Companies that operate under this management are deemed subsidiaries of the parent company. By country Australia The parent company–subsidiary company relationship is defined by Part 1.2, Division 6, Section 46 of the Corporations Act 2001 (Cth), which states: A body corporate (in this section called the first body) is a subsidiary of another body corporate if, and only if: (a) the other body: (i) controls the composition of the first body's board; or (ii) is in a position to cast, or control the casting of, more than one-half of the maximum number of votes that might be cast at a general meeting of the first body; or (iii) holds more than one-half of the issued share capital of the first body (excluding any part of that issued share capital that carries no right to participate beyond a specified amount in a distribution of either profits or capital); or (b) the first body is a subsidiary of a subsidiary of the other body. Canada Lawyer Michael Finley has stated that \"the emerging trend that \n",
      "\n",
      "\n",
      "Sharpness railway station\n",
      "Sharpness railway station served the village of Sharpness in Gloucestershire, England. History The station was on the Sharpness Branch Line, part of the Midland Railway, which connected the Bristol and Gloucester Railway main line at Berkeley Road station with the docks at Sharpness. The branch line was opened to freight traffic in August 1875 with passenger services starting a year later.Sharpness station was originally a terminus for the passenger services and was no more than a temporary platform next to the docks. But in 1879, the Sharpness branch became a through-route with the opening of the Severn Railway Bridge, connecting Sharpness with the Forest of Dean side of the Severn Estuary and enabling through services between Berkeley Road and Lydney Town railway station, some of which ran on to Lydbrook. The new station, built on a curve, had a brick building on the \"up\" platform (towards Berkeley) and a small shelter on the down platform. Children from Sharpness attending school in Lydney were among the passengers. After 1931, the line was singled. Through-services to Lydney on the line ceased abruptly in October 1960 when the Severn Railway Bridge was damaged beyond economic repair in a shipping accident, and Sharpness resumed \n",
      "\n",
      "\n",
      "Martin Sharp\n",
      "Martin Ritchie Sharp (21 January 1942 – 1 December 2013) was an Australian artist, cartoonist, songwriter and film-maker. Sharp was called Australia's foremost pop artist. Sharp co-wrote one of Cream's best known songs, \"Tales of Brave Ulysses\", created the cover art for Cream's Disraeli Gears and Wheels of Fire albums. Career Sharp was born in Bellevue Hill, New South Wales in 1942, and educated at Cranbrook private school, where one of his teachers was the artist Justin O'Brien. In 1960, Sharp enrolled at the National Art School at East Sydney. He also designed at that time a controversial poster titled \"Rasputin & his London Popes\" for an antique shop in Barcelona run by a young Spanish photographer named Alexis de Vilar. Sharp designed at least two posters for Australia's premier contemporary circus, Circus Oz including the iconic 'World-famous'/'Non-Stop Energy' design. Later interests For the most of the 1970s and beyond, Sharp's work and life was dominated by two major interests: Sydney's Luna Park and the entertainer Tiny Tim. Luna Park Sharp's involvement with the restoration of Luna Park in the 1970s proved a bittersweet experience. A year later, as pressure mounted to redevelop the prime harbourside site, an arson attack \n",
      "\n",
      "\n",
      "In Order of Disappearance\n",
      "In Order of Disappearance (Norwegian: Kraftidioten) is a 2014 Norwegian black comedy action film directed by Hans Petter Moland and starring Stellan Skarsgård. The film had its premiere in the competition section of the 64th Berlin International Film Festival. Cold Pursuit, an English-language adaptation, also directed by Moland, was released in 2019. Plot Nils Dickman (Stellan Skarsgård) is a snow plow driver in the fictional town of Tyos, Norway, just elected citizen of the year. His life, however, is shattered by the death of his son Ingvar, found dead by overdose of heroin. The police do not investigate but Dickman is sure that his son wasn't a drug user. When he's about to kill himself he learns from Finn, his son's friend, that Ingvar was mistakenly killed by a gang of drug dealers who actually intended to kill Finn. So Nils begins to hunt for his son's murderers. He finds Jappe, one of the two killers, and kills him after extracting the name of his accomplice, Ronaldo. Ronaldo tells Nils the name of the drug carrier, Strike, before being killed too. After having killed and concealed the body of the three gangsters and destroying 15 kilos of cocaine, Nils goes \n",
      "\n",
      "\n",
      "Human body\n",
      "The human body is the structure of a human being. It is composed of many different types of cells that together create tissues and subsequently organ systems. They ensure homeostasis and the viability of the human body. It comprises a head, neck, trunk (which includes the thorax and abdomen), arms and hands, legs and feet. The study of the human body involves anatomy, physiology, histology and embryology. The body varies anatomically in known ways. Physiology focuses on the systems and organs of the human body and their functions. Many systems and mechanisms interact in order to maintain homeostasis, with safe levels of substances such as sugar and oxygen in the blood. The body is studied by health professionals, physiologists, anatomists, and by artists to assist them in their work. Composition The human body is composed of elements including hydrogen, oxygen, carbon, calcium and phosphorus. These elements reside in trillions of cells and non-cellular components of the body. The adult male body is about 60% water for a total water content of some 42 litres. This is made up of about 19 litres of extracellular fluid including about 3.2 litres of blood plasma and about 8.4 litres of interstitial fluid, and \n",
      "\n",
      "\n",
      "Cat\n",
      "The cat (Felis catus) is a domestic species of small carnivorous mammal. It is the only domesticated species in the family Felidae and is often referred to as the domestic cat to distinguish it from the wild members of the family. A cat can either be a house cat, a farm cat or a feral cat; the latter ranges freely and avoids human contact. Domestic cats are valued by humans for companionship and their ability to hunt pests such as rodents. About 60 cat breeds are recognized by various cat registries.The cat is similar in anatomy to the other felid species: it has a strong flexible body, quick reflexes, sharp teeth and retractable claws adapted to killing small prey. Its night vision and sense of smell are well developed. Cat communication includes vocalizations like meowing, purring, trilling, hissing, growling and grunting as well as cat-specific body language. It is a solitary hunter but a social species. It can hear sounds too faint or too high in frequency for human ears, such as those made by mice and other small mammals. It is a predator that is most active at dawn and dusk. It secretes and perceives pheromones.Female domestic cats can \n",
      "\n",
      "\n"
     ]
    }
   ],
   "source": [
    "results = find_documents_normalized(\"it has a strong flexible body, quick reflexes, sharp teeth and retractable claws adapted to killing small prey\", 10)\n",
    "print_results(results)"
   ]
  },
  {
   "cell_type": "code",
   "execution_count": 405,
   "metadata": {
    "scrolled": true
   },
   "outputs": [
    {
     "name": "stdout",
     "output_type": "stream",
     "text": [
      "National Coalition Against Domestic Violence\n",
      "National Coalition Against Domestic Violence (NCADV) is a 501(c)(3) nonprofit organization with the mission to be the voice of victims and survivors of domestic violence. National Coalition Against Domestic Violence's vision is to create a culture where domestic violence is not tolerated and where society empowers victims and survivors while holding abusers accountable. Current Work Legislative Policy Advocacy National Coalition Against Domestic Violence works with members of Congress to improve legislation dealing with domestic violence. Responding to the problem of domestic violence offenders who fight with victims for custody of their children, National Coalition Against Domestic Violence advocates for legislation that keeps the best interest of the children in mind.In 1994, National Coalition Against Domestic Violence was part of a team to pass the Violence Against Women Act to provide funding for investigation into domestic violence and prosecution of offenders.National Coalition Against Domestic Violence has also helped with the Family Violence Prevention and Services Act, International Violence Against Women Act, and Legislative Action Day. Current Programs Cosmetic and Reconstructive Support The Cosmetic and Reconstructive Support Program was created to connect survivors of domestic violence to medical providers around the country. Pro bono services may be available to those in need \n",
      "\n",
      "\n",
      "Oak\n",
      "An oak is a tree or shrub in the genus Quercus (;; Latin \"oak tree\") of the beech family, Fagaceae. There are approximately 600 extant species of oaks. The common name \"oak\" also appears in the names of species in related genera, notably Lithocarpus (stone oaks), as well as in those of unrelated species such as Grevillea robusta (silky oaks) and the Casuarinaceae (she-oaks). The genus Quercus is native to the Northern Hemisphere, and includes deciduous and evergreen species extending from cool temperate to tropical latitudes in the Americas, Asia, Europe, and North Africa. North America contains the largest number of oak species, with approximately 90 occurring in the United States, while Mexico has 160 species of which 109 are endemic. The second greatest center of oak diversity is China, which contains approximately 100 species. Oaks have spirally arranged leaves, with lobate margins in many species; some have serrated leaves or entire leaves with smooth margins. Many deciduous species are marcescent, not dropping dead leaves until spring. In spring, a single oak tree produces both male flowers (in the form of catkins) and small female flowers, meaning that the trees are monoecious. The fruit is a nut called an acorn \n",
      "\n",
      "\n",
      "Mikrogeophagus\n",
      "Mikrogeophagus is a genus of small cichlids native to the Amazon and Orinoco basins in South America. Both species are popular with aquarists, especially M. ramirezi. These species spawn on flat rocks or leaves and not in caves like fishes from the closely related cichlid genus Apistogramma. Species The currently recognized species in this genus are: Mikrogeophagus altispinosus (Haseman, 1911) (Bolivian Ram) Mikrogeophagus ramirezi (G. S. Myers & Harry, 1948) (ram cichlid) == References == \n",
      "\n",
      "\n",
      "Psychoactive cactus\n",
      "Many cacti are known to be psychoactive, containing phenethylamine alkaloids such as mescaline However, the two main ritualistic (folkloric) genera are Echinopsis, of which the most psychoactive species is the San Pedro cactus (Echinopsis pachanoi, syn. Trichocereus pachanoi), and Lophophora, with peyote (Lophophora williamsii) being the most psychoactive species. Several other species pertaining to other genera are also psychoactive, though not always used with a ritualistic intent. Ethnic Use Several world regions have historically used psychoactive cacti for their properties, particularly Indigenous peoples from Central and South America, such as in Mexico and the Andes region. For this purpose (which includes commercial harvesting) cacti plants are specifically grown in the millions. Lophophora williamsii (peyote) is used by the Native American Church (aka Peyotism). Species \"Peyotes\" Lophophora williamsii (peyote) Other \"peyotes\" Ariocarpus fissuratus Coryphantha compacta Pelecyphora aselliformis; strobiliformis Lophophora diffusa Ariocarpus retusus Ariocarpus agavoides; kotschoubeyanus; and other species Astrophytum asterias; capricorne; myriostigma; and other species Aztekium ritteri; and other species Coryphantha elephantidens; macromeris (var. runyonii); palmeri; and other species Echinocactus grandis; grusonii; platyacanthus; visnaga; and other species Epithelantha micromeris; and other species Leuchtenbergia principis'; and other species Lophophora species Mammillaria craigii; grahamii (var. oliviae); heyderi; (Dolichothele) longimamma; (Solisia) pectinifera; (Mamillopsis) senilis; \n",
      "\n",
      "\n",
      "Bat\n",
      "Bats are mammals of the order Chiroptera; with their forelimbs adapted as wings, they are the only mammals capable of true and sustained flight. Bats are more manoeuvrable than birds, flying with their very long spread-out digits covered with a thin membrane or patagium. The smallest bat, and arguably the smallest extant mammal, is Kitti's hog-nosed bat, which is 29–34 mm (1.14–1.34 in) in length, 150 mm (5.91 in) across the wings and 2–2.6 g (0.07–0.09 oz) in mass. The largest bats are the flying foxes and the giant golden-crowned flying fox, Acerodon jubatus, which can weigh 1.6 kg (4 lb) and have a wingspan of 1.7 m (5 ft 7 in). The second largest order of mammals after rodents, bats comprise about 20% of all classified mammal species worldwide, with over 1,200 species. These were traditionally divided into two suborders: the largely fruit-eating megabats, and the echolocating microbats. But more recent evidence has supported dividing the order into Yinpterochiroptera and Yangochiroptera, with megabats as members of the former along with several species of microbats. Many bats are insectivores, and most of the rest are frugivores (fruit-eaters). A few species feed on animals other than insects; for example, the vampire \n",
      "\n",
      "\n",
      "Species description\n",
      "A species description is a formal description of a newly discovered species, usually in the form of a scientific paper. Its purpose is to give a clear description of a new species of organism and explain how it differs from species which have been described previously or are related. The species description often contains photographs or other illustrations of the type material and states in which museums it has been deposited. The publication in which the species is described gives the new species a formal scientific name. Some 1.9 million species have been identified and described, out of some 8.7 million that may actually exist. Millions more have become extinct. Naming process A name of a new species becomes valid (available in zoological terminology) with the date of publication of its formal scientific description. Once the scientist has performed the necessary research to determine that the discovered organism represents a new species, the scientific results are summarized in a scientific manuscript, either as part of a book, or as a paper to be submitted to a scientific journal. A scientific species description must fulfill several formal criteria specified by the nomenclature codes, e.g. selection of at least one type specimen. \n",
      "\n",
      "\n",
      "Entomologia Carniolica\n",
      "Entomologia Carniolica exhibens insecta Carnioliae indigena et distributa in ordines, genera, species, varietates is a taxonomic work by Giovanni Antonio Scopoli, published in Vienna in 1763. As well as describing hundreds of new species, Entomologia Carniolica contained observations on the species' biology, including the first published account of queen bees mating outside the hive. Classification In contrast to his predecessors Carl Linnaeus and Johan Christian Fabricius, who had used the structure of the insect wing and the structure of the insect mouthparts, respectively, as the main means of classifying arthropods, Scopoli favoured a more holistic approach.In Entomologia Carniolica, Scopoli described 1153 species of \"insects\" (a term which at that time included many arthropods), divided into seven orders: Coleoptera (beetles and orthopteroid insects) – species 1–329 Proboscidea (= Hemiptera) – species 330–418 Lepidoptera – species 419–676 Neuroptera – species 677–712 Aculeata (= Hymenoptera) – species 713–838 Halterata (= Diptera) – species 839–1024 Pedestria (various wingless animals, including silverfish, fleas, mites, arachnids, crustaceans and myriapods) – species 1025–1153 Taxa The animals described in Entomologia Carniolica were found in the Duchy of Carniola (also called the Krain), an area at that time under the control of the Austro-Hungarian Empire. Nowadays, it is the \n",
      "\n",
      "\n",
      "Endangered species\n",
      "An endangered species is a species that is very likely to become extinct in the near future, either worldwide or in a particular political jurisdiction. Endangered species may be at risk due to factors such as habitat loss, poaching and invasive species. The International Union for Conservation of Nature (IUCN) Red List lists the global conservation status of many species, and various other agencies assess the status of species within particular areas. Many nations have laws that protect conservation-reliant species which, for example, forbid hunting, restrict land development, or create protected areas. Some endangered species are the target of extensive conservation efforts such as captive breeding and habitat restoration. Conservation status The conservation status of a species indicates the likelihood that it will become extinct. Many factors are considered when assessing the status of a species; e.g., such statistics as the number remaining, the overall increase or decrease in the population over time, breeding success rates, or known threats. The IUCN Red List of Threatened Species is the best-known worldwide conservation status listing and ranking system.Over 50% of the world's species are estimated to be at risk of extinction. Internationally, 195 countries have signed an accord to create Biodiversity Action \n",
      "\n",
      "\n",
      "Introduced species\n",
      "An introduced species, alien species, exotic species, foreign species, non-indigenous species, or non-native species is a species living outside its native distributional range, but which has arrived there by human activity, either deliberate or accidental. Non-native species can have various effects on the local ecosystem. Introduced species that become established and spread beyond the place of introduction are considered \"naturalized\". The process of human-caused introduction is distinguished from biological colonization, in which species spread to new areas through \"natural\" (non-human) means such as storms and rafting. The impact of introduced species is highly variable. Some have a negative effect on a local ecosystem, while other introduced species may have no negative effect or only minor impact. Some species have been introduced intentionally to combat pests. They are called biocontrols and may be regarded as beneficial as an alternative to pesticides in agriculture for example. In some instances the potential for being beneficial or detrimental in the long run remains unknown. The effects of introduced species on natural environments have gained much scrutiny from scientists, governments, farmers, and others. Terminology: introduced species and subsets The formal definition of an introduced species, from the United States Environmental Protection Agency, is A species \n",
      "\n",
      "\n",
      "Cat\n",
      "The cat (Felis catus) is a domestic species of small carnivorous mammal. It is the only domesticated species in the family Felidae and is often referred to as the domestic cat to distinguish it from the wild members of the family. A cat can either be a house cat, a farm cat or a feral cat; the latter ranges freely and avoids human contact. Domestic cats are valued by humans for companionship and their ability to hunt pests such as rodents. About 60 cat breeds are recognized by various cat registries.The cat is similar in anatomy to the other felid species: it has a strong flexible body, quick reflexes, sharp teeth and retractable claws adapted to killing small prey. Its night vision and sense of smell are well developed. Cat communication includes vocalizations like meowing, purring, trilling, hissing, growling and grunting as well as cat-specific body language. It is a solitary hunter but a social species. It can hear sounds too faint or too high in frequency for human ears, such as those made by mice and other small mammals. It is a predator that is most active at dawn and dusk. It secretes and perceives pheromones.Female domestic cats can \n",
      "\n",
      "\n"
     ]
    }
   ],
   "source": [
    "results = find_documents_normalized(\"(Felis catus) is a domestic species of small carnivorous mammal\", 10)\n",
    "print_results(results)"
   ]
  },
  {
   "cell_type": "code",
   "execution_count": 406,
   "metadata": {
    "scrolled": true
   },
   "outputs": [
    {
     "name": "stdout",
     "output_type": "stream",
     "text": [
      "Joshua Tree, California\n",
      "Joshua Tree is a census-designated place (CDP) in San Bernardino County, California, United States. The population was 7,414 at the 2010 census. At approximately 2,700 feet (820 meters) above sea level, Joshua Tree and its surrounding communities are located in the High Desert of California. The center of the business district in Joshua Tree is on California State Route 62. Geography Joshua Tree is located in the Mojave Desert at 34°8′N 116°19′W.According to the United States Census Bureau, the CDP has a total all land area of 95.9 km² (37.0 mi²). Joshua Tree, California is home to Joshua Tree National Park. Joshua Tree shares the border to its east with Twentynine Palms, California, its western border with Yucca Valley, California, its northwestern border with Landers, California, and its southern border is Coachella Valley, California. Demographics 2010 The 2010 United States Census reported that Joshua Tree had a population of 7,414. The population density was 200.1 people per square mile (77.3/km²). The racial makeup of Joshua Tree was 6,176 (83.3%) White (73.9% Non-Hispanic White), 234 (3.2%) African American, 84 (1.1%) Native American, 104 (1.4%) Asian, 18 (0.2%) Pacific Islander, 368 (5.0%) from other races, and 430 (5.8%) from two or more \n",
      "\n",
      "\n",
      "Natalie Cole\n",
      "Natalie Maria Cole (February 6, 1950 – December 31, 2015) was an American singer, songwriter, and actress. Cole was the daughter of American singer and jazz pianist Nat King Cole. She rose to success in the mid-1970s as an R&B singer with the hits \"This Will Be\", \"Inseparable\" (1975), and \"Our Love\" (1977). She returned as a pop singer on the 1987 album Everlasting and her cover of Bruce Springsteen's \"Pink Cadillac\". In the 1990s, she sang traditional pop by her father, resulting in her biggest success, Unforgettable... with Love, which sold over seven million copies and won her seven Grammy Awards. She sold over 30 million records worldwide. On December 31, 2015, Cole died at the age of 65 at Cedars-Sinai Medical Center in Los Angeles, California, due to congestive heart failure. Early life Natalie Cole was born at Cedars of Lebanon Hospital in Los Angeles, to American singer and jazz pianist Nat King Cole and former Duke Ellington Orchestra singer Maria Hawkins Ellington, and raised in the affluent Hancock Park district of Los Angeles. Regarding her childhood, Cole referred to her family as \"the black Kennedys\" and was exposed to many great singers of jazz, soul and blues. \n",
      "\n",
      "\n",
      "Steven Wilson\n",
      "Steven John Wilson (born 3 November 1967) is an English musician, singer, songwriter and record producer, most closely associated with the progressive rock genre. Currently a solo artist, he became known as the founder, lead guitarist, lead vocalist and songwriter of the band Porcupine Tree, as well as being a member of several other bands. Wilson is a self-taught composer, producer, audio engineer, guitar and keyboard player, and plays other instruments as needed, including bass guitar, autoharp, hammered dulcimer and flute. Despite being mainly associated with progressive rock, his influences and work have encompassed a diverse range of genres including psychedelia, pop, extreme metal, electronic and jazz, among others, shifting his musical direction through his albums. His concerts incorporate quadraphonic sound and elaborate visuals. He has also worked with artists such as Opeth, King Crimson, Pendulum, Jethro Tull, Andy Partridge, Yes, Fish, Marillion, Tears for Fears, Roxy Music and Anathema. In a career spanning more than 30 years, Wilson has made music prolifically and earned critical acclaim. His honours include four nominations for Grammy Awards, twice with Porcupine Tree, with his collaborative band Storm Corrosion and as a soloist on one occasion. In 2015, he received three awards at the \n",
      "\n",
      "\n",
      "Songwriters Hall of Fame\n",
      "The Songwriters Hall of Fame (SHOF) was founded in 1969 by songwriter Johnny Mercer and music publisher/songwriter Abe Olman and publisher/executive Howie Richmond to honor those whose work represents and maintains the heritage and legacy of a spectrum of the most beloved songs from the world's popular music songbook. It not only celebrates these established songwriters, but is also involved on the development of new songwriting talent through workshops, showcases and scholarships. There are many programs designed to teach and discover new songwriters. Nile Rodgers serves as the organization's chairman.The Hall of Fame only existed as an online virtual collection until 2010, when it was first put on display as a physical gallery inside The Grammy Museum in Los Angeles. With an under-construction basement installation at the Brill Building in New York, the Hall does not have a permanent place and the awards are not televised.Through 2019, 461 individuals had been inducted into the SHOF. There are numerous examples of collaborating songwriters being inducted in unison, with each person being considered a separate entrant. The inaugural year featured 120 inductees, many of whom had a professional partnership, such as Rodgers and Hammerstein. Burt Bacharach and Hal David followed in 1972. \n",
      "\n",
      "\n",
      "Ailanthus altissima\n",
      "Ailanthus altissima , commonly known as tree of heaven, ailanthus, varnish tree, or in Chinese as chouchun (Chinese: 臭椿; pinyin: chòuchūn; literally: 'foul smelling tree'), is a deciduous tree in the family Simaroubaceae. It is native to both northeast and central China, as well as Taiwan. Unlike other members of the genus Ailanthus, it is found in temperate climates rather than the tropics. The tree grows rapidly and is capable of reaching heights of 15 m (50 feet) in 25 years. While the species rarely lives more than 50 years, some specimens exceed 100 years of age. Its remarkable suckering ability makes it possible for this tree to clone itself indefinitely. It is considered a noxious weed and vigorous invasive species, and one of the worst invasive plant species in Europe and North America. Description A. altissima is a medium-sized tree that reaches heights between 17 and 27 metres (56 and 89 ft) with a diameter at breast height of about 1 m (40 inches). The bark is smooth and light grey, often becoming somewhat rougher with light tan fissures as the tree ages. The twigs are stout, smooth to lightly pubescent, and reddish or chestnut in color. They have \n",
      "\n",
      "\n",
      "Tim Bowness\n",
      "Tim Bowness (born 29 November 1963) is an English singer and songwriter primarily known for his work as part of the band No-Man, a long-term project formed in 1987 with Porcupine Tree's Steven Wilson. Music career In addition to recording albums with No-Man (for record labels such as One Little Indian, Sony/Epic, and Kscope), Bowness has appeared on albums by US artists OSI and David Torn, Italian artists Alice, Saro Cosentino, Fjieri, Nosound and Stefano Panunzi, Norwegian groups White Willow and The Opium Cartel, and others. In 1994, he recorded an album with Porcupine Tree/Japan/Rain Tree Crow keyboard player Richard Barbieri, called Flame.Bowness has been a core or occasional member of several other bands. He has sung for German band Centrozoon and British electro-improvisers Darkroom on the more vocal-orientated projects performed and released by each group. He is the lead singer and guitarist for Henry Fool and also sings for Memories of Machines. He was singer (and occasional second guitarist) for Samuel Smiles between 1992 and 2000. Bowness also has a longstanding duo collaboration with Peter Chilvers (with whom he has worked in Samuel Smiles and Henry Fool). This project has so far produced one album, 2002's California, Norfolk. Bowness's \n",
      "\n",
      "\n",
      "Joshua Tree\n",
      "Yucca brevifolia is a plant species belonging to the genus Yucca. It is tree-like in habit, which is reflected in its common names: Joshua tree, yucca palm, tree yucca, and palm tree yucca.This monocotyledonous tree is native to the arid southwestern United States, specifically California, Arizona, Utah, and Nevada, where it is confined mostly to the Mojave Desert between 400 and 1,800 m (1,300 and 5,900 ft) elevation. It thrives in the open grasslands of Queen Valley and Lost Horse Valley in Joshua Tree National Park. A dense Joshua tree forest also exists on the Cima Dome (Cima, California) in the Mojave National Preserve; northeast of Kingman, Arizona, in Mohave County, Arizona; as well as along U.S. 93 between the towns of Wickenburg and Wikieup, and designated as the Joshua Tree Parkway of Arizona. The Joshua Tree has barely any leaves, just a few balls on the edges. The Joshua tree can appear in the Mojave desert most of the time. It rarely appears in Death Valley. Taxonomy The Joshua tree is also called izote de desierto (Spanish, \"desert dagger\"). It was first formally described in the botanical literature as Yucca brevifolia by George Engelmann in 1871 as part of \n",
      "\n",
      "\n",
      "Songwriter\n",
      "A songwriter is a musician who professionally composes musical compositions and writes lyrics for songs. A songwriter can also be called a composer, although the latter term tends to be used mainly for individuals from the classical music genre and film scoring, but is also associated writing and composing the original musical composition or musical bed. A songwriter who mainly writes the lyrics for a song is referred to as lyricist. The pressure from the music industry to produce popular hits means that songwriting is often an activity for which the tasks are distributed between a number of people. For example, a songwriter who excels at writing lyrics might be paired with a songwriter with the task of creating original melodies. Pop songs may be composed by group members from the band or by staff writers – songwriters directly employed by music publishers. Some songwriters serve as their own music publishers, while others have outside publishers.The old-style apprenticeship approach to learning how to write songs is being supplemented by university degrees and college diplomas and \"rock schools\". Knowledge of modern music technology (sequencers, synthesizers, computer sound editing), songwriting elements and business skills are now often necessary requirements for a songwriter. \n",
      "\n",
      "\n",
      "Tree sitting\n",
      "Tree sitting is a form of environmentalist civil disobedience in which a protester sits in a tree, usually on a small platform built for the purpose, to protect it from being cut down (speculating that loggers will not endanger human lives by cutting an occupied tree). Supporters usually provide the tree sitters with food and other supplies. Tree sitting is often used as a stalling tactic, to prevent the cutting of trees while lawyers fight in the courts to secure the long-term victories. Tree-sitting was once a children's pastime. In the early 1930s, when endurance contests raged across the U.S., it became a child's contest for kids to climb into their backyard trees and, serviced by siblings and local businesses, attempt to win prizes for the longest sit. Extractions Tree-sitters in trees claimed by Pacific Lumber in Humboldt County have been subject to forced removal by hired extractors. The practice started with a single extractor in the late 1990s but in 2003 Pacific Lumber hired teams of climbers to remove dozens of tree-sitters, particularly in the Freshwater area East of Eureka, California.Most of the extractions in Northern California are done under the leadership of Eric Schatz of Schatz Tree Service, \n",
      "\n",
      "\n",
      "2017 in music\n",
      "This topic covers notable events and articles related to 2017 in music. Specific locations Specific genres Albums released Awards Bands formed Bands reformed Bands on hiatus Bands disbanded Deaths January 1 – Memo Morales (79), Venezuelan rumba singer 2 – Auriel Andrew (69), Indigenous Australian country singer 4 – Bade Fateh Ali Khan (82), Pakistani classical music and Khyal singer 6 – Sylvester Potts (78), American R&B singer (The Contours) 7 – Jerzy Kossela (74), Polish rock guitarist (Czerwone Gitary) 8 – Peter Sarstedt (75), British folk pop singer 10 – Buddy Greco (90), American jazz singer and pianist 11 – Tommy Allsup (83), American rock and roll guitarist 13 Horacio Guarany (91), Argentine folklore singer Richie Ingui (69), American soul singer (Soul Survivors) 14 – John Boudreaux (80), American jazz and soul drummer 15 – Greg Trooper (61), American alternative country singer and songwriter 16 William Onyeabor (70), Nigerian funk singer-songwriter Steve Wright (66), American power pop bassist and songwriter (The Greg Kihn Band) 18 – Mike Kellie (69), British psychedelic rock and power pop drummer (Spooky Tooth, The Only Ones) 19 – Loalwa Braz (63), Brazilian pop and lambada singer (Kaoma) 20 Ronald \"Bingo\" Mundy (76), American singer \n",
      "\n",
      "\n"
     ]
    }
   ],
   "source": [
    "results = find_documents_normalized(\"singer and songwriter of Porcupine Tree\", 10)\n",
    "print_results(results)"
   ]
  },
  {
   "cell_type": "code",
   "execution_count": 407,
   "metadata": {
    "scrolled": true
   },
   "outputs": [
    {
     "name": "stdout",
     "output_type": "stream",
     "text": [
      "Harold Wilson\n",
      "James Harold Wilson, Baron Wilson of Rievaulx (11 March 1916 – 24 May 1995) was a British Labour politician who served as Prime Minister of the United Kingdom from 1964 to 1970 and 1974 to 1976. Entering Parliament in 1945, Wilson was appointed a parliamentary secretary in the Attlee ministry and rose quickly through the ministerial ranks; he became Secretary for Overseas Trade in 1947 and was elevated to Cabinet shortly thereafter as President of the Board of Trade. In opposition to the next Conservative government, he served as Shadow Chancellor (1955–1961) and Shadow Foreign Secretary (1961–1963). After Labour Party leader Hugh Gaitskell died suddenly in 1963, Wilson won the subsequent leadership election. After narrowly winning the 1964 general election, Wilson saw an increased majority in a snap election in 1966. Wilson's first period as Prime Minister coincided with a period of low unemployment and relative economic prosperity, though hindered by significant problems with Britain's external balance of payments. In 1969 he sent British troops to Northern Ireland. After losing the 1970 election to Edward Heath, he spent four years as Leader of the Opposition before the February 1974 election resulted in a hung parliament. After Heath's talks with the \n",
      "\n",
      "\n",
      "Dan Wilson (musician)\n",
      "Dan Wilson (born May 20, 1961) is an American musician, singer, songwriter, producer, and visual artist. His songwriting resume includes \"Closing Time\", which he wrote for his band, Semisonic, \"Not Ready to Make Nice\" (co-written with the Dixie Chicks) and \"Someone like You\" (co-written with Adele). He earned a Grammy nomination for “Closing Time” (Best Rock Song) and won Grammys for Song of the Year (“Not Ready to Make Nice” in 2007) and Album of the Year (which he won in 2012 as one of the producers of Adele’s 21). In addition to being the leader of Semisonic, Wilson has released several solo recordings, including the 2017 release Re-Covered. He was also a member of the Minneapolis psychedelic rock band Trip Shakespeare. Early years Wilson is originally from St. Louis Park, Minnesota. Wilson attended Harvard University, where he studied visual arts with a focus on printmaking and from which he graduated B.A. summa cum laude in Visual and Environmental Studies in 1983, while he resided in Dunster House. Wilson is an accomplished artist, and won the first Louis Sudler Prize for Outstanding Artistic Talent and Achievement in 1983. While in college, he began collaborating with his brother, singer-songwriter Matt Wilson, \n",
      "\n",
      "\n",
      "The B-52s\n",
      "The B-52s (styled as The B-52's prior to 2008) are an American new wave band formed in Athens, Georgia, in 1976. The original line-up consisted of Fred Schneider (vocals, percussion), Kate Pierson (vocals, keyboards), Cindy Wilson (vocals, percussion), Ricky Wilson (guitar), and Keith Strickland (drums, guitar, keyboards). Ricky Wilson died from AIDS-related illness in 1985, and Strickland switched from drums to lead guitar. The band also added touring members for albums and live performances. The group evoked a \"thrift shop aesthetic\", in the words of Bernard Gendron, by drawing from 1950s and 1960s pop sources, trash culture, and rock and roll. Schneider, Pierson, and Wilson sometimes use call-and-response-style vocals (Schneider's often humorous sprechgesang contrasting with the melodic harmonies of Pierson and Wilson), and their guitar- and keyboard-driven instrumentation composes their trademark sound which was also set apart from their contemporaries by the unusual guitar tunings used by Ricky Wilson on their earlier albums. The band has had many hits, including \"Rock Lobster\", \"Planet Claire\", \"Private Idaho\", \"Whammy Kiss\", \"Party Out of Bounds\", \"Wig\", \"Love Shack\" and \"Roam\". History 1976–1979: Formation and early years The B-52's were formed in 1976 when vocalist Cindy Wilson, guitarist Ricky Wilson (her elder brother), keyboardist \n",
      "\n",
      "\n",
      "Ray Wilson (musician)\n",
      "Raymond Wilson (born 8 September 1968) is a Scottish singer and guitarist, best known as vocalist in the post-grunge band Stiltskin, and in Genesis from 1996 to 1998. Early career/Stiltskin Wilson started off in a band called Guaranteed Pure in the 1990s, which featured himself along with Paul Holmes (keyboards), Steve Wilson (guitars), John Haimes (bass) and Chris Cavanagh (drums). They released an album called Swing Your Bag, the title track of which was included on a compilation album on the label of Fish entitled The Funny Farm Project : Outpatients '93. He then joined Stiltskin; they released one album and had a No. 1 hit in the UK with the single \"Inside\". Genesis Wilson joined Genesis as the band's lead singer after Phil Collins officially announced his departure in March 1996. Genesis founder members Tony Banks and Mike Rutherford were handed a CD of the Stiltskin album The Mind's Eye from Virgin Records executives. They were impressed with Wilson's vocal abilities and had their manager, Tony Smith, contact him for an audition. Wilson was announced as the new lead singer of Genesis in June 1997. Their only album with Wilson, ...Calling All Stations..., was released that September and became \n",
      "\n",
      "\n",
      "Owen Wilson\n",
      "Owen Cunningham Wilson (born November 18, 1968) is an American actor, producer, and screenwriter. He has had a long association with filmmaker Wes Anderson, with whom he shared writing and acting credits for Bottle Rocket (1996), Rushmore (1998), and The Royal Tenenbaums (2001), the latter of which earned him a nomination for the Academy Award for Best Original Screenplay. He has appeared in a number of Frat Pack comedies and voiced Lightning McQueen in the Cars franchise. His older brother Andrew and younger brother Luke are also actors. Early life Wilson was born in Dallas, Texas on November 18, 1968, the middle of three sons of photographer Laura Wilson (née Cunningham) (born 1939) and Robert Andrew Wilson (1941–2017), an advertising executive and operator of a public television station. His parents, of Irish descent, were originally from Massachusetts. Wilson attended New Mexico Military Institute and the University of Texas at Austin, where he pursued a Bachelor of Arts degree in English. Career 1990s After his film debut in Bottle Rocket (1996), Wilson co-wrote with Wes Anderson the script for Anderson's next two directorial films, Rushmore and The Royal Tenenbaums, for which they garnered an Oscar nomination for Best Original Screenplay. Wilson \n",
      "\n",
      "\n",
      "Jackie Wilson\n",
      "Jack Leroy Wilson Jr. (June 9, 1934 – January 21, 1984) was an American soul singer and performer. A tenor with a four-octave range, Wilson was a prominent figure in the transition of rhythm and blues into soul. Wilson was considered a master showman and one of the most dynamic singers and performers in pop, R&B, and rock & roll history, earning the nickname \"Mr. Excitement\". Wilson gained initial fame as a member of the R&B vocal group Billy Ward and His Dominoes. He went solo in 1957 and scored over 50 chart singles spanning the genres of R&B, pop, soul, doo-wop and easy listening, including 16 R&B Top 10 hits, in which six R&B of the repertoire ranked as number ones. On the Billboard Hot 100, Wilson scored 14 top 20 pop hits, six of which reached the top 10. Jackie Wilson was one of the most important and influential musical artists of his generation. A two-time Grammy Hall of Fame Inductee, and winner of the Rhythm and Blues Foundation's special Legacy Tribute Award in 2003, Jackie Wilson was inducted to the Rock and Roll Hall of Fame in 1987. In 2004, Rolling Stone magazine ranked Jackie Wilson #69 \n",
      "\n",
      "\n",
      "Wilson Phillips\n",
      "Wilson Phillips is an American vocal group consisting of Carnie Wilson, Wendy Wilson, and Chynna Phillips, the daughters of Brian Wilson of The Beach Boys and of John and Michelle Phillips of The Mamas & the Papas, respectively. Their 1990 eponymous debut album sold over 10 million copies worldwide and placed three number-one singles on the Billboard Hot 100, making the trio the best-selling female group at the time. In 1990, the group won the Billboard Music Award for Hot 100 Single of the Year for \"Hold On\", and in addition was nominated for five Grammy Awards and two American Music Awards. History 1989–91: Formation and Wilson Phillips The Wilson sisters and Phillips grew up together in Southern California in the 1970s and 1980s. The three shared a love of music and songwriting, and developed their own style of vocal harmonies. In 1989, the trio signed with SBK Records. The group is also known for being the offspring of prominent musicians; the Wilsons are the daughters of Brian Wilson of The Beach Boys and Marilyn Rovell of The Honeys, while Phillips is the daughter of John and Michelle Phillips of The Mamas & the Papas. Wilson Phillips released their debut \n",
      "\n",
      "\n",
      "Nancy Wilson (singer)\n",
      "Nancy Sue Wilson (February 20, 1937 – December 13, 2018) was an American singer whose career spanned over five decades, from the mid-1950s until her retirement in the early 2010s. She was especially notable for her single \"(You Don't Know) How Glad I Am\" and her version of the standard \"Guess Who I Saw Today\". Wilson recorded more than 70 albums and won three Grammy Awards for her work. During her performing career, Wilson was labeled a singer of blues, jazz, R&B, pop, and soul; a \"consummate actress\"; and \"the complete entertainer\". The title she preferred, however, was \"song stylist\". She received many nicknames including \"Sweet Nancy\", \"The Baby\", \"Fancy Miss Nancy\" and \"The Girl With the Honey-Coated Voice\". Early life Nancy Sue Wilson was born on February 20, 1937, in Chillicothe, Ohio, the first of six children of Olden Wilson, an iron foundry worker, and Lillian Ryan, a maid. Wilson's father would buy records to listen to at home. At an early age Wilson heard recordings from Billy Eckstine, Nat King Cole, and Jimmy Scott with Lionel Hampton's Big Band. Wilson says: \"The juke joint down on the block had a great jukebox and there I heard Dinah Washington, \n",
      "\n",
      "\n",
      "Ann Wilson\n",
      "Ann Dustin Wilson (born June 19, 1950) is an American musician, best known as the lead singer and songwriter for the rock band Heart. Wilson was listed as one of the \"Top Heavy Metal Vocalists of All Time\" by Hit Parader magazine in 2006. Wilson has a dramatic soprano vocal range. Early life Ann Dustin Wilson was born in San Diego, California. Her father was a major in the U.S. Marine Corps. Due to her father's military career, the Wilson family moved frequently. They lived near American military facilities in Panama and Taiwan before settling in Seattle, Washington, in the early 1960s. To maintain a sense of home no matter where in the world they were residing, the Wilsons turned to music. \"On Sunday we'd have pancakes and opera,\" her sister Nancy Wilson recalled. \"My dad would be conducting in the living room. We'd turn it way up and rock. There was everything from classical music to Ray Charles, Judy Garland, Peggy Lee, bossa nova, and early experimental electronic music.\"Wilson's family eventually settled in Bellevue, a suburb of Seattle, Washington. In 1968, she graduated from Sammamish High School. Shy because of a stutter, Wilson sought fulfillment in music. In the \n",
      "\n",
      "\n",
      "The Cable Guy\n",
      "The Cable Guy is a 1996 American black comedy film directed by Ben Stiller, starring Jim Carrey and Matthew Broderick. It was released in the United States on June 14, 1996. The film co-stars Leslie Mann, Jack Black, George Segal, Diane Baker, Eric Roberts, Owen Wilson, Janeane Garofalo, David Cross, Andy Dick, Amy Stiller, and Bob Odenkirk.The film was a box office success, but received mixed reception from critics. Plot Architect Steven Kovacs moves into an apartment after a failed marriage proposal to his girlfriend Robin Harris. Taking advice from his friend Rick Lagados, Steven bribes cable installer Ernie \"Chip\" Douglas into giving him free movie channels. Chip gets Steven to hang out with him the next day and makes him one of his \"preferred customers\". Chip takes Steven to the city's central satellite dish, where he confides to Steven about being raised on television due to the frequent absences of his single mother. Chip soon proves to be intrusive as he crashes a basketball game between Steven and his friends and leaves several messages on Steven's answering machine. Following a passionate knight battle between Chip and Steven at Medieval Times, Steven finds that Chip has secretly installed an expensive \n",
      "\n",
      "\n"
     ]
    }
   ],
   "source": [
    "results = find_documents_normalized(\"Steven Wilson\", 10)\n",
    "print_results(results)"
   ]
  },
  {
   "cell_type": "code",
   "execution_count": 408,
   "metadata": {
    "scrolled": true
   },
   "outputs": [
    {
     "name": "stdout",
     "output_type": "stream",
     "text": [
      "Cat People (1942 film)\n",
      "Cat People is a 1942 American horror film directed by Jacques Tourneur, produced by Val Lewton, and starring Simone Simon, Kent Smith, Jane Randolph and Tom Conway. The plot focuses on a Serbian fashion illustrator in New York City who believes herself to be descended from a race of people who shape shift into panthers when sexually aroused or angered. DeWitt Bodeen wrote the original screenplay, which was based on Lewton's short story The Bagheeta, published in 1930. Shot in Los Angeles, Cat People premiered in New York City on December 5, 1942, and was given a wide theatrical release on Christmas Day. The film was a moderate critical and commercial success at the time of its release. It was followed by one sequel, The Curse of the Cat People (1944). In the intervening years, Cat People was subject of critical reappraisal, and noted for its visual influence, particularly the work of cinematographer Nicholas Musuraca. In 1993, the film was selected for preservation in the United States National Film Registry by the Library of Congress as being \"culturally, historically, or aesthetically significant.\" The film was later acquired by The Criterion Collection and released on Blu-ray in 2016. Plot At the \n",
      "\n",
      "\n",
      "Maneki-neko\n",
      "The Maneki-neko (招き猫), literally meaning \"beckoning cat\", is a common Japanese figurine (lucky charm, talisman) which is often believed to bring good luck to the owner. In modern times, they are usually made of ceramic or plastic. The figurine depicts a cat (traditionally a calico Japanese Bobtail) beckoning with an upright paw, and is usually displayed in, and often at the entrance of, shops, restaurants, pachinko parlors, laundromats, dry cleaners, salons, and other businesses. Some of the sculptures are electric or battery-powered and have a slow-moving paw beckoning. Maneki-neko come in different colors, styles and degrees of ornateness. Common colors are white, black, gold and sometimes red. In addition to ceramic figurines, Maneki-neko can be found as keychains, piggy banks, air fresheners, house-plant pots, and miscellaneous ornaments, as well as large statues. It is also called the \"Chinese lucky cat\" because of its popularity among Chinese merchants. The name Maneki-neko can be interpreted as a waving cat or a chant of a chant. Common features The cat is depicted seated, traditionally holding a koban coin, with one paw raised in a beckoning gesture. Gesture To some Westerners (Italians and Spaniards are notable exceptions) it may seem as if the Maneki-neko \n",
      "\n",
      "\n",
      "Nepetalactone\n",
      "Nepetalactone is an organic compound, first isolated from the plant catnip (Nepeta cataria), which acts as a cat attractant. Nepetalactone is a bicyclic monoterpenoid, a ten-carbon compound derived from isoprene with two fused rings: a cyclopentane and a lactone (a modified δ-valerolactone ring). It belongs to the class of iridoids. The structure and the effects of the compound are similar to those of valepotriates. A number of isomers of nepetalactone are known.Nepetalactone was first reported in 1941 after it was isolated by steam distillation of catnip.The compound is also present in the wood of tartarian honeysuckle (Lonicera tatarica), shavings of which are often used in cat toys. Effects on animals 4aα,7α,7aα-Nepetalactone is the active isomer in Nepeta cataria and has a characteristic effect on cats. Around 67–80% of cats are affected. Susceptibility is gene-linked. The chemical interacts as a vapor at the olfactory epithelium.Nepetalactone has effects on some insects: it repels cockroaches and mosquitos. == References == \n",
      "\n",
      "\n",
      "The Cat Inside\n",
      "The Cat Inside is an autobiographical novella written by William S. Burroughs and illustrated by Brion Gysin. The book was first published by Grenfell Press in 1986 in an edition of only 133 copies; it was later reissued by Viking Press in 1992 in a mass market hardcover edition. In the book Burroughs, a noted lover of cats, reminisces about the many cats in his life. Gysin, a frequent collaborator with Burroughs dating back to the early 1960s, died in 1986, making this possibly the last work he did with Burroughs. Gysin is also referenced by name in the text. Burroughs reads excerpts from the novella, \"Kill the Badger!\" and \"Warning to Young Couples\", on the albums Dead City Radio (1990) and Spare Ass Annie and Other Tales (1993). \n",
      "\n",
      "\n",
      "Tommy the Cat\n",
      "\"Tommy the Cat\" is a song by the American funk metal band Primus, released on their second album, Sailing the Seas of Cheese. Recording The song contains spoken word portions (as the voice of Tommy the Cat) interspersed with the singing of Les Claypool. In their live performances Claypool does both parts himself, but singer Tom Waits provided the voice of Tommy the Cat on the studio version from Sailing the Seas of Cheese. Release Primus released \"Tommy the Cat\" following their first major label single, \"Jerry Was a Race Car Driver\". In concert, Claypool started introducing all of their other songs by saying \"This next song is not Tommy the Cat\", apparently due to the popularity the song had gained after a video was released and played on MTV.The song was briefly featured in the 1991 film Bill & Ted's Bogus Journey during the 'Battle of the Bands' portion of the movie, where Primus was shown performing it. The song was also used in the teaser trailers for South Park: Bigger, Longer, and Uncut. References External links Lyrics of this song at MetroLyrics \n",
      "\n",
      "\n",
      "Top Cat\n",
      "Top Cat is an American animated sitcom produced by Hanna-Barbera Productions and originally broadcast in prime-time on the ABC network. The show aired 30 episodes in a weekly evening timeslot from September 27, 1961 to April 18, 1962. The show was a ratings failure in prime time, but found a receptive audience on Saturday morning children's programming. The show aired on Saturdays in 1962 and 1963 on ABC, and was then rerun in various Saturday morning slots on NBC from 1965 to 1969. Premise The central character, Top Cat (T.C.) is the leader of a gang of Manhattan alley cats living in Hoagy's Alley: Fancy-Fancy, Spook, Benny the Ball, Brain, and Choo Choo.Top Cat and his gang were inspired by the East Side Kids, characters from the series of 1940s 'B' movies, but their more immediate roots lay in The Phil Silvers Show (1955–59), a military comedy whose lead character (Sergeant Bilko, played by Silvers) was a crafty con-man. Maurice Gosfield, who played Private Duane Doberman in The Phil Silvers Show, provided the voice for Benny the Ball in Top Cat, and Benny's rotund appearance was based on Gosfield's. Additionally, Arnold Stang's vocal characterization of the lead character, the eponymous \n",
      "\n",
      "\n",
      "Cats (musical)\n",
      "Cats is a sung-through musical composed by Andrew Lloyd Webber, based on the 1939 poetry collection Old Possum's Book of Practical Cats by T. S. Eliot. It tells the story of a tribe of cats called the Jellicles and the night they make the \"Jellicle choice,\" deciding which cat will ascend to the Heaviside Layer and come back to a new life. The musical includes the well-known song \"Memory\" as sung by Grizabella. As of 2019, Cats remains the fourth-longest-running Broadway show and the sixth-longest-running West End show. Lloyd Webber began setting Eliot's poems to music in 1977 and the compositions were first presented as a song cycle in 1980. Producer Cameron Mackintosh then recruited director Trevor Nunn and choreographer Gillian Lynne to turn the songs into a complete musical. Cats opened to positive reviews at the New London Theatre in the West End in 1981 and then to mixed reviews at the Winter Garden Theatre on Broadway in 1982. It won numerous awards including Best Musical at both the Laurence Olivier and Tony Awards. Despite its unusual premise that deterred investors initially, the musical turned out to be an unprecedented commercial success, with a worldwide gross of US$3.5 billion \n",
      "\n",
      "\n",
      "Ring-tailed cat\n",
      "The ringtail (Bassariscus astutus) is a mammal of the raccoon family, native to arid regions of North America. Even though it is not a cat, it is also known as the ringtail cat, ring-tailed cat, miner's cat or bassarisk, and is also sometimes called a \"civet cat\" (after similar, though only distantly related, cat-like carnivores of Asia and Africa). The ringtail is sometimes called a cacomistle, though this term seems to be more often used to refer to Bassariscus sumichrasti. Description The ringtail is buff to dark brown in color with pale underparts. Ringtails have a pointed muzzle with long whiskers resembles that of a fox (its Latin name means ‘clever little fox’) and its body resembles that of a cat. These animals are characterized by a long black and white \"ringed\" tail with 14–16 stripes, which is the about the same length as its body. The claws are short, straight, and semi-retractable, well-suited for climbing.Smaller than a house cat, it is one of the smallest extant procyonids (only the smallest in the olingo species group average smaller). Its body alone measures 30–42 cm (12–17 in) and its tail averages 31–44 cm (12–17 in) from its base. It typically weighs \n",
      "\n",
      "\n",
      "Black cat\n",
      "A black cat is a domestic cat with black fur that may be a mixed or specific breed, or a common domestic cat of no particular breed. The Cat Fanciers' Association (CFA) recognizes 22 cat breeds that can come with solid black coats. The Bombay breed is exclusively black. All-black fur pigmentation is slightly more prevalent in male cats than female cats. Their high melanin pigment content causes most black cats to have yellow (golden) eyes (irises). Coat Any cat whose fur is a single color, including black, is known as a \"solid\" or \"self\". A \"solid black\" cat may be coal black, grayish black, or brownish black. Most solid-colored cats result from a recessive gene that suppresses the tabby pattern. Sometimes the tabby pattern is not completely suppressed; faint markings may appear in certain lights, even on a solid black cat. A cat having black fur with white roots is known as a \"black smoke.\"Black cats can also \"rust\" in sunlight, the coat turning a lighter brownish-red shade. Eumelanin, the pigment that is required to produce the black fur, is somewhat fragile, so the rusting effect can be more pronounced in cats that frequently spend time in the sun. \n",
      "\n",
      "\n",
      "Cat\n",
      "The cat (Felis catus) is a domestic species of small carnivorous mammal. It is the only domesticated species in the family Felidae and is often referred to as the domestic cat to distinguish it from the wild members of the family. A cat can either be a house cat, a farm cat or a feral cat; the latter ranges freely and avoids human contact. Domestic cats are valued by humans for companionship and their ability to hunt pests such as rodents. About 60 cat breeds are recognized by various cat registries.The cat is similar in anatomy to the other felid species: it has a strong flexible body, quick reflexes, sharp teeth and retractable claws adapted to killing small prey. Its night vision and sense of smell are well developed. Cat communication includes vocalizations like meowing, purring, trilling, hissing, growling and grunting as well as cat-specific body language. It is a solitary hunter but a social species. It can hear sounds too faint or too high in frequency for human ears, such as those made by mice and other small mammals. It is a predator that is most active at dawn and dusk. It secretes and perceives pheromones.Female domestic cats can \n",
      "\n",
      "\n"
     ]
    }
   ],
   "source": [
    "results = find_documents_normalized(\"cat\", 10)\n",
    "print_results(results)"
   ]
  },
  {
   "cell_type": "markdown",
   "metadata": {},
   "source": [
    "Zastosowanie LSI wpłynęło znacząco na rodzaj znajdywanych artykułów. Tematycznie były bardziej powiązane z wyszukiwaną frazą. Jednak kluczowe artykuły pojawiły się dalej w wynikach, niż przy zastosowaniu jedynie macierzy znormalizowanej. Prawdopodobnie również negatywnie wpłynęła na wyszukanie konkretnych nazw własnych."
   ]
  },
  {
   "cell_type": "markdown",
   "metadata": {},
   "source": [
    "## Wpływ IDF na wyniki wyszukiwań"
   ]
  },
  {
   "cell_type": "markdown",
   "metadata": {},
   "source": [
    "Sprawdzono także wpływ przekształcenia IDF na wyniki w przypadku macierzy znormalizowanej."
   ]
  },
  {
   "cell_type": "code",
   "execution_count": 510,
   "metadata": {},
   "outputs": [],
   "source": [
    "def normalize_no_idf():\n",
    "    tbd_no_idf = sparse.load_npz(res_dir + os.sep + 'tbd_no_idf.npz')\n",
    "    tbd_no_idf = normalize_tbd(tbd_no_idf)\n",
    "    sparse.save_npz(res_dir + os.sep + 'tbd_no_idf_normalized.npz', tbd_no_idf)\n",
    "\n",
    "    \n",
    "normalize_no_idf()"
   ]
  },
  {
   "cell_type": "code",
   "execution_count": 511,
   "metadata": {},
   "outputs": [],
   "source": [
    "def normalized_without_idf(query, k):\n",
    "    terms_dict, documents_dict = load_dicts()\n",
    "    \n",
    "    query_bow = query_to_bow(query, terms_dict)\n",
    "    \n",
    "    if query_bow == []:\n",
    "        return []\n",
    "    \n",
    "    query_bow = normalize(query_bow, axis = 1)\n",
    "    query_bow_t = query_bow.transpose()\n",
    "    \n",
    "    tbd = sparse.load_npz(res_dir + os.sep + 'tbd_no_idf_normalized.npz')\n",
    "\n",
    "    \n",
    "    results = []\n",
    "    \n",
    "    for document in documents_dict.keys():\n",
    "        i = documents_dict[document]\n",
    "        col = tbd.getcol(i)\n",
    "        res = query_bow_t.dot(col)[0,0]\n",
    "        if i < k:\n",
    "            results.append((res, document))\n",
    "        else:\n",
    "            results = sorted(results)\n",
    "            if res > results[0][0]:\n",
    "                results[0] = (res, document)\n",
    "                \n",
    "    return results\n",
    "    "
   ]
  },
  {
   "cell_type": "code",
   "execution_count": 512,
   "metadata": {
    "scrolled": true
   },
   "outputs": [
    {
     "name": "stdout",
     "output_type": "stream",
     "text": [
      "Melanism\n",
      "The term melanism refers to black pigment and is derived from the Greek: μελανός. Melanism is the increased development of the dark-colored pigment melanin in the skin or hair. Pseudomelanism, also called abundism, is another variant of pigmentation, identifiable by dark spots or enlarged stripes, which cover a large part of the body of the animal, making it appear melanistic.The morbid deposition of black matter, often of a malignant character causing pigmented tumors, is called melanosis. Adaptation Melanism related to the process of adaptation is called adaptive. Most commonly, dark individuals become fitter to survive and reproduce in their environment as they are better camouflaged. This makes some species less conspicuous to predators, while others, such as black panthers, use it as a foraging advantage during night hunting. Typically, adaptive melanism is heritable: A dominant allele, which is entirely or nearly entirely expressed in the phenotype, is responsible for the excessive amount of melanin. Adaptive melanism has been shown to occur in a variety of animals, including mammals such as squirrels, many felines and canids, and coral snakes. Adaptive melanism can lead to the creation of morphs, the most notable example being the peppered moth, whose evolutionary history in the \n",
      "\n",
      "\n",
      "Ben Small\n",
      "Benjamin Small (born 1971) is a British voice actor. Career Small is best known for voicing Thomas in the UK version of the CGI episodes of the children's television series Thomas & Friends from 2009 to 2015. Small also provided voices for Toby (in which he based the character's voice on Dad's Army actor Clive Dunn) and Ferdinand in the UK version while voicing Rheneas, Flynn, the Troublesome Trucks and Owen in both the UK and US versions of the series. In the US version, Small voiced Stanley and Charlie, who are voiced by Small's co-star Matt Wilkinson in the UK. Small left the show alongside Thomas' US voice Martin Sherman as their contract was terminated and the executives wanted to give Thomas the Tank Engine a fresh new voice. As well as Thomas & Friends Small and fellow actor Keith Wickham previously collaborated by providing the British voices for Watch My Chops from 2004-2006. Prior to that, Small was the voice of Clifford the Big Red Dog's best friend: \"T-Bone\". He also was the voice of Jorge/George and Shun in the spin-off Clifford's Puppy Days. Small also voiced Zorro in the animated TV series Zorro: Generation Z and played \n",
      "\n",
      "\n",
      "Dragon's teeth (fortification)\n",
      "Dragon's teeth (German: Drachenzähne) are square-pyramidal fortifications of reinforced concrete first used during the Second World War to impede the movement of tanks and mechanised infantry. The idea was to slow down and channel tanks into killing zones where they could easily be disposed of by anti-tank weapons. They were employed extensively, particularly on the Siegfried Line. World War II Dragon's teeth were used by several armies in the European Theatre. The Germans made extensive use of them on the Siegfried Line and the Atlantic Wall. Typically, each \"tooth\" was 90 to 120 cm (3 to 4 ft) tall, depending on the precise model. Land mines were often laid between the individual \"teeth\", and further obstacles were constructed along the lines of \"teeth\", such as barbed wire to impede infantry or diagonally-placed steel beams to further hinder tanks. Many were laid in the United Kingdom in 1940–1941, as part of the effort to strengthen the country's defences against a possible German invasion. Behind minefields were the dragon's teeth. They rested on a concrete mat between ten and thirty meters wide, sunk in a meter or two into the ground (to prevent any attempt to tunnel underneath them and place explosive \n",
      "\n",
      "\n",
      "Dentures\n",
      "Dentures (also known as false teeth) are prosthetic devices constructed to replace missing teeth, and are supported by the surrounding soft and hard tissues of the oral cavity. Conventional dentures are removable (removable partial denture or complete denture). However, there are many denture designs, some which rely on bonding or clasping onto teeth or dental implants (fixed prosthodontics). There are two main categories of dentures, the distinction being whether they are used to replace missing teeth on the mandibular arch or on the maxillary arch. Medical uses Dentures do not feel like real teeth, nor do they function like real teeth.Dentures can help people through: Mastication or chewing ability is improved by replacing edentulous areas with denture teeth. Aesthetics, because the presence of teeth gives a natural appearance to the face, and wearing a denture to replace missing teeth provides support for the lips and cheeks and corrects the collapsed appearance that results from the loss of teeth. Pronunciation, because replacing missing teeth, especially the anteriors, enables patients to speak better. There is especially improvement in pronouncing words containing sibilants or fricatives. Self-esteem, because improved looks and speech boost confidence in the ability to interact socially. Complications Stomatitis Denture stomatitis \n",
      "\n",
      "\n",
      "Parent company\n",
      "A parent company is a company that owns enough voting stock in another firm to control management and operation by influencing or electing its board of directors. Companies that operate under this management are deemed subsidiaries of the parent company. By country Australia The parent company–subsidiary company relationship is defined by Part 1.2, Division 6, Section 46 of the Corporations Act 2001 (Cth), which states: A body corporate (in this section called the first body) is a subsidiary of another body corporate if, and only if: (a) the other body: (i) controls the composition of the first body's board; or (ii) is in a position to cast, or control the casting of, more than one-half of the maximum number of votes that might be cast at a general meeting of the first body; or (iii) holds more than one-half of the issued share capital of the first body (excluding any part of that issued share capital that carries no right to participate beyond a specified amount in a distribution of either profits or capital); or (b) the first body is a subsidiary of a subsidiary of the other body. Canada Lawyer Michael Finley has stated that \"the emerging trend that \n",
      "\n",
      "\n",
      "Sharpness railway station\n",
      "Sharpness railway station served the village of Sharpness in Gloucestershire, England. History The station was on the Sharpness Branch Line, part of the Midland Railway, which connected the Bristol and Gloucester Railway main line at Berkeley Road station with the docks at Sharpness. The branch line was opened to freight traffic in August 1875 with passenger services starting a year later.Sharpness station was originally a terminus for the passenger services and was no more than a temporary platform next to the docks. But in 1879, the Sharpness branch became a through-route with the opening of the Severn Railway Bridge, connecting Sharpness with the Forest of Dean side of the Severn Estuary and enabling through services between Berkeley Road and Lydney Town railway station, some of which ran on to Lydbrook. The new station, built on a curve, had a brick building on the \"up\" platform (towards Berkeley) and a small shelter on the down platform. Children from Sharpness attending school in Lydney were among the passengers. After 1931, the line was singled. Through-services to Lydney on the line ceased abruptly in October 1960 when the Severn Railway Bridge was damaged beyond economic repair in a shipping accident, and Sharpness resumed \n",
      "\n",
      "\n",
      "Martin Sharp\n",
      "Martin Ritchie Sharp (21 January 1942 – 1 December 2013) was an Australian artist, cartoonist, songwriter and film-maker. Sharp was called Australia's foremost pop artist. Sharp co-wrote one of Cream's best known songs, \"Tales of Brave Ulysses\", created the cover art for Cream's Disraeli Gears and Wheels of Fire albums. Career Sharp was born in Bellevue Hill, New South Wales in 1942, and educated at Cranbrook private school, where one of his teachers was the artist Justin O'Brien. In 1960, Sharp enrolled at the National Art School at East Sydney. He also designed at that time a controversial poster titled \"Rasputin & his London Popes\" for an antique shop in Barcelona run by a young Spanish photographer named Alexis de Vilar. Sharp designed at least two posters for Australia's premier contemporary circus, Circus Oz including the iconic 'World-famous'/'Non-Stop Energy' design. Later interests For the most of the 1970s and beyond, Sharp's work and life was dominated by two major interests: Sydney's Luna Park and the entertainer Tiny Tim. Luna Park Sharp's involvement with the restoration of Luna Park in the 1970s proved a bittersweet experience. A year later, as pressure mounted to redevelop the prime harbourside site, an arson attack \n",
      "\n",
      "\n",
      "In Order of Disappearance\n",
      "In Order of Disappearance (Norwegian: Kraftidioten) is a 2014 Norwegian black comedy action film directed by Hans Petter Moland and starring Stellan Skarsgård. The film had its premiere in the competition section of the 64th Berlin International Film Festival. Cold Pursuit, an English-language adaptation, also directed by Moland, was released in 2019. Plot Nils Dickman (Stellan Skarsgård) is a snow plow driver in the fictional town of Tyos, Norway, just elected citizen of the year. His life, however, is shattered by the death of his son Ingvar, found dead by overdose of heroin. The police do not investigate but Dickman is sure that his son wasn't a drug user. When he's about to kill himself he learns from Finn, his son's friend, that Ingvar was mistakenly killed by a gang of drug dealers who actually intended to kill Finn. So Nils begins to hunt for his son's murderers. He finds Jappe, one of the two killers, and kills him after extracting the name of his accomplice, Ronaldo. Ronaldo tells Nils the name of the drug carrier, Strike, before being killed too. After having killed and concealed the body of the three gangsters and destroying 15 kilos of cocaine, Nils goes \n",
      "\n",
      "\n",
      "Human body\n",
      "The human body is the structure of a human being. It is composed of many different types of cells that together create tissues and subsequently organ systems. They ensure homeostasis and the viability of the human body. It comprises a head, neck, trunk (which includes the thorax and abdomen), arms and hands, legs and feet. The study of the human body involves anatomy, physiology, histology and embryology. The body varies anatomically in known ways. Physiology focuses on the systems and organs of the human body and their functions. Many systems and mechanisms interact in order to maintain homeostasis, with safe levels of substances such as sugar and oxygen in the blood. The body is studied by health professionals, physiologists, anatomists, and by artists to assist them in their work. Composition The human body is composed of elements including hydrogen, oxygen, carbon, calcium and phosphorus. These elements reside in trillions of cells and non-cellular components of the body. The adult male body is about 60% water for a total water content of some 42 litres. This is made up of about 19 litres of extracellular fluid including about 3.2 litres of blood plasma and about 8.4 litres of interstitial fluid, and \n",
      "\n",
      "\n",
      "Cat\n",
      "The cat (Felis catus) is a domestic species of small carnivorous mammal. It is the only domesticated species in the family Felidae and is often referred to as the domestic cat to distinguish it from the wild members of the family. A cat can either be a house cat, a farm cat or a feral cat; the latter ranges freely and avoids human contact. Domestic cats are valued by humans for companionship and their ability to hunt pests such as rodents. About 60 cat breeds are recognized by various cat registries.The cat is similar in anatomy to the other felid species: it has a strong flexible body, quick reflexes, sharp teeth and retractable claws adapted to killing small prey. Its night vision and sense of smell are well developed. Cat communication includes vocalizations like meowing, purring, trilling, hissing, growling and grunting as well as cat-specific body language. It is a solitary hunter but a social species. It can hear sounds too faint or too high in frequency for human ears, such as those made by mice and other small mammals. It is a predator that is most active at dawn and dusk. It secretes and perceives pheromones.Female domestic cats can \n",
      "\n",
      "\n"
     ]
    }
   ],
   "source": [
    "results = normalized_without_idf(\"it has a strong flexible body, quick reflexes, sharp teeth and retractable claws adapted to killing small prey\", 10)\n",
    "print_results(results)"
   ]
  },
  {
   "cell_type": "code",
   "execution_count": 513,
   "metadata": {
    "scrolled": true
   },
   "outputs": [
    {
     "name": "stdout",
     "output_type": "stream",
     "text": [
      "National Coalition Against Domestic Violence\n",
      "National Coalition Against Domestic Violence (NCADV) is a 501(c)(3) nonprofit organization with the mission to be the voice of victims and survivors of domestic violence. National Coalition Against Domestic Violence's vision is to create a culture where domestic violence is not tolerated and where society empowers victims and survivors while holding abusers accountable. Current Work Legislative Policy Advocacy National Coalition Against Domestic Violence works with members of Congress to improve legislation dealing with domestic violence. Responding to the problem of domestic violence offenders who fight with victims for custody of their children, National Coalition Against Domestic Violence advocates for legislation that keeps the best interest of the children in mind.In 1994, National Coalition Against Domestic Violence was part of a team to pass the Violence Against Women Act to provide funding for investigation into domestic violence and prosecution of offenders.National Coalition Against Domestic Violence has also helped with the Family Violence Prevention and Services Act, International Violence Against Women Act, and Legislative Action Day. Current Programs Cosmetic and Reconstructive Support The Cosmetic and Reconstructive Support Program was created to connect survivors of domestic violence to medical providers around the country. Pro bono services may be available to those in need \n",
      "\n",
      "\n",
      "Oak\n",
      "An oak is a tree or shrub in the genus Quercus (;; Latin \"oak tree\") of the beech family, Fagaceae. There are approximately 600 extant species of oaks. The common name \"oak\" also appears in the names of species in related genera, notably Lithocarpus (stone oaks), as well as in those of unrelated species such as Grevillea robusta (silky oaks) and the Casuarinaceae (she-oaks). The genus Quercus is native to the Northern Hemisphere, and includes deciduous and evergreen species extending from cool temperate to tropical latitudes in the Americas, Asia, Europe, and North Africa. North America contains the largest number of oak species, with approximately 90 occurring in the United States, while Mexico has 160 species of which 109 are endemic. The second greatest center of oak diversity is China, which contains approximately 100 species. Oaks have spirally arranged leaves, with lobate margins in many species; some have serrated leaves or entire leaves with smooth margins. Many deciduous species are marcescent, not dropping dead leaves until spring. In spring, a single oak tree produces both male flowers (in the form of catkins) and small female flowers, meaning that the trees are monoecious. The fruit is a nut called an acorn \n",
      "\n",
      "\n",
      "Mikrogeophagus\n",
      "Mikrogeophagus is a genus of small cichlids native to the Amazon and Orinoco basins in South America. Both species are popular with aquarists, especially M. ramirezi. These species spawn on flat rocks or leaves and not in caves like fishes from the closely related cichlid genus Apistogramma. Species The currently recognized species in this genus are: Mikrogeophagus altispinosus (Haseman, 1911) (Bolivian Ram) Mikrogeophagus ramirezi (G. S. Myers & Harry, 1948) (ram cichlid) == References == \n",
      "\n",
      "\n",
      "Psychoactive cactus\n",
      "Many cacti are known to be psychoactive, containing phenethylamine alkaloids such as mescaline However, the two main ritualistic (folkloric) genera are Echinopsis, of which the most psychoactive species is the San Pedro cactus (Echinopsis pachanoi, syn. Trichocereus pachanoi), and Lophophora, with peyote (Lophophora williamsii) being the most psychoactive species. Several other species pertaining to other genera are also psychoactive, though not always used with a ritualistic intent. Ethnic Use Several world regions have historically used psychoactive cacti for their properties, particularly Indigenous peoples from Central and South America, such as in Mexico and the Andes region. For this purpose (which includes commercial harvesting) cacti plants are specifically grown in the millions. Lophophora williamsii (peyote) is used by the Native American Church (aka Peyotism). Species \"Peyotes\" Lophophora williamsii (peyote) Other \"peyotes\" Ariocarpus fissuratus Coryphantha compacta Pelecyphora aselliformis; strobiliformis Lophophora diffusa Ariocarpus retusus Ariocarpus agavoides; kotschoubeyanus; and other species Astrophytum asterias; capricorne; myriostigma; and other species Aztekium ritteri; and other species Coryphantha elephantidens; macromeris (var. runyonii); palmeri; and other species Echinocactus grandis; grusonii; platyacanthus; visnaga; and other species Epithelantha micromeris; and other species Leuchtenbergia principis'; and other species Lophophora species Mammillaria craigii; grahamii (var. oliviae); heyderi; (Dolichothele) longimamma; (Solisia) pectinifera; (Mamillopsis) senilis; \n",
      "\n",
      "\n",
      "Bat\n",
      "Bats are mammals of the order Chiroptera; with their forelimbs adapted as wings, they are the only mammals capable of true and sustained flight. Bats are more manoeuvrable than birds, flying with their very long spread-out digits covered with a thin membrane or patagium. The smallest bat, and arguably the smallest extant mammal, is Kitti's hog-nosed bat, which is 29–34 mm (1.14–1.34 in) in length, 150 mm (5.91 in) across the wings and 2–2.6 g (0.07–0.09 oz) in mass. The largest bats are the flying foxes and the giant golden-crowned flying fox, Acerodon jubatus, which can weigh 1.6 kg (4 lb) and have a wingspan of 1.7 m (5 ft 7 in). The second largest order of mammals after rodents, bats comprise about 20% of all classified mammal species worldwide, with over 1,200 species. These were traditionally divided into two suborders: the largely fruit-eating megabats, and the echolocating microbats. But more recent evidence has supported dividing the order into Yinpterochiroptera and Yangochiroptera, with megabats as members of the former along with several species of microbats. Many bats are insectivores, and most of the rest are frugivores (fruit-eaters). A few species feed on animals other than insects; for example, the vampire \n",
      "\n",
      "\n",
      "Species description\n",
      "A species description is a formal description of a newly discovered species, usually in the form of a scientific paper. Its purpose is to give a clear description of a new species of organism and explain how it differs from species which have been described previously or are related. The species description often contains photographs or other illustrations of the type material and states in which museums it has been deposited. The publication in which the species is described gives the new species a formal scientific name. Some 1.9 million species have been identified and described, out of some 8.7 million that may actually exist. Millions more have become extinct. Naming process A name of a new species becomes valid (available in zoological terminology) with the date of publication of its formal scientific description. Once the scientist has performed the necessary research to determine that the discovered organism represents a new species, the scientific results are summarized in a scientific manuscript, either as part of a book, or as a paper to be submitted to a scientific journal. A scientific species description must fulfill several formal criteria specified by the nomenclature codes, e.g. selection of at least one type specimen. \n",
      "\n",
      "\n",
      "Entomologia Carniolica\n",
      "Entomologia Carniolica exhibens insecta Carnioliae indigena et distributa in ordines, genera, species, varietates is a taxonomic work by Giovanni Antonio Scopoli, published in Vienna in 1763. As well as describing hundreds of new species, Entomologia Carniolica contained observations on the species' biology, including the first published account of queen bees mating outside the hive. Classification In contrast to his predecessors Carl Linnaeus and Johan Christian Fabricius, who had used the structure of the insect wing and the structure of the insect mouthparts, respectively, as the main means of classifying arthropods, Scopoli favoured a more holistic approach.In Entomologia Carniolica, Scopoli described 1153 species of \"insects\" (a term which at that time included many arthropods), divided into seven orders: Coleoptera (beetles and orthopteroid insects) – species 1–329 Proboscidea (= Hemiptera) – species 330–418 Lepidoptera – species 419–676 Neuroptera – species 677–712 Aculeata (= Hymenoptera) – species 713–838 Halterata (= Diptera) – species 839–1024 Pedestria (various wingless animals, including silverfish, fleas, mites, arachnids, crustaceans and myriapods) – species 1025–1153 Taxa The animals described in Entomologia Carniolica were found in the Duchy of Carniola (also called the Krain), an area at that time under the control of the Austro-Hungarian Empire. Nowadays, it is the \n",
      "\n",
      "\n",
      "Endangered species\n",
      "An endangered species is a species that is very likely to become extinct in the near future, either worldwide or in a particular political jurisdiction. Endangered species may be at risk due to factors such as habitat loss, poaching and invasive species. The International Union for Conservation of Nature (IUCN) Red List lists the global conservation status of many species, and various other agencies assess the status of species within particular areas. Many nations have laws that protect conservation-reliant species which, for example, forbid hunting, restrict land development, or create protected areas. Some endangered species are the target of extensive conservation efforts such as captive breeding and habitat restoration. Conservation status The conservation status of a species indicates the likelihood that it will become extinct. Many factors are considered when assessing the status of a species; e.g., such statistics as the number remaining, the overall increase or decrease in the population over time, breeding success rates, or known threats. The IUCN Red List of Threatened Species is the best-known worldwide conservation status listing and ranking system.Over 50% of the world's species are estimated to be at risk of extinction. Internationally, 195 countries have signed an accord to create Biodiversity Action \n",
      "\n",
      "\n",
      "Introduced species\n",
      "An introduced species, alien species, exotic species, foreign species, non-indigenous species, or non-native species is a species living outside its native distributional range, but which has arrived there by human activity, either deliberate or accidental. Non-native species can have various effects on the local ecosystem. Introduced species that become established and spread beyond the place of introduction are considered \"naturalized\". The process of human-caused introduction is distinguished from biological colonization, in which species spread to new areas through \"natural\" (non-human) means such as storms and rafting. The impact of introduced species is highly variable. Some have a negative effect on a local ecosystem, while other introduced species may have no negative effect or only minor impact. Some species have been introduced intentionally to combat pests. They are called biocontrols and may be regarded as beneficial as an alternative to pesticides in agriculture for example. In some instances the potential for being beneficial or detrimental in the long run remains unknown. The effects of introduced species on natural environments have gained much scrutiny from scientists, governments, farmers, and others. Terminology: introduced species and subsets The formal definition of an introduced species, from the United States Environmental Protection Agency, is A species \n",
      "\n",
      "\n",
      "Cat\n",
      "The cat (Felis catus) is a domestic species of small carnivorous mammal. It is the only domesticated species in the family Felidae and is often referred to as the domestic cat to distinguish it from the wild members of the family. A cat can either be a house cat, a farm cat or a feral cat; the latter ranges freely and avoids human contact. Domestic cats are valued by humans for companionship and their ability to hunt pests such as rodents. About 60 cat breeds are recognized by various cat registries.The cat is similar in anatomy to the other felid species: it has a strong flexible body, quick reflexes, sharp teeth and retractable claws adapted to killing small prey. Its night vision and sense of smell are well developed. Cat communication includes vocalizations like meowing, purring, trilling, hissing, growling and grunting as well as cat-specific body language. It is a solitary hunter but a social species. It can hear sounds too faint or too high in frequency for human ears, such as those made by mice and other small mammals. It is a predator that is most active at dawn and dusk. It secretes and perceives pheromones.Female domestic cats can \n",
      "\n",
      "\n"
     ]
    }
   ],
   "source": [
    "results = normalized_without_idf(\"(Felis catus) is a domestic species of small carnivorous mammal\", 10)\n",
    "print_results(results)"
   ]
  },
  {
   "cell_type": "code",
   "execution_count": 514,
   "metadata": {
    "scrolled": true
   },
   "outputs": [
    {
     "name": "stdout",
     "output_type": "stream",
     "text": [
      "Joshua Tree, California\n",
      "Joshua Tree is a census-designated place (CDP) in San Bernardino County, California, United States. The population was 7,414 at the 2010 census. At approximately 2,700 feet (820 meters) above sea level, Joshua Tree and its surrounding communities are located in the High Desert of California. The center of the business district in Joshua Tree is on California State Route 62. Geography Joshua Tree is located in the Mojave Desert at 34°8′N 116°19′W.According to the United States Census Bureau, the CDP has a total all land area of 95.9 km² (37.0 mi²). Joshua Tree, California is home to Joshua Tree National Park. Joshua Tree shares the border to its east with Twentynine Palms, California, its western border with Yucca Valley, California, its northwestern border with Landers, California, and its southern border is Coachella Valley, California. Demographics 2010 The 2010 United States Census reported that Joshua Tree had a population of 7,414. The population density was 200.1 people per square mile (77.3/km²). The racial makeup of Joshua Tree was 6,176 (83.3%) White (73.9% Non-Hispanic White), 234 (3.2%) African American, 84 (1.1%) Native American, 104 (1.4%) Asian, 18 (0.2%) Pacific Islander, 368 (5.0%) from other races, and 430 (5.8%) from two or more \n",
      "\n",
      "\n",
      "Natalie Cole\n",
      "Natalie Maria Cole (February 6, 1950 – December 31, 2015) was an American singer, songwriter, and actress. Cole was the daughter of American singer and jazz pianist Nat King Cole. She rose to success in the mid-1970s as an R&B singer with the hits \"This Will Be\", \"Inseparable\" (1975), and \"Our Love\" (1977). She returned as a pop singer on the 1987 album Everlasting and her cover of Bruce Springsteen's \"Pink Cadillac\". In the 1990s, she sang traditional pop by her father, resulting in her biggest success, Unforgettable... with Love, which sold over seven million copies and won her seven Grammy Awards. She sold over 30 million records worldwide. On December 31, 2015, Cole died at the age of 65 at Cedars-Sinai Medical Center in Los Angeles, California, due to congestive heart failure. Early life Natalie Cole was born at Cedars of Lebanon Hospital in Los Angeles, to American singer and jazz pianist Nat King Cole and former Duke Ellington Orchestra singer Maria Hawkins Ellington, and raised in the affluent Hancock Park district of Los Angeles. Regarding her childhood, Cole referred to her family as \"the black Kennedys\" and was exposed to many great singers of jazz, soul and blues. \n",
      "\n",
      "\n",
      "Steven Wilson\n",
      "Steven John Wilson (born 3 November 1967) is an English musician, singer, songwriter and record producer, most closely associated with the progressive rock genre. Currently a solo artist, he became known as the founder, lead guitarist, lead vocalist and songwriter of the band Porcupine Tree, as well as being a member of several other bands. Wilson is a self-taught composer, producer, audio engineer, guitar and keyboard player, and plays other instruments as needed, including bass guitar, autoharp, hammered dulcimer and flute. Despite being mainly associated with progressive rock, his influences and work have encompassed a diverse range of genres including psychedelia, pop, extreme metal, electronic and jazz, among others, shifting his musical direction through his albums. His concerts incorporate quadraphonic sound and elaborate visuals. He has also worked with artists such as Opeth, King Crimson, Pendulum, Jethro Tull, Andy Partridge, Yes, Fish, Marillion, Tears for Fears, Roxy Music and Anathema. In a career spanning more than 30 years, Wilson has made music prolifically and earned critical acclaim. His honours include four nominations for Grammy Awards, twice with Porcupine Tree, with his collaborative band Storm Corrosion and as a soloist on one occasion. In 2015, he received three awards at the \n",
      "\n",
      "\n",
      "Songwriters Hall of Fame\n",
      "The Songwriters Hall of Fame (SHOF) was founded in 1969 by songwriter Johnny Mercer and music publisher/songwriter Abe Olman and publisher/executive Howie Richmond to honor those whose work represents and maintains the heritage and legacy of a spectrum of the most beloved songs from the world's popular music songbook. It not only celebrates these established songwriters, but is also involved on the development of new songwriting talent through workshops, showcases and scholarships. There are many programs designed to teach and discover new songwriters. Nile Rodgers serves as the organization's chairman.The Hall of Fame only existed as an online virtual collection until 2010, when it was first put on display as a physical gallery inside The Grammy Museum in Los Angeles. With an under-construction basement installation at the Brill Building in New York, the Hall does not have a permanent place and the awards are not televised.Through 2019, 461 individuals had been inducted into the SHOF. There are numerous examples of collaborating songwriters being inducted in unison, with each person being considered a separate entrant. The inaugural year featured 120 inductees, many of whom had a professional partnership, such as Rodgers and Hammerstein. Burt Bacharach and Hal David followed in 1972. \n",
      "\n",
      "\n",
      "Ailanthus altissima\n",
      "Ailanthus altissima , commonly known as tree of heaven, ailanthus, varnish tree, or in Chinese as chouchun (Chinese: 臭椿; pinyin: chòuchūn; literally: 'foul smelling tree'), is a deciduous tree in the family Simaroubaceae. It is native to both northeast and central China, as well as Taiwan. Unlike other members of the genus Ailanthus, it is found in temperate climates rather than the tropics. The tree grows rapidly and is capable of reaching heights of 15 m (50 feet) in 25 years. While the species rarely lives more than 50 years, some specimens exceed 100 years of age. Its remarkable suckering ability makes it possible for this tree to clone itself indefinitely. It is considered a noxious weed and vigorous invasive species, and one of the worst invasive plant species in Europe and North America. Description A. altissima is a medium-sized tree that reaches heights between 17 and 27 metres (56 and 89 ft) with a diameter at breast height of about 1 m (40 inches). The bark is smooth and light grey, often becoming somewhat rougher with light tan fissures as the tree ages. The twigs are stout, smooth to lightly pubescent, and reddish or chestnut in color. They have \n",
      "\n",
      "\n",
      "Tim Bowness\n",
      "Tim Bowness (born 29 November 1963) is an English singer and songwriter primarily known for his work as part of the band No-Man, a long-term project formed in 1987 with Porcupine Tree's Steven Wilson. Music career In addition to recording albums with No-Man (for record labels such as One Little Indian, Sony/Epic, and Kscope), Bowness has appeared on albums by US artists OSI and David Torn, Italian artists Alice, Saro Cosentino, Fjieri, Nosound and Stefano Panunzi, Norwegian groups White Willow and The Opium Cartel, and others. In 1994, he recorded an album with Porcupine Tree/Japan/Rain Tree Crow keyboard player Richard Barbieri, called Flame.Bowness has been a core or occasional member of several other bands. He has sung for German band Centrozoon and British electro-improvisers Darkroom on the more vocal-orientated projects performed and released by each group. He is the lead singer and guitarist for Henry Fool and also sings for Memories of Machines. He was singer (and occasional second guitarist) for Samuel Smiles between 1992 and 2000. Bowness also has a longstanding duo collaboration with Peter Chilvers (with whom he has worked in Samuel Smiles and Henry Fool). This project has so far produced one album, 2002's California, Norfolk. Bowness's \n",
      "\n",
      "\n",
      "Joshua Tree\n",
      "Yucca brevifolia is a plant species belonging to the genus Yucca. It is tree-like in habit, which is reflected in its common names: Joshua tree, yucca palm, tree yucca, and palm tree yucca.This monocotyledonous tree is native to the arid southwestern United States, specifically California, Arizona, Utah, and Nevada, where it is confined mostly to the Mojave Desert between 400 and 1,800 m (1,300 and 5,900 ft) elevation. It thrives in the open grasslands of Queen Valley and Lost Horse Valley in Joshua Tree National Park. A dense Joshua tree forest also exists on the Cima Dome (Cima, California) in the Mojave National Preserve; northeast of Kingman, Arizona, in Mohave County, Arizona; as well as along U.S. 93 between the towns of Wickenburg and Wikieup, and designated as the Joshua Tree Parkway of Arizona. The Joshua Tree has barely any leaves, just a few balls on the edges. The Joshua tree can appear in the Mojave desert most of the time. It rarely appears in Death Valley. Taxonomy The Joshua tree is also called izote de desierto (Spanish, \"desert dagger\"). It was first formally described in the botanical literature as Yucca brevifolia by George Engelmann in 1871 as part of \n",
      "\n",
      "\n",
      "Songwriter\n",
      "A songwriter is a musician who professionally composes musical compositions and writes lyrics for songs. A songwriter can also be called a composer, although the latter term tends to be used mainly for individuals from the classical music genre and film scoring, but is also associated writing and composing the original musical composition or musical bed. A songwriter who mainly writes the lyrics for a song is referred to as lyricist. The pressure from the music industry to produce popular hits means that songwriting is often an activity for which the tasks are distributed between a number of people. For example, a songwriter who excels at writing lyrics might be paired with a songwriter with the task of creating original melodies. Pop songs may be composed by group members from the band or by staff writers – songwriters directly employed by music publishers. Some songwriters serve as their own music publishers, while others have outside publishers.The old-style apprenticeship approach to learning how to write songs is being supplemented by university degrees and college diplomas and \"rock schools\". Knowledge of modern music technology (sequencers, synthesizers, computer sound editing), songwriting elements and business skills are now often necessary requirements for a songwriter. \n",
      "\n",
      "\n",
      "Tree sitting\n",
      "Tree sitting is a form of environmentalist civil disobedience in which a protester sits in a tree, usually on a small platform built for the purpose, to protect it from being cut down (speculating that loggers will not endanger human lives by cutting an occupied tree). Supporters usually provide the tree sitters with food and other supplies. Tree sitting is often used as a stalling tactic, to prevent the cutting of trees while lawyers fight in the courts to secure the long-term victories. Tree-sitting was once a children's pastime. In the early 1930s, when endurance contests raged across the U.S., it became a child's contest for kids to climb into their backyard trees and, serviced by siblings and local businesses, attempt to win prizes for the longest sit. Extractions Tree-sitters in trees claimed by Pacific Lumber in Humboldt County have been subject to forced removal by hired extractors. The practice started with a single extractor in the late 1990s but in 2003 Pacific Lumber hired teams of climbers to remove dozens of tree-sitters, particularly in the Freshwater area East of Eureka, California.Most of the extractions in Northern California are done under the leadership of Eric Schatz of Schatz Tree Service, \n",
      "\n",
      "\n",
      "2017 in music\n",
      "This topic covers notable events and articles related to 2017 in music. Specific locations Specific genres Albums released Awards Bands formed Bands reformed Bands on hiatus Bands disbanded Deaths January 1 – Memo Morales (79), Venezuelan rumba singer 2 – Auriel Andrew (69), Indigenous Australian country singer 4 – Bade Fateh Ali Khan (82), Pakistani classical music and Khyal singer 6 – Sylvester Potts (78), American R&B singer (The Contours) 7 – Jerzy Kossela (74), Polish rock guitarist (Czerwone Gitary) 8 – Peter Sarstedt (75), British folk pop singer 10 – Buddy Greco (90), American jazz singer and pianist 11 – Tommy Allsup (83), American rock and roll guitarist 13 Horacio Guarany (91), Argentine folklore singer Richie Ingui (69), American soul singer (Soul Survivors) 14 – John Boudreaux (80), American jazz and soul drummer 15 – Greg Trooper (61), American alternative country singer and songwriter 16 William Onyeabor (70), Nigerian funk singer-songwriter Steve Wright (66), American power pop bassist and songwriter (The Greg Kihn Band) 18 – Mike Kellie (69), British psychedelic rock and power pop drummer (Spooky Tooth, The Only Ones) 19 – Loalwa Braz (63), Brazilian pop and lambada singer (Kaoma) 20 Ronald \"Bingo\" Mundy (76), American singer \n",
      "\n",
      "\n"
     ]
    }
   ],
   "source": [
    "results = normalized_without_idf(\"singer and songwriter of Porcupine Tree\", 10)\n",
    "print_results(results)"
   ]
  },
  {
   "cell_type": "code",
   "execution_count": 515,
   "metadata": {
    "scrolled": true
   },
   "outputs": [
    {
     "name": "stdout",
     "output_type": "stream",
     "text": [
      "Harold Wilson\n",
      "James Harold Wilson, Baron Wilson of Rievaulx (11 March 1916 – 24 May 1995) was a British Labour politician who served as Prime Minister of the United Kingdom from 1964 to 1970 and 1974 to 1976. Entering Parliament in 1945, Wilson was appointed a parliamentary secretary in the Attlee ministry and rose quickly through the ministerial ranks; he became Secretary for Overseas Trade in 1947 and was elevated to Cabinet shortly thereafter as President of the Board of Trade. In opposition to the next Conservative government, he served as Shadow Chancellor (1955–1961) and Shadow Foreign Secretary (1961–1963). After Labour Party leader Hugh Gaitskell died suddenly in 1963, Wilson won the subsequent leadership election. After narrowly winning the 1964 general election, Wilson saw an increased majority in a snap election in 1966. Wilson's first period as Prime Minister coincided with a period of low unemployment and relative economic prosperity, though hindered by significant problems with Britain's external balance of payments. In 1969 he sent British troops to Northern Ireland. After losing the 1970 election to Edward Heath, he spent four years as Leader of the Opposition before the February 1974 election resulted in a hung parliament. After Heath's talks with the \n",
      "\n",
      "\n",
      "Dan Wilson (musician)\n",
      "Dan Wilson (born May 20, 1961) is an American musician, singer, songwriter, producer, and visual artist. His songwriting resume includes \"Closing Time\", which he wrote for his band, Semisonic, \"Not Ready to Make Nice\" (co-written with the Dixie Chicks) and \"Someone like You\" (co-written with Adele). He earned a Grammy nomination for “Closing Time” (Best Rock Song) and won Grammys for Song of the Year (“Not Ready to Make Nice” in 2007) and Album of the Year (which he won in 2012 as one of the producers of Adele’s 21). In addition to being the leader of Semisonic, Wilson has released several solo recordings, including the 2017 release Re-Covered. He was also a member of the Minneapolis psychedelic rock band Trip Shakespeare. Early years Wilson is originally from St. Louis Park, Minnesota. Wilson attended Harvard University, where he studied visual arts with a focus on printmaking and from which he graduated B.A. summa cum laude in Visual and Environmental Studies in 1983, while he resided in Dunster House. Wilson is an accomplished artist, and won the first Louis Sudler Prize for Outstanding Artistic Talent and Achievement in 1983. While in college, he began collaborating with his brother, singer-songwriter Matt Wilson, \n",
      "\n",
      "\n",
      "The B-52s\n",
      "The B-52s (styled as The B-52's prior to 2008) are an American new wave band formed in Athens, Georgia, in 1976. The original line-up consisted of Fred Schneider (vocals, percussion), Kate Pierson (vocals, keyboards), Cindy Wilson (vocals, percussion), Ricky Wilson (guitar), and Keith Strickland (drums, guitar, keyboards). Ricky Wilson died from AIDS-related illness in 1985, and Strickland switched from drums to lead guitar. The band also added touring members for albums and live performances. The group evoked a \"thrift shop aesthetic\", in the words of Bernard Gendron, by drawing from 1950s and 1960s pop sources, trash culture, and rock and roll. Schneider, Pierson, and Wilson sometimes use call-and-response-style vocals (Schneider's often humorous sprechgesang contrasting with the melodic harmonies of Pierson and Wilson), and their guitar- and keyboard-driven instrumentation composes their trademark sound which was also set apart from their contemporaries by the unusual guitar tunings used by Ricky Wilson on their earlier albums. The band has had many hits, including \"Rock Lobster\", \"Planet Claire\", \"Private Idaho\", \"Whammy Kiss\", \"Party Out of Bounds\", \"Wig\", \"Love Shack\" and \"Roam\". History 1976–1979: Formation and early years The B-52's were formed in 1976 when vocalist Cindy Wilson, guitarist Ricky Wilson (her elder brother), keyboardist \n",
      "\n",
      "\n",
      "Ray Wilson (musician)\n",
      "Raymond Wilson (born 8 September 1968) is a Scottish singer and guitarist, best known as vocalist in the post-grunge band Stiltskin, and in Genesis from 1996 to 1998. Early career/Stiltskin Wilson started off in a band called Guaranteed Pure in the 1990s, which featured himself along with Paul Holmes (keyboards), Steve Wilson (guitars), John Haimes (bass) and Chris Cavanagh (drums). They released an album called Swing Your Bag, the title track of which was included on a compilation album on the label of Fish entitled The Funny Farm Project : Outpatients '93. He then joined Stiltskin; they released one album and had a No. 1 hit in the UK with the single \"Inside\". Genesis Wilson joined Genesis as the band's lead singer after Phil Collins officially announced his departure in March 1996. Genesis founder members Tony Banks and Mike Rutherford were handed a CD of the Stiltskin album The Mind's Eye from Virgin Records executives. They were impressed with Wilson's vocal abilities and had their manager, Tony Smith, contact him for an audition. Wilson was announced as the new lead singer of Genesis in June 1997. Their only album with Wilson, ...Calling All Stations..., was released that September and became \n",
      "\n",
      "\n",
      "Owen Wilson\n",
      "Owen Cunningham Wilson (born November 18, 1968) is an American actor, producer, and screenwriter. He has had a long association with filmmaker Wes Anderson, with whom he shared writing and acting credits for Bottle Rocket (1996), Rushmore (1998), and The Royal Tenenbaums (2001), the latter of which earned him a nomination for the Academy Award for Best Original Screenplay. He has appeared in a number of Frat Pack comedies and voiced Lightning McQueen in the Cars franchise. His older brother Andrew and younger brother Luke are also actors. Early life Wilson was born in Dallas, Texas on November 18, 1968, the middle of three sons of photographer Laura Wilson (née Cunningham) (born 1939) and Robert Andrew Wilson (1941–2017), an advertising executive and operator of a public television station. His parents, of Irish descent, were originally from Massachusetts. Wilson attended New Mexico Military Institute and the University of Texas at Austin, where he pursued a Bachelor of Arts degree in English. Career 1990s After his film debut in Bottle Rocket (1996), Wilson co-wrote with Wes Anderson the script for Anderson's next two directorial films, Rushmore and The Royal Tenenbaums, for which they garnered an Oscar nomination for Best Original Screenplay. Wilson \n",
      "\n",
      "\n",
      "Jackie Wilson\n",
      "Jack Leroy Wilson Jr. (June 9, 1934 – January 21, 1984) was an American soul singer and performer. A tenor with a four-octave range, Wilson was a prominent figure in the transition of rhythm and blues into soul. Wilson was considered a master showman and one of the most dynamic singers and performers in pop, R&B, and rock & roll history, earning the nickname \"Mr. Excitement\". Wilson gained initial fame as a member of the R&B vocal group Billy Ward and His Dominoes. He went solo in 1957 and scored over 50 chart singles spanning the genres of R&B, pop, soul, doo-wop and easy listening, including 16 R&B Top 10 hits, in which six R&B of the repertoire ranked as number ones. On the Billboard Hot 100, Wilson scored 14 top 20 pop hits, six of which reached the top 10. Jackie Wilson was one of the most important and influential musical artists of his generation. A two-time Grammy Hall of Fame Inductee, and winner of the Rhythm and Blues Foundation's special Legacy Tribute Award in 2003, Jackie Wilson was inducted to the Rock and Roll Hall of Fame in 1987. In 2004, Rolling Stone magazine ranked Jackie Wilson #69 \n",
      "\n",
      "\n",
      "Wilson Phillips\n",
      "Wilson Phillips is an American vocal group consisting of Carnie Wilson, Wendy Wilson, and Chynna Phillips, the daughters of Brian Wilson of The Beach Boys and of John and Michelle Phillips of The Mamas & the Papas, respectively. Their 1990 eponymous debut album sold over 10 million copies worldwide and placed three number-one singles on the Billboard Hot 100, making the trio the best-selling female group at the time. In 1990, the group won the Billboard Music Award for Hot 100 Single of the Year for \"Hold On\", and in addition was nominated for five Grammy Awards and two American Music Awards. History 1989–91: Formation and Wilson Phillips The Wilson sisters and Phillips grew up together in Southern California in the 1970s and 1980s. The three shared a love of music and songwriting, and developed their own style of vocal harmonies. In 1989, the trio signed with SBK Records. The group is also known for being the offspring of prominent musicians; the Wilsons are the daughters of Brian Wilson of The Beach Boys and Marilyn Rovell of The Honeys, while Phillips is the daughter of John and Michelle Phillips of The Mamas & the Papas. Wilson Phillips released their debut \n",
      "\n",
      "\n",
      "Nancy Wilson (singer)\n",
      "Nancy Sue Wilson (February 20, 1937 – December 13, 2018) was an American singer whose career spanned over five decades, from the mid-1950s until her retirement in the early 2010s. She was especially notable for her single \"(You Don't Know) How Glad I Am\" and her version of the standard \"Guess Who I Saw Today\". Wilson recorded more than 70 albums and won three Grammy Awards for her work. During her performing career, Wilson was labeled a singer of blues, jazz, R&B, pop, and soul; a \"consummate actress\"; and \"the complete entertainer\". The title she preferred, however, was \"song stylist\". She received many nicknames including \"Sweet Nancy\", \"The Baby\", \"Fancy Miss Nancy\" and \"The Girl With the Honey-Coated Voice\". Early life Nancy Sue Wilson was born on February 20, 1937, in Chillicothe, Ohio, the first of six children of Olden Wilson, an iron foundry worker, and Lillian Ryan, a maid. Wilson's father would buy records to listen to at home. At an early age Wilson heard recordings from Billy Eckstine, Nat King Cole, and Jimmy Scott with Lionel Hampton's Big Band. Wilson says: \"The juke joint down on the block had a great jukebox and there I heard Dinah Washington, \n",
      "\n",
      "\n",
      "Ann Wilson\n",
      "Ann Dustin Wilson (born June 19, 1950) is an American musician, best known as the lead singer and songwriter for the rock band Heart. Wilson was listed as one of the \"Top Heavy Metal Vocalists of All Time\" by Hit Parader magazine in 2006. Wilson has a dramatic soprano vocal range. Early life Ann Dustin Wilson was born in San Diego, California. Her father was a major in the U.S. Marine Corps. Due to her father's military career, the Wilson family moved frequently. They lived near American military facilities in Panama and Taiwan before settling in Seattle, Washington, in the early 1960s. To maintain a sense of home no matter where in the world they were residing, the Wilsons turned to music. \"On Sunday we'd have pancakes and opera,\" her sister Nancy Wilson recalled. \"My dad would be conducting in the living room. We'd turn it way up and rock. There was everything from classical music to Ray Charles, Judy Garland, Peggy Lee, bossa nova, and early experimental electronic music.\"Wilson's family eventually settled in Bellevue, a suburb of Seattle, Washington. In 1968, she graduated from Sammamish High School. Shy because of a stutter, Wilson sought fulfillment in music. In the \n",
      "\n",
      "\n",
      "The Cable Guy\n",
      "The Cable Guy is a 1996 American black comedy film directed by Ben Stiller, starring Jim Carrey and Matthew Broderick. It was released in the United States on June 14, 1996. The film co-stars Leslie Mann, Jack Black, George Segal, Diane Baker, Eric Roberts, Owen Wilson, Janeane Garofalo, David Cross, Andy Dick, Amy Stiller, and Bob Odenkirk.The film was a box office success, but received mixed reception from critics. Plot Architect Steven Kovacs moves into an apartment after a failed marriage proposal to his girlfriend Robin Harris. Taking advice from his friend Rick Lagados, Steven bribes cable installer Ernie \"Chip\" Douglas into giving him free movie channels. Chip gets Steven to hang out with him the next day and makes him one of his \"preferred customers\". Chip takes Steven to the city's central satellite dish, where he confides to Steven about being raised on television due to the frequent absences of his single mother. Chip soon proves to be intrusive as he crashes a basketball game between Steven and his friends and leaves several messages on Steven's answering machine. Following a passionate knight battle between Chip and Steven at Medieval Times, Steven finds that Chip has secretly installed an expensive \n",
      "\n",
      "\n"
     ]
    }
   ],
   "source": [
    "results = normalized_without_idf(\"Steven Wilson\", 10)\n",
    "print_results(results)"
   ]
  },
  {
   "cell_type": "code",
   "execution_count": 516,
   "metadata": {
    "scrolled": true
   },
   "outputs": [
    {
     "name": "stdout",
     "output_type": "stream",
     "text": [
      "Cat People (1942 film)\n",
      "Cat People is a 1942 American horror film directed by Jacques Tourneur, produced by Val Lewton, and starring Simone Simon, Kent Smith, Jane Randolph and Tom Conway. The plot focuses on a Serbian fashion illustrator in New York City who believes herself to be descended from a race of people who shape shift into panthers when sexually aroused or angered. DeWitt Bodeen wrote the original screenplay, which was based on Lewton's short story The Bagheeta, published in 1930. Shot in Los Angeles, Cat People premiered in New York City on December 5, 1942, and was given a wide theatrical release on Christmas Day. The film was a moderate critical and commercial success at the time of its release. It was followed by one sequel, The Curse of the Cat People (1944). In the intervening years, Cat People was subject of critical reappraisal, and noted for its visual influence, particularly the work of cinematographer Nicholas Musuraca. In 1993, the film was selected for preservation in the United States National Film Registry by the Library of Congress as being \"culturally, historically, or aesthetically significant.\" The film was later acquired by The Criterion Collection and released on Blu-ray in 2016. Plot At the \n",
      "\n",
      "\n",
      "Maneki-neko\n",
      "The Maneki-neko (招き猫), literally meaning \"beckoning cat\", is a common Japanese figurine (lucky charm, talisman) which is often believed to bring good luck to the owner. In modern times, they are usually made of ceramic or plastic. The figurine depicts a cat (traditionally a calico Japanese Bobtail) beckoning with an upright paw, and is usually displayed in, and often at the entrance of, shops, restaurants, pachinko parlors, laundromats, dry cleaners, salons, and other businesses. Some of the sculptures are electric or battery-powered and have a slow-moving paw beckoning. Maneki-neko come in different colors, styles and degrees of ornateness. Common colors are white, black, gold and sometimes red. In addition to ceramic figurines, Maneki-neko can be found as keychains, piggy banks, air fresheners, house-plant pots, and miscellaneous ornaments, as well as large statues. It is also called the \"Chinese lucky cat\" because of its popularity among Chinese merchants. The name Maneki-neko can be interpreted as a waving cat or a chant of a chant. Common features The cat is depicted seated, traditionally holding a koban coin, with one paw raised in a beckoning gesture. Gesture To some Westerners (Italians and Spaniards are notable exceptions) it may seem as if the Maneki-neko \n",
      "\n",
      "\n",
      "Nepetalactone\n",
      "Nepetalactone is an organic compound, first isolated from the plant catnip (Nepeta cataria), which acts as a cat attractant. Nepetalactone is a bicyclic monoterpenoid, a ten-carbon compound derived from isoprene with two fused rings: a cyclopentane and a lactone (a modified δ-valerolactone ring). It belongs to the class of iridoids. The structure and the effects of the compound are similar to those of valepotriates. A number of isomers of nepetalactone are known.Nepetalactone was first reported in 1941 after it was isolated by steam distillation of catnip.The compound is also present in the wood of tartarian honeysuckle (Lonicera tatarica), shavings of which are often used in cat toys. Effects on animals 4aα,7α,7aα-Nepetalactone is the active isomer in Nepeta cataria and has a characteristic effect on cats. Around 67–80% of cats are affected. Susceptibility is gene-linked. The chemical interacts as a vapor at the olfactory epithelium.Nepetalactone has effects on some insects: it repels cockroaches and mosquitos. == References == \n",
      "\n",
      "\n",
      "The Cat Inside\n",
      "The Cat Inside is an autobiographical novella written by William S. Burroughs and illustrated by Brion Gysin. The book was first published by Grenfell Press in 1986 in an edition of only 133 copies; it was later reissued by Viking Press in 1992 in a mass market hardcover edition. In the book Burroughs, a noted lover of cats, reminisces about the many cats in his life. Gysin, a frequent collaborator with Burroughs dating back to the early 1960s, died in 1986, making this possibly the last work he did with Burroughs. Gysin is also referenced by name in the text. Burroughs reads excerpts from the novella, \"Kill the Badger!\" and \"Warning to Young Couples\", on the albums Dead City Radio (1990) and Spare Ass Annie and Other Tales (1993). \n",
      "\n",
      "\n",
      "Tommy the Cat\n",
      "\"Tommy the Cat\" is a song by the American funk metal band Primus, released on their second album, Sailing the Seas of Cheese. Recording The song contains spoken word portions (as the voice of Tommy the Cat) interspersed with the singing of Les Claypool. In their live performances Claypool does both parts himself, but singer Tom Waits provided the voice of Tommy the Cat on the studio version from Sailing the Seas of Cheese. Release Primus released \"Tommy the Cat\" following their first major label single, \"Jerry Was a Race Car Driver\". In concert, Claypool started introducing all of their other songs by saying \"This next song is not Tommy the Cat\", apparently due to the popularity the song had gained after a video was released and played on MTV.The song was briefly featured in the 1991 film Bill & Ted's Bogus Journey during the 'Battle of the Bands' portion of the movie, where Primus was shown performing it. The song was also used in the teaser trailers for South Park: Bigger, Longer, and Uncut. References External links Lyrics of this song at MetroLyrics \n",
      "\n",
      "\n",
      "Top Cat\n",
      "Top Cat is an American animated sitcom produced by Hanna-Barbera Productions and originally broadcast in prime-time on the ABC network. The show aired 30 episodes in a weekly evening timeslot from September 27, 1961 to April 18, 1962. The show was a ratings failure in prime time, but found a receptive audience on Saturday morning children's programming. The show aired on Saturdays in 1962 and 1963 on ABC, and was then rerun in various Saturday morning slots on NBC from 1965 to 1969. Premise The central character, Top Cat (T.C.) is the leader of a gang of Manhattan alley cats living in Hoagy's Alley: Fancy-Fancy, Spook, Benny the Ball, Brain, and Choo Choo.Top Cat and his gang were inspired by the East Side Kids, characters from the series of 1940s 'B' movies, but their more immediate roots lay in The Phil Silvers Show (1955–59), a military comedy whose lead character (Sergeant Bilko, played by Silvers) was a crafty con-man. Maurice Gosfield, who played Private Duane Doberman in The Phil Silvers Show, provided the voice for Benny the Ball in Top Cat, and Benny's rotund appearance was based on Gosfield's. Additionally, Arnold Stang's vocal characterization of the lead character, the eponymous \n",
      "\n",
      "\n",
      "Cats (musical)\n",
      "Cats is a sung-through musical composed by Andrew Lloyd Webber, based on the 1939 poetry collection Old Possum's Book of Practical Cats by T. S. Eliot. It tells the story of a tribe of cats called the Jellicles and the night they make the \"Jellicle choice,\" deciding which cat will ascend to the Heaviside Layer and come back to a new life. The musical includes the well-known song \"Memory\" as sung by Grizabella. As of 2019, Cats remains the fourth-longest-running Broadway show and the sixth-longest-running West End show. Lloyd Webber began setting Eliot's poems to music in 1977 and the compositions were first presented as a song cycle in 1980. Producer Cameron Mackintosh then recruited director Trevor Nunn and choreographer Gillian Lynne to turn the songs into a complete musical. Cats opened to positive reviews at the New London Theatre in the West End in 1981 and then to mixed reviews at the Winter Garden Theatre on Broadway in 1982. It won numerous awards including Best Musical at both the Laurence Olivier and Tony Awards. Despite its unusual premise that deterred investors initially, the musical turned out to be an unprecedented commercial success, with a worldwide gross of US$3.5 billion \n",
      "\n",
      "\n",
      "Ring-tailed cat\n",
      "The ringtail (Bassariscus astutus) is a mammal of the raccoon family, native to arid regions of North America. Even though it is not a cat, it is also known as the ringtail cat, ring-tailed cat, miner's cat or bassarisk, and is also sometimes called a \"civet cat\" (after similar, though only distantly related, cat-like carnivores of Asia and Africa). The ringtail is sometimes called a cacomistle, though this term seems to be more often used to refer to Bassariscus sumichrasti. Description The ringtail is buff to dark brown in color with pale underparts. Ringtails have a pointed muzzle with long whiskers resembles that of a fox (its Latin name means ‘clever little fox’) and its body resembles that of a cat. These animals are characterized by a long black and white \"ringed\" tail with 14–16 stripes, which is the about the same length as its body. The claws are short, straight, and semi-retractable, well-suited for climbing.Smaller than a house cat, it is one of the smallest extant procyonids (only the smallest in the olingo species group average smaller). Its body alone measures 30–42 cm (12–17 in) and its tail averages 31–44 cm (12–17 in) from its base. It typically weighs \n",
      "\n",
      "\n",
      "Black cat\n",
      "A black cat is a domestic cat with black fur that may be a mixed or specific breed, or a common domestic cat of no particular breed. The Cat Fanciers' Association (CFA) recognizes 22 cat breeds that can come with solid black coats. The Bombay breed is exclusively black. All-black fur pigmentation is slightly more prevalent in male cats than female cats. Their high melanin pigment content causes most black cats to have yellow (golden) eyes (irises). Coat Any cat whose fur is a single color, including black, is known as a \"solid\" or \"self\". A \"solid black\" cat may be coal black, grayish black, or brownish black. Most solid-colored cats result from a recessive gene that suppresses the tabby pattern. Sometimes the tabby pattern is not completely suppressed; faint markings may appear in certain lights, even on a solid black cat. A cat having black fur with white roots is known as a \"black smoke.\"Black cats can also \"rust\" in sunlight, the coat turning a lighter brownish-red shade. Eumelanin, the pigment that is required to produce the black fur, is somewhat fragile, so the rusting effect can be more pronounced in cats that frequently spend time in the sun. \n",
      "\n",
      "\n",
      "Cat\n",
      "The cat (Felis catus) is a domestic species of small carnivorous mammal. It is the only domesticated species in the family Felidae and is often referred to as the domestic cat to distinguish it from the wild members of the family. A cat can either be a house cat, a farm cat or a feral cat; the latter ranges freely and avoids human contact. Domestic cats are valued by humans for companionship and their ability to hunt pests such as rodents. About 60 cat breeds are recognized by various cat registries.The cat is similar in anatomy to the other felid species: it has a strong flexible body, quick reflexes, sharp teeth and retractable claws adapted to killing small prey. Its night vision and sense of smell are well developed. Cat communication includes vocalizations like meowing, purring, trilling, hissing, growling and grunting as well as cat-specific body language. It is a solitary hunter but a social species. It can hear sounds too faint or too high in frequency for human ears, such as those made by mice and other small mammals. It is a predator that is most active at dawn and dusk. It secretes and perceives pheromones.Female domestic cats can \n",
      "\n",
      "\n"
     ]
    }
   ],
   "source": [
    "results = normalized_without_idf(\"cat\", 10)\n",
    "print_results(results)"
   ]
  },
  {
   "cell_type": "markdown",
   "metadata": {},
   "source": [
    "## Prosty interfejs webowy"
   ]
  },
  {
   "cell_type": "markdown",
   "metadata": {},
   "source": [
    "Stworzono prosty interfejs webowy w frameworku Flask. Do jego utworzenia najważniejsze funkcje przeniesiono do odpowiednich (Search oraz TextPreprocessor). Instancja klasy Search jest tworzona przy uruchomieniu aplikacji i służy do wykonywania zapytań. Wcześniej obliczone macierze odczytuje z plików. Aplikacja webowa znajduje się w pliku search_webpage.py. Dostępne są opcje wyszukiwania: korzystając z LSI, korzystając z macierzy znormalizowanej, korzystając z macierzy nieznormalizowanej. Część wizualna zrealizowana została za pomocą Bootstrap."
   ]
  }
 ],
 "metadata": {
  "kernelspec": {
   "display_name": "Python 3",
   "language": "python",
   "name": "python3"
  },
  "language_info": {
   "codemirror_mode": {
    "name": "ipython",
    "version": 3
   },
   "file_extension": ".py",
   "mimetype": "text/x-python",
   "name": "python",
   "nbconvert_exporter": "python",
   "pygments_lexer": "ipython3",
   "version": "3.7.7"
  }
 },
 "nbformat": 4,
 "nbformat_minor": 4
}

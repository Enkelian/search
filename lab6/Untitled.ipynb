{
 "cells": [
  {
   "cell_type": "markdown",
   "metadata": {},
   "source": [
    "# Laboratorium 6 - Singular Value Decomposition"
   ]
  },
  {
   "cell_type": "markdown",
   "metadata": {},
   "source": [
    "## Anna Nosek\n",
    "nr indeksu 305381"
   ]
  },
  {
   "cell_type": "code",
   "execution_count": 1,
   "metadata": {},
   "outputs": [],
   "source": [
    "import wikipediaapi as wa\n",
    "import os.path\n",
    "import string\n",
    "import scipy.sparse as sparse\n",
    "import numpy as np\n",
    "import nltk\n",
    "from nltk.corpus import stopwords\n",
    "from nltk.tokenize import word_tokenize\n",
    "from nltk.stem import PorterStemmer\n",
    "from sklearn.preprocessing import normalize\n",
    "from sklearn.decomposition import TruncatedSVD\n",
    "from collections import defaultdict\n",
    "import json\n",
    "\n",
    "# nltk.download('punkt')\n",
    "# nltk.download('stopwords')\n",
    "\n",
    "wiki_wiki = wa.Wikipedia('en')\n",
    "max_depth = 2\n",
    "res_dir = \"res\"\n",
    "dir = res_dir + os.sep + \"stoner\"\n",
    "ps = PorterStemmer()\n",
    "\n",
    "\n",
    "def valid_title(title):\n",
    "    words = {\"Wikipedia\", \"Help\", \"Category\", \":\", \"\\\"\", \"/\", \"?\", \"List\", \"*\", \"<\", \">\", \"|\"}\n",
    "    for word in words:\n",
    "        if word in title:\n",
    "            return False\n",
    "    return True\n",
    "\n",
    "\n",
    "def visit_links(page, rec_level):\n",
    "    if rec_level > max_depth:\n",
    "        return\n",
    "\n",
    "    links = page.links\n",
    "    for key in sorted(links.keys()):\n",
    "        title = links[key].title\n",
    "        if valid_title(title):\n",
    "            visit_page(title, rec_level + 1)\n",
    "            \n",
    "\n",
    "def print_categorymembers(categorymembers, level=0, max_level=1):\n",
    "    for c in categorymembers.values():\n",
    "        print(\"%s: %s (ns: %d)\" % (\"*\" * (level + 1), c.title, c.ns))\n",
    "        if c.ns == wa.Namespace.CATEGORY and level < max_level:\n",
    "            print_categorymembers(c.categorymembers, level=level + 1, max_level=max_level)\n",
    "\n",
    "\n",
    "def visit_page(page, rec_level):\n",
    "    \n",
    "    page_py = wiki_wiki.page(page)\n",
    "    file_name = dir + page_py.title + \".txt\"\n",
    "    \n",
    "    if os.path.exists(file_name):\n",
    "        return\n",
    "    \n",
    "    words = page_py.text.split()[:200]\n",
    "    if len(words) > 100:\n",
    "        \n",
    "        with open(dir + os.sep + page_py.title + \".txt\", 'w+', encoding=\"utf-8\") as file:\n",
    "            file.write(page_py.title+\"\\n\")\n",
    "            for word in words:\n",
    "                file.write(word+' ')\n",
    "        visit_links(page_py, rec_level)\n",
    "\n",
    "\n",
    "def get_files():\n",
    "    categories = wiki_wiki.page(\"Category:Stoner rock musical groups\")\n",
    "\n",
    "    for member in categories.categorymembers:\n",
    "        visit_page(member, 0)"
   ]
  },
  {
   "cell_type": "markdown",
   "metadata": {},
   "source": [
    "## Dane"
   ]
  },
  {
   "cell_type": "markdown",
   "metadata": {},
   "source": [
    "Aby pozyskać dokumenty wykorzystano Wikipedia API. Za jego pomocą pobrano około 50 tysięcy artykułów z Wikipedii (zapisano pierwsze 200 słów każdego z artykułów wraz z ich tytułem). Artykuły pobierano w następujący sposób: rozpoczęto od listy zespołów z kategorii Stoner rock musical groups, a następnie rekurencyjnie w każdym arykule wchodzono do kolejnych odnośników do artykułów Wikipedii. Ominięto artykuły mające mało treści, a także takie, które były kolejnymi listami. Uzyskane w ten sposób dokumenty nie są spójne tematycznie. Z maksymalnym poziomem zagłębienia rekurencji równym 2 uzyskano już różnorodną tematykę otrzymanych tekstów."
   ]
  },
  {
   "cell_type": "markdown",
   "metadata": {},
   "source": [
    "Link do wykorzystanego API:\n",
    "https://github.com/martin-majlis/Wikipedia-API"
   ]
  },
  {
   "cell_type": "code",
   "execution_count": 2,
   "metadata": {},
   "outputs": [],
   "source": [
    "def get_terms(dir):\n",
    "    terms = set({})\n",
    "    document_count = 0\n",
    "    documents_dict = {}\n",
    "    i = 0\n",
    "    for subdir, dirs, files in os.walk(dir):\n",
    "        for file in files:\n",
    "            documents_dict[file] = i\n",
    "            i += 1\n",
    "            file_path = dir + os.sep + file\n",
    "            document_count+=1\n",
    "            with open(file_path, encoding=\"utf-8\") as f:\n",
    "                text = f.read()\n",
    "                words = text_to_words(text)\n",
    "                for word in words:\n",
    "                    terms.add(word)\n",
    "    return np.sort(list(terms)), documents_dict\n",
    "\n",
    "def is_ascii(s):\n",
    "    return all(ord(c) < 128 for c in s)\n",
    "\n",
    "def text_to_words(text):\n",
    "    text = clear_text(text)\n",
    "    words = word_tokenize(text)\n",
    "    words = remove_stop_words(words)\n",
    "    return words\n",
    "\n",
    "\n",
    "def clear_text(text):\n",
    "    text = \"\".join([c for c in text if c not in string.punctuation])\n",
    "    return text.lower()\n",
    "\n",
    "\n",
    "def remove_stop_words(words):\n",
    "    stop_words = set(stopwords.words('english'))\n",
    "    words = [ps.stem(w) for w in words if (w not in stop_words and is_ascii(w))]\n",
    "    return words"
   ]
  },
  {
   "cell_type": "markdown",
   "metadata": {},
   "source": [
    "Powyższy kod odpowiada za wstępne przetworzenie dokumentów i uzyskanie słownika termów. Słownik ten został uzyskany jako unia wszystkich słów występujących we wszystkich dokumentach. Usunięto znaki interpunkcyjne, wszystkie litery zamieniono na małe i zastosowano stemming (PorterStemmer z bilioteki nltk). Usunięto takze stop words (listę stop words uzyskano z biblioteki nltk). W funkcji get_terms stworzono także słownik dokumentów, aby w późniejszych etapach mieć łatwy dostęp do indeksu danego dokumentu."
   ]
  },
  {
   "cell_type": "code",
   "execution_count": 3,
   "metadata": {},
   "outputs": [
    {
     "name": "stdout",
     "output_type": "stream",
     "text": [
      "['0' '00' '000' ... 'zzap64' 'zzebra' 'zzzzz']\n"
     ]
    }
   ],
   "source": [
    "terms, documents_dict = get_terms(dir)\n",
    "print(terms)"
   ]
  },
  {
   "cell_type": "code",
   "execution_count": 4,
   "metadata": {},
   "outputs": [
    {
     "name": "stdout",
     "output_type": "stream",
     "text": [
      "197360\n"
     ]
    }
   ],
   "source": [
    "print(len(terms))\n",
    "terms_dict = {}\n",
    "for i in range(len(terms)):\n",
    "    terms_dict[terms[i]] = i"
   ]
  },
  {
   "cell_type": "markdown",
   "metadata": {},
   "source": [
    "Za pomocą słownika zaindeksowano posortowane termy. Następnie oba słowniki zapisano do plików o rozszerzeniu .json."
   ]
  },
  {
   "cell_type": "code",
   "execution_count": 5,
   "metadata": {
    "scrolled": true
   },
   "outputs": [
    {
     "name": "stdout",
     "output_type": "stream",
     "text": [
      "197360\n",
      "50293\n"
     ]
    }
   ],
   "source": [
    "print(len(terms_dict))\n",
    "print(len(documents_dict))"
   ]
  },
  {
   "cell_type": "code",
   "execution_count": 6,
   "metadata": {},
   "outputs": [],
   "source": [
    "json.dump(terms_dict, open( res_dir + os.sep + \"terms_dict.json\", 'w' ))\n",
    "json.dump(documents_dict, open( res_dir + os.sep + \"documents_dict.json\", 'w' ))"
   ]
  },
  {
   "cell_type": "code",
   "execution_count": 7,
   "metadata": {},
   "outputs": [],
   "source": [
    "def load_dicts():\n",
    "    terms_dict = json.load( open( res_dir + os.sep + \"terms_dict.json\" ) )\n",
    "    documents_dict = json.load( open( res_dir + os.sep + \"documents_dict.json\" ) )\n",
    "    return terms_dict, documents_dict"
   ]
  },
  {
   "cell_type": "markdown",
   "metadata": {},
   "source": [
    "## Obliczenie bag of words i term by document matrix"
   ]
  },
  {
   "cell_type": "code",
   "execution_count": 8,
   "metadata": {},
   "outputs": [],
   "source": [
    "def get_term_by_document_matrix(terms_dict, dir, documents_dict):\n",
    "    \n",
    "    terms_count = len(terms_dict)\n",
    "    documents_count = len(documents_dict)\n",
    "    \n",
    "    tbd = sparse.lil_matrix((terms_count, documents_count))\n",
    "    for subdir, dirs, files in os.walk(dir):\n",
    "        for file in files:\n",
    "            file_path = dir + os.sep + file\n",
    "            with open(file_path, encoding=\"utf-8\") as f:\n",
    "                for word in text_to_words(f.read()):\n",
    "                    tbd[terms_dict[word], documents_dict[file]] += 1\n",
    "    return sparse.csc_matrix(tbd)"
   ]
  },
  {
   "cell_type": "code",
   "execution_count": 9,
   "metadata": {},
   "outputs": [],
   "source": [
    "tbd = get_term_by_document_matrix(terms_dict, dir, documents_dict)\n",
    "sparse.save_npz(res_dir + os.sep + 'tbd_no_idf.npz', tbd)"
   ]
  },
  {
   "cell_type": "code",
   "execution_count": 10,
   "metadata": {},
   "outputs": [
    {
     "name": "stdout",
     "output_type": "stream",
     "text": [
      "(197360, 50293)\n"
     ]
    }
   ],
   "source": [
    "print(tbd.shape)"
   ]
  },
  {
   "cell_type": "markdown",
   "metadata": {},
   "source": [
    "Utworzono macierz term by document poprzez wyznaczenie dla każdego dokumentu wektora bag of words. Do utworzenia macierzy term by document wykorzystano macierz lil z scipy.sparse."
   ]
  },
  {
   "cell_type": "code",
   "execution_count": 11,
   "metadata": {},
   "outputs": [],
   "source": [
    "def apply_idf(tbd, terms_count, documents_count):\n",
    "    idf = []\n",
    "    tbd_csr = sparse.csr_matrix(tbd)\n",
    "    i = 0\n",
    "    for row in tbd_csr:\n",
    "        doc_count = row.count_nonzero()\n",
    "        idf_i = np.log(documents_count/doc_count)\n",
    "        idf.append(idf_i)\n",
    "        row = row * idf_i\n",
    "    return idf, tbd_csr"
   ]
  },
  {
   "cell_type": "code",
   "execution_count": 12,
   "metadata": {},
   "outputs": [],
   "source": [
    "idf, tbd_csr = apply_idf(tbd, len(terms_dict), len(documents_dict))"
   ]
  },
  {
   "cell_type": "code",
   "execution_count": 13,
   "metadata": {},
   "outputs": [],
   "source": [
    "tbd_csc = sparse.csc_matrix(tbd_csr)\n",
    "sparse.save_npz(res_dir + os.sep + 'tbd.npz', tbd_csc)"
   ]
  },
  {
   "cell_type": "markdown",
   "metadata": {},
   "source": [
    "Następnie wyznaczono inverse document frequency dla każdego dokumentu. Liczbę dokumentów, w której wystąpiło dane słowo obliczno jako liczbę niezerowych komórek w rzędzie macierzy term by document. Tak przetworzoną macierz term by document zapisano do pliku."
   ]
  },
  {
   "cell_type": "code",
   "execution_count": 14,
   "metadata": {},
   "outputs": [],
   "source": [
    "def get_col_norms(tbd, documents_count):\n",
    "    \n",
    "    col_norms = []\n",
    "    \n",
    "    for i in range(documents_count):\n",
    "        col_norm = sparse.linalg.norm(tbd.getcol(i))\n",
    "        col_norms.append(col_norm)\n",
    "    return sparse.csc_matrix(col_norms)"
   ]
  },
  {
   "cell_type": "code",
   "execution_count": 15,
   "metadata": {},
   "outputs": [],
   "source": [
    "col_norms = get_col_norms(tbd_csc, len(documents_dict))"
   ]
  },
  {
   "cell_type": "code",
   "execution_count": 16,
   "metadata": {},
   "outputs": [],
   "source": [
    "sparse.save_npz(res_dir + os.sep + 'col_norms.npz', col_norms)"
   ]
  },
  {
   "cell_type": "code",
   "execution_count": 17,
   "metadata": {},
   "outputs": [],
   "source": [
    "def print_results(results):\n",
    "    for res in results:\n",
    "        file_path = dir+os.sep+res[1]\n",
    "        with open(file_path, encoding=\"utf-8\") as f:\n",
    "            text = f.read()\n",
    "            print(text)\n",
    "            print(\"\\n\")"
   ]
  },
  {
   "cell_type": "code",
   "execution_count": 18,
   "metadata": {},
   "outputs": [],
   "source": [
    "def query_to_bow(query, terms_dict):\n",
    "\n",
    "    query_words = text_to_words(query)\n",
    "    query_words = clean_query(query_words, terms_dict)\n",
    "\n",
    "    if not query_words:\n",
    "        return []\n",
    "\n",
    "    query_bow = sparse.lil_matrix((len(terms_dict), 1))\n",
    "\n",
    "    for word in query_words:\n",
    "        query_bow[terms_dict[word], 0] += 1\n",
    "    return query_bow\n",
    "\n",
    "def clean_query(query_words, terms_dict):\n",
    "    query_words = [word for word in query_words if word in terms_dict]\n",
    "    return query_words"
   ]
  },
  {
   "cell_type": "markdown",
   "metadata": {},
   "source": [
    "Powyższe funkcje, używane we wszystkich wariantach wyszukiwarki przekształca zapytanie w wektor bag of words. Najpierw poddaje tekst tym samym przekształceniom, co dokumenty (usunięcie interpunkcji i stop words, stemming), usuwa z zapytania słowa niebędące w słowniku, a następnie tworzy wektor bag of words w postaci macierzy rzadkiej."
   ]
  },
  {
   "cell_type": "markdown",
   "metadata": {},
   "source": [
    "## Wyszukiwanie bez wcześniejszej normalizacji macierzy"
   ]
  },
  {
   "cell_type": "code",
   "execution_count": 19,
   "metadata": {},
   "outputs": [],
   "source": [
    "def find_documents_not_normalized(query, k):\n",
    "    \n",
    "    terms_dict, documents_dict = load_dicts()\n",
    "    \n",
    "    query_bow = query_to_bow(query, terms_dict)\n",
    "    \n",
    "    if query_bow == []:\n",
    "        return []\n",
    "    \n",
    "    query_bow_t = query_bow.transpose()\n",
    "    \n",
    "    tbd = sparse.load_npz(res_dir + os.sep + 'tbd.npz')\n",
    "    col_norms = sparse.load_npz(res_dir + os.sep + 'col_norms.npz')\n",
    "    results = []\n",
    "    \n",
    "    query_norm = sparse.linalg.norm(query_bow)\n",
    "    \n",
    "    for document in documents_dict.keys():\n",
    "        i = documents_dict[document]\n",
    "        col = tbd.getcol(i)\n",
    "        res = query_bow_t.dot(col)[0,0] / (col_norms.getcol(i)[0,0] * query_norm)\n",
    "        if i < k:\n",
    "            results.append((res, document))\n",
    "        else:\n",
    "            results = sorted(results)\n",
    "            if res > results[0][0]:\n",
    "                results[0] = (res, document)\n",
    "                \n",
    "    return results"
   ]
  },
  {
   "cell_type": "code",
   "execution_count": 20,
   "metadata": {
    "scrolled": false
   },
   "outputs": [
    {
     "name": "stdout",
     "output_type": "stream",
     "text": [
      "Screaming Trees\n",
      "Screaming Trees were an American rock band formed in Ellensburg, Washington in 1985 by vocalist Mark Lanegan, guitarist Gary Lee Conner, bass player Van Conner and drummer Mark Pickerel. Pickerel had been replaced by Barrett Martin by the time the band reached its most successful period. Although widely associated with grunge, the band's sound incorporated hard rock and psychedelic elements. During Screaming Trees' existence the band released seven studio albums, five EPs, and three compilations. Screaming Trees is known as one of the pioneers of grunge along with the Melvins, Mudhoney, U-Men, Skin Yard, Soundgarden, Green River, and Malfunkshun. Screaming Trees rose to fame as part of the grunge movement of the early 1990s, along with bands such as Alice in Chains, Pearl Jam, Nirvana, and Soundgarden and was one of the most successful underground music acts of the 1990s. The band achieved one top ten single on the Modern Rock Tracks charts. Screaming Trees were plagued by extended inactivity due to their problems with making a follow up to Dust. This led to their official breakup in 2000. History 1985–1989: Formation and early releases The Conner brothers formed Screaming Trees with Mark Lanegan and Mark Pickerel in 1985 in \n",
      "\n",
      "\n",
      "Rolling Stone's 100 Greatest Songwriters of All Time\n",
      "\"The 100 Greatest Songwriters of All Time\" is a feature published by the American magazine Rolling Stone in August 2015. The list presented was compiled based on the magazine's music critics, and unlike previous lists the votes came entirely from the magazine's staff. However, it predominantly features American and English songwriters solely of the rock era. Top 10 songwriters Reception The list received mixed response from fellow publications. Writing for Flavorwire, Judy Berman criticized the selection of the songwriters, saying \"Predictably, it's over 70% white and features only nine solo female songwriters (five other women are included as part of mixed-gender writing teams). Classic rock is overrepresented; every other genre and subgenre of popular music is underrepresented.\" Geeta Dayal from The Guardian accused \"corporate sponsorship\" in determining the list's content. Tom Moon from NPR wrote that \"This list represents another trip through the hagiographic, hermetically sealed rock hall of fame, with the same stars you've been reading about in Rolling Stone since the dinosaur age.\" The Daily Telegraph editor Martin Chilton responded with a list of 100 best songwriters missed out by Rolling Stone, including Cole Porter, Townes Van Zandt, Ewan MacColl, Kate Bush, and Ray Charles.Jacqueline Cutler from New \n",
      "\n",
      "\n",
      "Bucida buceras\n",
      "Bucida buceras is a tree in the Combretaceae family. It is known by a variety of names in English, including bullet tree, black olive tree, gregorywood (or gregory wood), Antigua whitewood, and oxhorn bucida. It is native to Mexico, Central America, the Caribbean, and northern South America. It is commonly found in coastal swamps and wet inland forests in low elevations.To grow it prefers high sunlight and rich, moist, well drained soil. It is highly tolerant to salt, insects, fungus, wind, and air pollution. Its roots are able to dig up paving stones and damage foundations.The wood of the bullet tree is extremely hard and durable. Being highly resistance to insects and fungi, it is sometimes used for house posts or bridge timbers. The bark may be used for tanning leather due to its contained tannins. Generally it is also often used as an ornamental/shade tree. == References == \n",
      "\n",
      "\n",
      "Steven Wilson\n",
      "Steven John Wilson (born 3 November 1967) is an English musician, singer, songwriter and record producer, most closely associated with the progressive rock genre. Currently a solo artist, he became known as the founder, lead guitarist, lead vocalist and songwriter of the band Porcupine Tree, as well as being a member of several other bands. Wilson is a self-taught composer, producer, audio engineer, guitar and keyboard player, and plays other instruments as needed, including bass guitar, autoharp, hammered dulcimer and flute. Despite being mainly associated with progressive rock, his influences and work have encompassed a diverse range of genres including psychedelia, pop, extreme metal, electronic and jazz, among others, shifting his musical direction through his albums. His concerts incorporate quadraphonic sound and elaborate visuals. He has also worked with artists such as Opeth, King Crimson, Pendulum, Jethro Tull, Andy Partridge, Yes, Fish, Marillion, Tears for Fears, Roxy Music and Anathema. In a career spanning more than 30 years, Wilson has made music prolifically and earned critical acclaim. His honours include four nominations for Grammy Awards, twice with Porcupine Tree, with his collaborative band Storm Corrosion and as a soloist on one occasion. In 2015, he received three awards at the \n",
      "\n",
      "\n",
      "Joshua Tree, California\n",
      "Joshua Tree is a census-designated place (CDP) in San Bernardino County, California, United States. The population was 7,414 at the 2010 census. At approximately 2,700 feet (820 meters) above sea level, Joshua Tree and its surrounding communities are located in the High Desert of California. The center of the business district in Joshua Tree is on California State Route 62. Geography Joshua Tree is located in the Mojave Desert at 34°8′N 116°19′W.According to the United States Census Bureau, the CDP has a total all land area of 95.9 km² (37.0 mi²). Joshua Tree, California is home to Joshua Tree National Park. Joshua Tree shares the border to its east with Twentynine Palms, California, its western border with Yucca Valley, California, its northwestern border with Landers, California, and its southern border is Coachella Valley, California. Demographics 2010 The 2010 United States Census reported that Joshua Tree had a population of 7,414. The population density was 200.1 people per square mile (77.3/km²). The racial makeup of Joshua Tree was 6,176 (83.3%) White (73.9% Non-Hispanic White), 234 (3.2%) African American, 84 (1.1%) Native American, 104 (1.4%) Asian, 18 (0.2%) Pacific Islander, 368 (5.0%) from other races, and 430 (5.8%) from two or more \n",
      "\n",
      "\n",
      "Songwriters Hall of Fame\n",
      "The Songwriters Hall of Fame (SHOF) was founded in 1969 by songwriter Johnny Mercer and music publisher/songwriter Abe Olman and publisher/executive Howie Richmond to honor those whose work represents and maintains the heritage and legacy of a spectrum of the most beloved songs from the world's popular music songbook. It not only celebrates these established songwriters, but is also involved on the development of new songwriting talent through workshops, showcases and scholarships. There are many programs designed to teach and discover new songwriters. Nile Rodgers serves as the organization's chairman.The Hall of Fame only existed as an online virtual collection until 2010, when it was first put on display as a physical gallery inside The Grammy Museum in Los Angeles. With an under-construction basement installation at the Brill Building in New York, the Hall does not have a permanent place and the awards are not televised.Through 2019, 461 individuals had been inducted into the SHOF. There are numerous examples of collaborating songwriters being inducted in unison, with each person being considered a separate entrant. The inaugural year featured 120 inductees, many of whom had a professional partnership, such as Rodgers and Hammerstein. Burt Bacharach and Hal David followed in 1972. \n",
      "\n",
      "\n",
      "Ailanthus altissima\n",
      "Ailanthus altissima , commonly known as tree of heaven, ailanthus, varnish tree, or in Chinese as chouchun (Chinese: 臭椿; pinyin: chòuchūn; literally: 'foul smelling tree'), is a deciduous tree in the family Simaroubaceae. It is native to both northeast and central China, as well as Taiwan. Unlike other members of the genus Ailanthus, it is found in temperate climates rather than the tropics. The tree grows rapidly and is capable of reaching heights of 15 m (50 feet) in 25 years. While the species rarely lives more than 50 years, some specimens exceed 100 years of age. Its remarkable suckering ability makes it possible for this tree to clone itself indefinitely. It is considered a noxious weed and vigorous invasive species, and one of the worst invasive plant species in Europe and North America. Description A. altissima is a medium-sized tree that reaches heights between 17 and 27 metres (56 and 89 ft) with a diameter at breast height of about 1 m (40 inches). The bark is smooth and light grey, often becoming somewhat rougher with light tan fissures as the tree ages. The twigs are stout, smooth to lightly pubescent, and reddish or chestnut in color. They have \n",
      "\n",
      "\n",
      "Joshua Tree\n",
      "Yucca brevifolia is a plant species belonging to the genus Yucca. It is tree-like in habit, which is reflected in its common names: Joshua tree, yucca palm, tree yucca, and palm tree yucca.This monocotyledonous tree is native to the arid southwestern United States, specifically California, Arizona, Utah, and Nevada, where it is confined mostly to the Mojave Desert between 400 and 1,800 m (1,300 and 5,900 ft) elevation. It thrives in the open grasslands of Queen Valley and Lost Horse Valley in Joshua Tree National Park. A dense Joshua tree forest also exists on the Cima Dome (Cima, California) in the Mojave National Preserve; northeast of Kingman, Arizona, in Mohave County, Arizona; as well as along U.S. 93 between the towns of Wickenburg and Wikieup, and designated as the Joshua Tree Parkway of Arizona. The Joshua Tree has barely any leaves, just a few balls on the edges. The Joshua tree can appear in the Mojave desert most of the time. It rarely appears in Death Valley. Taxonomy The Joshua tree is also called izote de desierto (Spanish, \"desert dagger\"). It was first formally described in the botanical literature as Yucca brevifolia by George Engelmann in 1871 as part of \n",
      "\n",
      "\n",
      "Songwriter\n",
      "A songwriter is a musician who professionally composes musical compositions and writes lyrics for songs. A songwriter can also be called a composer, although the latter term tends to be used mainly for individuals from the classical music genre and film scoring, but is also associated writing and composing the original musical composition or musical bed. A songwriter who mainly writes the lyrics for a song is referred to as lyricist. The pressure from the music industry to produce popular hits means that songwriting is often an activity for which the tasks are distributed between a number of people. For example, a songwriter who excels at writing lyrics might be paired with a songwriter with the task of creating original melodies. Pop songs may be composed by group members from the band or by staff writers – songwriters directly employed by music publishers. Some songwriters serve as their own music publishers, while others have outside publishers.The old-style apprenticeship approach to learning how to write songs is being supplemented by university degrees and college diplomas and \"rock schools\". Knowledge of modern music technology (sequencers, synthesizers, computer sound editing), songwriting elements and business skills are now often necessary requirements for a songwriter. \n",
      "\n",
      "\n",
      "Tree sitting\n",
      "Tree sitting is a form of environmentalist civil disobedience in which a protester sits in a tree, usually on a small platform built for the purpose, to protect it from being cut down (speculating that loggers will not endanger human lives by cutting an occupied tree). Supporters usually provide the tree sitters with food and other supplies. Tree sitting is often used as a stalling tactic, to prevent the cutting of trees while lawyers fight in the courts to secure the long-term victories. Tree-sitting was once a children's pastime. In the early 1930s, when endurance contests raged across the U.S., it became a child's contest for kids to climb into their backyard trees and, serviced by siblings and local businesses, attempt to win prizes for the longest sit. Extractions Tree-sitters in trees claimed by Pacific Lumber in Humboldt County have been subject to forced removal by hired extractors. The practice started with a single extractor in the late 1990s but in 2003 Pacific Lumber hired teams of climbers to remove dozens of tree-sitters, particularly in the Freshwater area East of Eureka, California.Most of the extractions in Northern California are done under the leadership of Eric Schatz of Schatz Tree Service, \n",
      "\n",
      "\n"
     ]
    }
   ],
   "source": [
    "results = find_documents_not_normalized(\"songwriter of Porcupine Tree\", 10)\n",
    "print_results(results)"
   ]
  },
  {
   "cell_type": "markdown",
   "metadata": {},
   "source": [
    "Powyższa funkcja wyszukuje k dokumentów najbardziej podobnych do podanego zapytania. Wczytywana macierz term by document ma nieznormalizowane kolumny. Przy obliczaniu korelacji kolumna macierzy i wektor bag of words wprowadzonego zapytania dzielone są przez ich normy. Funkcję przetestowano dla zapytania \"songwriter of Porcupine Tree\". Artykuł o Stevenie Wilsonie, którego szukano, był czwartym wynikiem wyszukiwania. Pozostałe wyniki to artykuły, w których często występują słowa \"songwriter\" lub \"tree\"."
   ]
  },
  {
   "cell_type": "markdown",
   "metadata": {},
   "source": [
    "## Wyszukiwanie wykorzystując znormalizowaną macierz term by document"
   ]
  },
  {
   "cell_type": "code",
   "execution_count": 21,
   "metadata": {},
   "outputs": [],
   "source": [
    "def normalize_tbd(tbd_csc):\n",
    "    return normalize(tbd_csc, axis = 0)"
   ]
  },
  {
   "cell_type": "code",
   "execution_count": 22,
   "metadata": {},
   "outputs": [],
   "source": [
    "tbd_csc = normalize_tbd(tbd_csc)"
   ]
  },
  {
   "cell_type": "code",
   "execution_count": 23,
   "metadata": {},
   "outputs": [],
   "source": [
    "sparse.save_npz(res_dir + os.sep + 'tbd_normalized.npz', tbd_csc)"
   ]
  },
  {
   "cell_type": "code",
   "execution_count": 24,
   "metadata": {},
   "outputs": [],
   "source": [
    "def find_documents_normalized(query, k):\n",
    "    \n",
    "    terms_dict, documents_dict = load_dicts()\n",
    "    \n",
    "    query_bow = query_to_bow(query, terms_dict)\n",
    "    \n",
    "    if query_bow == []:\n",
    "        return []\n",
    "    \n",
    "    query_bow = normalize(query_bow, axis = 1)\n",
    "    query_bow_t = query_bow.transpose()\n",
    "    \n",
    "    tbd = sparse.load_npz(res_dir + os.sep + 'tbd_normalized.npz')\n",
    "    \n",
    "    results = []\n",
    "    \n",
    "    for document in documents_dict.keys():\n",
    "        i = documents_dict[document]\n",
    "        col = tbd.getcol(i)\n",
    "        res = query_bow_t.dot(col)[0,0]\n",
    "        if i < k:\n",
    "            results.append((res, document))\n",
    "        else:\n",
    "            results = sorted(results)\n",
    "            if res > results[0][0]:\n",
    "                results[0] = (res, document)\n",
    "                \n",
    "    return results"
   ]
  },
  {
   "cell_type": "code",
   "execution_count": 25,
   "metadata": {
    "scrolled": false
   },
   "outputs": [
    {
     "name": "stdout",
     "output_type": "stream",
     "text": [
      "Screaming Trees\n",
      "Screaming Trees were an American rock band formed in Ellensburg, Washington in 1985 by vocalist Mark Lanegan, guitarist Gary Lee Conner, bass player Van Conner and drummer Mark Pickerel. Pickerel had been replaced by Barrett Martin by the time the band reached its most successful period. Although widely associated with grunge, the band's sound incorporated hard rock and psychedelic elements. During Screaming Trees' existence the band released seven studio albums, five EPs, and three compilations. Screaming Trees is known as one of the pioneers of grunge along with the Melvins, Mudhoney, U-Men, Skin Yard, Soundgarden, Green River, and Malfunkshun. Screaming Trees rose to fame as part of the grunge movement of the early 1990s, along with bands such as Alice in Chains, Pearl Jam, Nirvana, and Soundgarden and was one of the most successful underground music acts of the 1990s. The band achieved one top ten single on the Modern Rock Tracks charts. Screaming Trees were plagued by extended inactivity due to their problems with making a follow up to Dust. This led to their official breakup in 2000. History 1985–1989: Formation and early releases The Conner brothers formed Screaming Trees with Mark Lanegan and Mark Pickerel in 1985 in \n",
      "\n",
      "\n",
      "Rolling Stone's 100 Greatest Songwriters of All Time\n",
      "\"The 100 Greatest Songwriters of All Time\" is a feature published by the American magazine Rolling Stone in August 2015. The list presented was compiled based on the magazine's music critics, and unlike previous lists the votes came entirely from the magazine's staff. However, it predominantly features American and English songwriters solely of the rock era. Top 10 songwriters Reception The list received mixed response from fellow publications. Writing for Flavorwire, Judy Berman criticized the selection of the songwriters, saying \"Predictably, it's over 70% white and features only nine solo female songwriters (five other women are included as part of mixed-gender writing teams). Classic rock is overrepresented; every other genre and subgenre of popular music is underrepresented.\" Geeta Dayal from The Guardian accused \"corporate sponsorship\" in determining the list's content. Tom Moon from NPR wrote that \"This list represents another trip through the hagiographic, hermetically sealed rock hall of fame, with the same stars you've been reading about in Rolling Stone since the dinosaur age.\" The Daily Telegraph editor Martin Chilton responded with a list of 100 best songwriters missed out by Rolling Stone, including Cole Porter, Townes Van Zandt, Ewan MacColl, Kate Bush, and Ray Charles.Jacqueline Cutler from New \n",
      "\n",
      "\n",
      "Bucida buceras\n",
      "Bucida buceras is a tree in the Combretaceae family. It is known by a variety of names in English, including bullet tree, black olive tree, gregorywood (or gregory wood), Antigua whitewood, and oxhorn bucida. It is native to Mexico, Central America, the Caribbean, and northern South America. It is commonly found in coastal swamps and wet inland forests in low elevations.To grow it prefers high sunlight and rich, moist, well drained soil. It is highly tolerant to salt, insects, fungus, wind, and air pollution. Its roots are able to dig up paving stones and damage foundations.The wood of the bullet tree is extremely hard and durable. Being highly resistance to insects and fungi, it is sometimes used for house posts or bridge timbers. The bark may be used for tanning leather due to its contained tannins. Generally it is also often used as an ornamental/shade tree. == References == \n",
      "\n",
      "\n",
      "Steven Wilson\n",
      "Steven John Wilson (born 3 November 1967) is an English musician, singer, songwriter and record producer, most closely associated with the progressive rock genre. Currently a solo artist, he became known as the founder, lead guitarist, lead vocalist and songwriter of the band Porcupine Tree, as well as being a member of several other bands. Wilson is a self-taught composer, producer, audio engineer, guitar and keyboard player, and plays other instruments as needed, including bass guitar, autoharp, hammered dulcimer and flute. Despite being mainly associated with progressive rock, his influences and work have encompassed a diverse range of genres including psychedelia, pop, extreme metal, electronic and jazz, among others, shifting his musical direction through his albums. His concerts incorporate quadraphonic sound and elaborate visuals. He has also worked with artists such as Opeth, King Crimson, Pendulum, Jethro Tull, Andy Partridge, Yes, Fish, Marillion, Tears for Fears, Roxy Music and Anathema. In a career spanning more than 30 years, Wilson has made music prolifically and earned critical acclaim. His honours include four nominations for Grammy Awards, twice with Porcupine Tree, with his collaborative band Storm Corrosion and as a soloist on one occasion. In 2015, he received three awards at the \n",
      "\n",
      "\n",
      "Joshua Tree, California\n",
      "Joshua Tree is a census-designated place (CDP) in San Bernardino County, California, United States. The population was 7,414 at the 2010 census. At approximately 2,700 feet (820 meters) above sea level, Joshua Tree and its surrounding communities are located in the High Desert of California. The center of the business district in Joshua Tree is on California State Route 62. Geography Joshua Tree is located in the Mojave Desert at 34°8′N 116°19′W.According to the United States Census Bureau, the CDP has a total all land area of 95.9 km² (37.0 mi²). Joshua Tree, California is home to Joshua Tree National Park. Joshua Tree shares the border to its east with Twentynine Palms, California, its western border with Yucca Valley, California, its northwestern border with Landers, California, and its southern border is Coachella Valley, California. Demographics 2010 The 2010 United States Census reported that Joshua Tree had a population of 7,414. The population density was 200.1 people per square mile (77.3/km²). The racial makeup of Joshua Tree was 6,176 (83.3%) White (73.9% Non-Hispanic White), 234 (3.2%) African American, 84 (1.1%) Native American, 104 (1.4%) Asian, 18 (0.2%) Pacific Islander, 368 (5.0%) from other races, and 430 (5.8%) from two or more \n",
      "\n",
      "\n",
      "Songwriters Hall of Fame\n",
      "The Songwriters Hall of Fame (SHOF) was founded in 1969 by songwriter Johnny Mercer and music publisher/songwriter Abe Olman and publisher/executive Howie Richmond to honor those whose work represents and maintains the heritage and legacy of a spectrum of the most beloved songs from the world's popular music songbook. It not only celebrates these established songwriters, but is also involved on the development of new songwriting talent through workshops, showcases and scholarships. There are many programs designed to teach and discover new songwriters. Nile Rodgers serves as the organization's chairman.The Hall of Fame only existed as an online virtual collection until 2010, when it was first put on display as a physical gallery inside The Grammy Museum in Los Angeles. With an under-construction basement installation at the Brill Building in New York, the Hall does not have a permanent place and the awards are not televised.Through 2019, 461 individuals had been inducted into the SHOF. There are numerous examples of collaborating songwriters being inducted in unison, with each person being considered a separate entrant. The inaugural year featured 120 inductees, many of whom had a professional partnership, such as Rodgers and Hammerstein. Burt Bacharach and Hal David followed in 1972. \n",
      "\n",
      "\n",
      "Ailanthus altissima\n",
      "Ailanthus altissima , commonly known as tree of heaven, ailanthus, varnish tree, or in Chinese as chouchun (Chinese: 臭椿; pinyin: chòuchūn; literally: 'foul smelling tree'), is a deciduous tree in the family Simaroubaceae. It is native to both northeast and central China, as well as Taiwan. Unlike other members of the genus Ailanthus, it is found in temperate climates rather than the tropics. The tree grows rapidly and is capable of reaching heights of 15 m (50 feet) in 25 years. While the species rarely lives more than 50 years, some specimens exceed 100 years of age. Its remarkable suckering ability makes it possible for this tree to clone itself indefinitely. It is considered a noxious weed and vigorous invasive species, and one of the worst invasive plant species in Europe and North America. Description A. altissima is a medium-sized tree that reaches heights between 17 and 27 metres (56 and 89 ft) with a diameter at breast height of about 1 m (40 inches). The bark is smooth and light grey, often becoming somewhat rougher with light tan fissures as the tree ages. The twigs are stout, smooth to lightly pubescent, and reddish or chestnut in color. They have \n",
      "\n",
      "\n",
      "Joshua Tree\n",
      "Yucca brevifolia is a plant species belonging to the genus Yucca. It is tree-like in habit, which is reflected in its common names: Joshua tree, yucca palm, tree yucca, and palm tree yucca.This monocotyledonous tree is native to the arid southwestern United States, specifically California, Arizona, Utah, and Nevada, where it is confined mostly to the Mojave Desert between 400 and 1,800 m (1,300 and 5,900 ft) elevation. It thrives in the open grasslands of Queen Valley and Lost Horse Valley in Joshua Tree National Park. A dense Joshua tree forest also exists on the Cima Dome (Cima, California) in the Mojave National Preserve; northeast of Kingman, Arizona, in Mohave County, Arizona; as well as along U.S. 93 between the towns of Wickenburg and Wikieup, and designated as the Joshua Tree Parkway of Arizona. The Joshua Tree has barely any leaves, just a few balls on the edges. The Joshua tree can appear in the Mojave desert most of the time. It rarely appears in Death Valley. Taxonomy The Joshua tree is also called izote de desierto (Spanish, \"desert dagger\"). It was first formally described in the botanical literature as Yucca brevifolia by George Engelmann in 1871 as part of \n",
      "\n",
      "\n",
      "Songwriter\n",
      "A songwriter is a musician who professionally composes musical compositions and writes lyrics for songs. A songwriter can also be called a composer, although the latter term tends to be used mainly for individuals from the classical music genre and film scoring, but is also associated writing and composing the original musical composition or musical bed. A songwriter who mainly writes the lyrics for a song is referred to as lyricist. The pressure from the music industry to produce popular hits means that songwriting is often an activity for which the tasks are distributed between a number of people. For example, a songwriter who excels at writing lyrics might be paired with a songwriter with the task of creating original melodies. Pop songs may be composed by group members from the band or by staff writers – songwriters directly employed by music publishers. Some songwriters serve as their own music publishers, while others have outside publishers.The old-style apprenticeship approach to learning how to write songs is being supplemented by university degrees and college diplomas and \"rock schools\". Knowledge of modern music technology (sequencers, synthesizers, computer sound editing), songwriting elements and business skills are now often necessary requirements for a songwriter. \n",
      "\n",
      "\n",
      "Tree sitting\n",
      "Tree sitting is a form of environmentalist civil disobedience in which a protester sits in a tree, usually on a small platform built for the purpose, to protect it from being cut down (speculating that loggers will not endanger human lives by cutting an occupied tree). Supporters usually provide the tree sitters with food and other supplies. Tree sitting is often used as a stalling tactic, to prevent the cutting of trees while lawyers fight in the courts to secure the long-term victories. Tree-sitting was once a children's pastime. In the early 1930s, when endurance contests raged across the U.S., it became a child's contest for kids to climb into their backyard trees and, serviced by siblings and local businesses, attempt to win prizes for the longest sit. Extractions Tree-sitters in trees claimed by Pacific Lumber in Humboldt County have been subject to forced removal by hired extractors. The practice started with a single extractor in the late 1990s but in 2003 Pacific Lumber hired teams of climbers to remove dozens of tree-sitters, particularly in the Freshwater area East of Eureka, California.Most of the extractions in Northern California are done under the leadership of Eric Schatz of Schatz Tree Service, \n",
      "\n",
      "\n"
     ]
    }
   ],
   "source": [
    "results = find_documents_normalized(\"songwriter of Porcupine Tree\", 10)\n",
    "print_results(results)"
   ]
  },
  {
   "cell_type": "markdown",
   "metadata": {},
   "source": [
    "W przypadku powyższej funkcji macierz term by document wczytywana z pliku jest macierzą o znormalizowanych kolumnach. Dzięki temu wyszukiwanie przebiega szybciej. Wynik zapytania dla hasła \"songwriter of Procupine Tree\" pokrywa się z wynikiem uzyskanym przy zastosowaniu poprzedniej funkcji."
   ]
  },
  {
   "cell_type": "markdown",
   "metadata": {},
   "source": [
    "## Wyszukiwanie z użyciem Latent Semantic Indexing"
   ]
  },
  {
   "cell_type": "code",
   "execution_count": 26,
   "metadata": {},
   "outputs": [],
   "source": [
    "def apply_svd(tbd, k):\n",
    "    svd = TruncatedSVD(n_components=k).fit(tbd)\n",
    "    tbd = svd.transform(tbd)\n",
    "    return tbd, svd"
   ]
  },
  {
   "cell_type": "code",
   "execution_count": 91,
   "metadata": {},
   "outputs": [],
   "source": [
    "tbd = sparse.load_npz(res_dir + os.sep + 'tbd_normalized.npz')\n",
    "tbd_trans, svd = apply_svd(tbd, 275)\n",
    "sparse.save_npz(res_dir + os.sep + 'tbd_trans.npz', sparse.csc_matrix(tbd_trans))\n",
    "sparse.save_npz(res_dir + os.sep + 'svd_compoments_.npz', sparse.csc_matrix(svd.components_))"
   ]
  },
  {
   "cell_type": "markdown",
   "metadata": {},
   "source": [
    "Powyższa funkcja apply_svd stosuje svd i low rand approximation aby ograniczyć szum w macierzy term by document matrix.\n",
    "Do zastosowania svd użyto biblioteki sklearn. Po zastosowaniu svd do plików zapisywane są macierze tbd po transformacji i svd.components_."
   ]
  },
  {
   "cell_type": "code",
   "execution_count": 37,
   "metadata": {},
   "outputs": [],
   "source": [
    "def find_documents_svd(query, k):\n",
    "    \n",
    "    terms_dict, documents_dict = load_dicts()\n",
    "    \n",
    "    query_bow = query_to_bow(query, terms_dict)\n",
    "    \n",
    "    if query_bow == []:\n",
    "        return []\n",
    "    \n",
    "    query_bow = normalize(query_bow, axis = 1)\n",
    "    query_bow_t = query_bow.transpose()\n",
    "    query_bow_t = np.array(query_bow_t)\n",
    "    tbd_trans = sparse.load_npz(res_dir + os.sep + 'tbd_trans.npz')\n",
    "    svd_components = sparse.load_npz(res_dir + os.sep + 'svd_compoments_.npz')\n",
    "    \n",
    "    similarities = query_bow_t.dot(tbd_trans)\n",
    "    similarities = similarities.dot(svd_components).getrow(0).toarray()[0]\n",
    "    \n",
    "    i = 0\n",
    "    results = []\n",
    "    for document in documents_dict.keys():\n",
    "        i = documents_dict[document]\n",
    "        res = similarities[i]\n",
    "        if i < k:\n",
    "            results.append((res, document))\n",
    "        else:\n",
    "            results = sorted(results)\n",
    "            if res > results[0][0]:\n",
    "                results[0] = (res, document)\n",
    "        \n",
    "    return results"
   ]
  },
  {
   "cell_type": "code",
   "execution_count": 92,
   "metadata": {
    "scrolled": false
   },
   "outputs": [
    {
     "name": "stdout",
     "output_type": "stream",
     "text": [
      "Luther Vandross\n",
      "Luther Ronzoni Vandross Jr. (April 20, 1951 – July 1, 2005) was an American singer, songwriter, and record producer. Throughout his career, Vandross was an in-demand background vocalist for several different artists including Todd Rundgren, Judy Collins, Chaka Khan, Bette Midler, Diana Ross, David Bowie, Ben E. King, and Donna Summer. He later became a lead singer of the group Change, which released its gold-certified debut album, The Glow of Love, in 1980 on Warner/RFC Records. After Vandross left the group, he was signed to Epic Records as a solo artist and released his debut solo album, Never Too Much, in 1981. His hit songs include \"Never Too Much\", \"Here and Now\", \"Any Love\", \"Power of Love/Love Power\", \"I Can Make It Better\" and \"For You to Love\". Many of his songs were covers of original music by other artists such as \"If This World Were Mine\" (duet with Cheryl Lynn), \"Since I Lost My Baby\", \"Superstar\" and \"Always and Forever\". Duets such as \"The Closer I Get to You\" with Beyoncé, \"Endless Love\" with Mariah Carey and \"The Best Things in Life Are Free\" with Janet Jackson were all hit songs in his career. During his career, Vandross sold \n",
      "\n",
      "\n",
      "Belinda Carlisle\n",
      "Belinda Jo Carlisle (born August 17, 1958) is an American singer, musician, and author. She gained worldwide fame as the lead singer of the Go-Go's, one of the most successful all-female bands in history, and went on to have a prolific career as a solo artist. Raised in Southern California, Carlisle began her music career in 1977 as the drummer of the Los Angeles punk band Germs, and went on to join the Go-Go's as the lead singer after the band's formation in 1978. With their chart-topping debut release Beauty and the Beat in 1981, the group helped popularize new wave music in the United States, and were the first all-female band in history who wrote their own songs and played their own instruments to achieve a No. 1 album. The Go-Go's have sold over 7 million records worldwide.After dissolution of the Go-Go's in 1985, Carlisle went on to have a successful solo career with radio hits such as \"Mad About You\", \"I Get Weak\", \"Circle in the Sand\", \"Leave a Light On\", and \"Heaven Is a Place on Earth\", which were major successes. Her autobiography, Lips Unsealed, published in June 2010, was a New York Times Best Seller and \n",
      "\n",
      "\n",
      "Steven Wilson\n",
      "Steven John Wilson (born 3 November 1967) is an English musician, singer, songwriter and record producer, most closely associated with the progressive rock genre. Currently a solo artist, he became known as the founder, lead guitarist, lead vocalist and songwriter of the band Porcupine Tree, as well as being a member of several other bands. Wilson is a self-taught composer, producer, audio engineer, guitar and keyboard player, and plays other instruments as needed, including bass guitar, autoharp, hammered dulcimer and flute. Despite being mainly associated with progressive rock, his influences and work have encompassed a diverse range of genres including psychedelia, pop, extreme metal, electronic and jazz, among others, shifting his musical direction through his albums. His concerts incorporate quadraphonic sound and elaborate visuals. He has also worked with artists such as Opeth, King Crimson, Pendulum, Jethro Tull, Andy Partridge, Yes, Fish, Marillion, Tears for Fears, Roxy Music and Anathema. In a career spanning more than 30 years, Wilson has made music prolifically and earned critical acclaim. His honours include four nominations for Grammy Awards, twice with Porcupine Tree, with his collaborative band Storm Corrosion and as a soloist on one occasion. In 2015, he received three awards at the \n",
      "\n",
      "\n",
      "Sting (musician)\n",
      "Gordon Matthew Thomas Sumner (born 2 October 1951), known as Sting, is an English musician and actor. He was the principal songwriter, lead singer, and bassist for the new wave rock band the Police from 1977 to 1984, and launched a solo career in 1985. Sting has included elements of rock, jazz, reggae, classical, new-age and worldbeat in his music.As a solo musician and a member of the Police, Sting has received 17 Grammy Awards: he won Song of the Year for \"Every Breath You Take\", three Brit Awards, including Best British Male Artist in 1994 and Outstanding Contribution in 2002, a Golden Globe, an Emmy and four nominations for the Academy Award for Best Original Song. In 2019, he received a BMI Award for \"Every Breath You Take\" becoming the most played song in radio history. In 2002, Sting received the Ivor Novello Award for Lifetime Achievement from the British Academy of Songwriters, Composers and Authors and was also inducted into the Songwriters Hall of Fame. He was inducted into the Rock and Roll Hall of Fame as a member of the Police in 2003. In 2000, he received a star on the Hollywood Walk of Fame for recording. \n",
      "\n",
      "\n",
      "Joe Walsh\n",
      "Joseph Fidler Walsh (born November 20, 1947) is an American rock guitarist, singer, and songwriter. In a career spanning more than 50 years, he has been a member of five successful rock bands: James Gang, Barnstorm, Eagles, the Party Boys, and Ringo Starr & His All-Starr Band. Walsh was also part of the New Zealand band Herbs. In the 1990s, he was a member of the short-lived supergroup The Best. Walsh has also experienced success both as a solo artist and as a prolific session musician, being featured on a wide array of other artists' recordings. In 2011, Rolling Stone placed him at the No. 54 spot on its list of \"100 Greatest Guitarists of All Time\".In the mid-1960s, after attending Kent State University, Walsh played with several local Ohio-based bands before reaching a national audience as a member of the James Gang, whose hit song \"Funk #49\" highlighted his skill as both a guitarist and singer. Roger Abramson, a concert producer and artist manager, signed the James Gang to a management agreement with BPI in Cleveland. After leaving the James Gang in 1972, he formed Barnstorm with Joe Vitale, a college friend from Ohio, and Kenny Passarelli, a bassist \n",
      "\n",
      "\n",
      "Phil Collins\n",
      "Philip David Charles Collins (born 30 January 1951) is an English drummer, singer, songwriter, multi-instrumentalist, record producer, and actor, best known as the drummer/singer of the rock band Genesis and for his solo career. Between 1982 and 1989, Collins scored three UK and seven US number-one singles in his solo career. When his work with Genesis, his work with other artists, as well as his solo career is totalled, he had more US Top 40 singles than any other artist during the 1980s. His most successful singles from the period include \"In the Air Tonight\", \"Against All Odds (Take a Look at Me Now)\", \"One More Night\", \"Sussudio\", \"Two Hearts\" and \"Another Day in Paradise\". Born and raised in west London, Collins played drums from the age of five and completed drama school training, which secured him various roles as a child actor. He then pursued a music career, joining Genesis in 1970 as their drummer and becoming lead singer in 1975 following the departure of Peter Gabriel. Collins began a solo career in the 1980s, initially inspired by his marital breakdown and love of soul music, releasing a series of successful albums, including Face Value (1981), No Jacket Required \n",
      "\n",
      "\n",
      "Brittany Howard\n",
      "Brittany Howard (born October 2, 1988) is an American musician, singer, and songwriter known for being the lead vocalist, guitarist, and main songwriter of rock bands Alabama Shakes and Thunderbitch. She released her debut studio album Jaime in 2019. Her work with Alabama Shakes and as a solo artist have earned her 4 Grammy Awards out of 11 nominations. Early life Howard was born in Athens, Alabama to a white mother and a black father. The family house was in a junk yard, and once burned down due to a lightning strike. She learned to write poetry and play the piano from her older sister Jaime, who died from retinoblastoma in 1998; Howard got the same affliction but survived with partial blindness in one eye. Her parents split up soon after.She began playing the guitar at age 13, and later attended East Limestone High School, where she met future Alabama Shakes bassist Zac Cockrell. She worked for the United States Postal Service until becoming a full-time musician as lead singer of Alabama Shakes. Career Brittany Howard is best known as the lead singer and guitarist for the American rock band Alabama Shakes. The band formed under the name \"The Shakes\" \n",
      "\n",
      "\n",
      "2017 in music\n",
      "This topic covers notable events and articles related to 2017 in music. Specific locations Specific genres Albums released Awards Bands formed Bands reformed Bands on hiatus Bands disbanded Deaths January 1 – Memo Morales (79), Venezuelan rumba singer 2 – Auriel Andrew (69), Indigenous Australian country singer 4 – Bade Fateh Ali Khan (82), Pakistani classical music and Khyal singer 6 – Sylvester Potts (78), American R&B singer (The Contours) 7 – Jerzy Kossela (74), Polish rock guitarist (Czerwone Gitary) 8 – Peter Sarstedt (75), British folk pop singer 10 – Buddy Greco (90), American jazz singer and pianist 11 – Tommy Allsup (83), American rock and roll guitarist 13 Horacio Guarany (91), Argentine folklore singer Richie Ingui (69), American soul singer (Soul Survivors) 14 – John Boudreaux (80), American jazz and soul drummer 15 – Greg Trooper (61), American alternative country singer and songwriter 16 William Onyeabor (70), Nigerian funk singer-songwriter Steve Wright (66), American power pop bassist and songwriter (The Greg Kihn Band) 18 – Mike Kellie (69), British psychedelic rock and power pop drummer (Spooky Tooth, The Only Ones) 19 – Loalwa Braz (63), Brazilian pop and lambada singer (Kaoma) 20 Ronald \"Bingo\" Mundy (76), American singer \n",
      "\n",
      "\n",
      "Mark Knopfler\n",
      "Mark Freuder Knopfler ( NOP-flər; born 12 August 1949) is a British singer-songwriter, guitarist, and record producer. He was the lead guitarist, singer, and songwriter for the rock band Dire Straits, which he co-founded with his younger brother, David Knopfler, in 1977. He was born in Glasgow, Scotland and raised near Newcastle upon Tyne, England. Dire Straits recorded six albums, including Brothers in Arms (1985), one of the bestselling albums in history. After they disbanded in 1995, Knopfler began a solo career, and has produced nine solo albums. He has composed and produced film scores for nine films, including Local Hero (1983), Cal (1984), The Princess Bride (1987), Wag the Dog (1997) and Altamira (2016). He has worked with musicians including B.B. King, Chet Atkins, Chris Botti, John Anderson, the Chieftains, Eric Clapton, Bob Dylan, Elton John, Joan Armatrading, Bryan Ferry, George Jones, Phil Lynott, Donal Lunny, Van Morrison, Steely Dan, Sting, Emmylou Harris and James Taylor, sometimes working as a session musician. He has produced albums for Tina Turner, Bob Dylan, and Randy Newman. Described by Classic Rock as a virtuoso, Knopfler is a fingerstyle guitarist and was ranked 27th on Rolling Stone's list of the \"100 Greatest Guitarists \n",
      "\n",
      "\n",
      "Robert Smith (musician)\n",
      "Robert James Smith (born 21 April 1959) is an English singer, songwriter, musician, and record producer. He is the lead singer, guitarist, multi-instrumentalist, primary songwriter, and only continuous member of the rock band The Cure, which he co-founded in 1976. He was also the lead guitarist for the band Siouxsie and the Banshees from 1982 to 1984, and was part of the short-lived group the Glove in 1983. He is known for his distinctive voice, guitar-playing style and stage look, the latter two of which were influential on the goth subculture that rose to prominence in the 1980s. Smith was inducted into the Rock and Roll Hall of Fame as a member of the Cure in 2019. Early years Robert James Smith was born on 21 April 1959 in Blackpool, Lancashire, the third of four children born to Rita Mary (née Emmott) and James Alexander Smith. Smith came from a musical family: his father sang and his mother played the piano. Raised Catholic, he later became an atheist. When he was three years old, his family moved to Horley, Surrey, where he later attended St Francis' Primary School. When he was six, his family moved to Crawley, West Sussex, where \n",
      "\n",
      "\n"
     ]
    }
   ],
   "source": [
    "results = find_documents_svd(\"songwriter of Porcupine Tree\", 10)\n",
    "print_results(results)"
   ]
  },
  {
   "cell_type": "code",
   "execution_count": 93,
   "metadata": {
    "scrolled": false
   },
   "outputs": [
    {
     "name": "stdout",
     "output_type": "stream",
     "text": [
      "Black Saturday (disambiguation)\n",
      "Black Saturday may refer to: Holy Saturday, the day between Good Friday and Easter Sunday Black Saturday (France), the busiest day of the year when many people go on holiday Battle of Pinkie Cleugh a 1547 battle fought between the Scottish and the English Royal armies Black Saturday (1621), a dark, stormy day in Scotland, taken as a sign of Armageddon Black Saturday (1900), the collapse of Dumbell's Bank, Isle of Man, leading to numerous bankruptcies and poverty Black Saturday (1903), the collapse of a section of balcony during a baseball game between the Boston Braves and Philadelphia Phillies, which killed 12 spectators and injured more than 200 Black Saturday (Mau Movement), a 1929 killing of 11 unarmed people by New Zealand police during a Mau demonstration in Samoa Black Saturday, a day during the 1942 Battle of Gazala between the German Afrika Korps and British armoured divisions Operation Agatha or Black Saturday (1946), British arrests of Jewish paramilitaries Cairo Fire or Black Saturday, a 1952 series of riots in Cairo Black Saturday (Cuban Missile Crisis), a day in 1962 when tensions reached their height Massacre of the Sixty or Black Saturday, a 1974 execution of 60 senior Ethiopian officials \n",
      "\n",
      "\n",
      "The Best of Black Sabbath\n",
      "The Best of Black Sabbath is a double CD compilation album by Black Sabbath released in 2000 on the Sanctuary Records label. Its 32 songs are presented chronologically from the band's first 11 albums, spanning the years 1970 to 1983. Black Sabbath's classic six-album run, from 1970s debut Black Sabbath through 1975's Sabotage is celebrated with three to six songs from each album. Original vocalist Ozzy Osbourne's subsequent final two albums with the band, 1976's Technical Ecstasy and 1978's Never Say Die!, are represented by one and two songs, respectively. Replacement Ronnie James Dio's early 80's stint fronting the band on two albums is acknowledged with the title track of 1980's Heaven and Hell and a track from 1981's The Mob Rules. The compilation closes with a song from 1983's attempted rebirth, Born Again, former Deep Purple vocalist Ian Gillan's sole album with the band. The Best of Black Sabbath does not include any later material with vocalists Glenn Hughes (1986's Seventh Star), Tony Martin (1986–96) or the returning Dio (1992's Dehumanizer). As this compilation album is released by a record label not associated with Black Sabbath or their management, it is not considered an official Black Sabbath release, and \n",
      "\n",
      "\n",
      "Heaven & Hell (band)\n",
      "Heaven & Hell were an English-American heavy metal band active from 2006 to 2010. Heaven & Hell was a collaboration between Black Sabbath founding members Tony Iommi and Geezer Butler and former Black Sabbath and Dio members Ronnie James Dio and Vinny Appice. The band's name was taken from the title of the first Black Sabbath album to feature Dio after original vocalist Ozzy Osbourne was fired in 1979. The four members of Heaven & Hell recorded and toured together as Black Sabbath from 1980 to 1982, and again from 1991 to 1992. After they reunited to record three new songs for the 2007 compilation album, Black Sabbath: The Dio Years, they embarked on a 2007–2008 tour. The decision to call the touring group Heaven & Hell was made to differentiate the project from the Ozzy Osbourne-led Black Sabbath lineup which had reformed and was also recording and touring periodically. According to Iommi, the name change was made to avoid confusion between the two different lineups of Black Sabbath, so that fans at concerts \"would not expect to hear 'Iron Man' and 'War Pigs' and all that... it's none of the old stuff, it's none of the Ozzy period. It's \n",
      "\n",
      "\n",
      "Heaven and Hell (band)\n",
      "Heaven & Hell were an English-American heavy metal band active from 2006 to 2010. Heaven & Hell was a collaboration between Black Sabbath founding members Tony Iommi and Geezer Butler and former Black Sabbath and Dio members Ronnie James Dio and Vinny Appice. The band's name was taken from the title of the first Black Sabbath album to feature Dio after original vocalist Ozzy Osbourne was fired in 1979. The four members of Heaven & Hell recorded and toured together as Black Sabbath from 1980 to 1982, and again from 1991 to 1992. After they reunited to record three new songs for the 2007 compilation album, Black Sabbath: The Dio Years, they embarked on a 2007–2008 tour. The decision to call the touring group Heaven & Hell was made to differentiate the project from the Ozzy Osbourne-led Black Sabbath lineup which had reformed and was also recording and touring periodically. According to Iommi, the name change was made to avoid confusion between the two different lineups of Black Sabbath, so that fans at concerts \"would not expect to hear 'Iron Man' and 'War Pigs' and all that... it's none of the old stuff, it's none of the Ozzy period. It's \n",
      "\n",
      "\n",
      "Cincinnati riots of 1841\n",
      "The Cincinnati riots of 1841 occurred after a long drought had created widespread unemployment in Cincinnati, Ohio, United States. Over a period of several days in September 1841, unemployed whites attacked black residents who defended themselves. Many blacks were rounded up and held behind a cordon and then moved to the jail. According to the authorities, this was for their own protection. Background By 1840, Cincinnati had grown from a frontier settlement to the sixth largest city in the US. It was a crowded city of contrasts, with prosperous neighborhoods and squalid, violent slums inhabited by immigrants from Europe and black migrants from the South who were drawn there by economic opportunities. Many of the businessmen who controlled the city were interested in good relationships with the slave-owning states to the south of the Ohio River and were hostile to abolitionists and blacks. Although a free state, the Ohio constitution denied blacks the right to vote and the Black Laws imposed further restrictions.Black children were denied education in the public schools while black property owners were required to pay taxes to support these schools. From 1829 Black migrants to the state were required to register and provide surety. Blacks could \n",
      "\n",
      "\n",
      "Black cat\n",
      "A black cat is a domestic cat with black fur that may be a mixed or specific breed, or a common domestic cat of no particular breed. The Cat Fanciers' Association (CFA) recognizes 22 cat breeds that can come with solid black coats. The Bombay breed is exclusively black. All-black fur pigmentation is slightly more prevalent in male cats than female cats. Their high melanin pigment content causes most black cats to have yellow (golden) eyes (irises). Coat Any cat whose fur is a single color, including black, is known as a \"solid\" or \"self\". A \"solid black\" cat may be coal black, grayish black, or brownish black. Most solid-colored cats result from a recessive gene that suppresses the tabby pattern. Sometimes the tabby pattern is not completely suppressed; faint markings may appear in certain lights, even on a solid black cat. A cat having black fur with white roots is known as a \"black smoke.\"Black cats can also \"rust\" in sunlight, the coat turning a lighter brownish-red shade. Eumelanin, the pigment that is required to produce the black fur, is somewhat fragile, so the rusting effect can be more pronounced in cats that frequently spend time in the sun. \n",
      "\n",
      "\n",
      "Inside Black Sabbath – 1970–1992\n",
      "Black Sabbath - 1970-1992 is a video by heavy metal band Black Sabbath. Tracks \"Black Sabbath\" \"NIB\" \"Behind the Wall of Sleep\" \"Paranoid\" \"Hand of Doom\" \"Children of the Grave\" \"Snowblind\" \"Symptom of the Universe\" \"Sabbath Bloody Sabbath\" \"It's Alright\" \"Hard Road\" \"Neon Knights\" \"Die Young\" \"Headless Cross\" \"Anno Mundi\" \"Into the Void\" \"Mob Rules\" \"Children of the Grave\" \n",
      "\n",
      "\n",
      "Black Sunday (disambiguation)\n",
      "Black Sunday may refer to: Events Natural disasters Black Sunday, a day of major bushfires in Victoria, Australia during the 1925–26 Victorian bushfire season Black Sunday (storm), a 1935 dust storm that swept across the Midwestern United States during the Dust Bowl Black Sunday, a 1938 event of extraordinary surf conditions at Bondi Beach, Sydney, Australia Black Sunday (1955), a series of bushfires in South Australia Black Sunday, the day of the deadly 1967 Iowa–Minnesota tornado outbreak Warfare and terrorism Black Sunday, the 1918 attack of SM U-151 against U.S. ships off the coast of New Jersey Black Sunday, 1937, an Irgun attack on November 14 in Jerusalem Black Sunday, a 1943 event where 53 USAAF aircraft and 660 aircrewmen were lost during Operation Tidal Wave Bus massacre, also known as Black Sunday, the 1975 clashes in Beirut that started the Lebanese Civil War Black Sunday, the first day of the Siege of Sadr City (2004–2007) during the Iraq War Other events Black Sunday, the 1955 opening day of Disneyland Park Black Sunday, the 1982 cancellation of the Colony Shale Oil Project Black Sunday, the 1984 victory by the Los Angeles Raiders in Super Bowl XVIII Black Sunday, the 1998 \n",
      "\n",
      "\n",
      "Black moth\n",
      "Black moth or Black Moth can refer to: Moths Arctornis l-nigrum, black V moth Ascalapha odorata, black witch moth Biston betularia, peppered moth Celiptera frustulum, black bit moth Epicoma melanospila, black spot moth Glacies coracina, black mountain moth Hypena scabra, black snout moth Idia lubricalis, glossy black idia moth Langessa nomophilalis, black langessa moth Metalectra tantillus, black fungus moth Panthea acronyctoides, black zigzag moth Parascotia fuliginaria, waved black moth Penestola bufalis, black penestola moth Siona lineata, black-veined moth Trichodezia albovittata, white-striped black moth Zale undularis, black zale moth Others The Black Moth, 1921 novel by Georgette Heyer Black Moth, stoner rock band from Leeds, England \"Black Moth\", first song in Of the Wand & the Moon 2005 album Sonnenheim See also Black Moth Super Rainbow, an American experimental band founded 2003 Judas as Black Moth, a 2005 compilation album of British group Current 93 \n",
      "\n",
      "\n",
      "Black Sabbath (disambiguation)\n",
      "Black Sabbath is a British rock band. Black Sabbath may also refer to: Black Sabbath (album), the debut studio album by British rock band Black Sabbath \"Black Sabbath\" (song) Black Sabbath (film), a 1963 film Operation Agatha or the Black Sabbath, the 1946 British arrests of Jewish paramilitaries Shabbat Chazon or Black Sabbath, the Sabbath immediately preceding the Jewish fast day of Tisha B'Av Witches' Sabbath, also referred to as \"Black Sabbath\" See also Black Saturday (disambiguation) Black Sunday (disambiguation) Holy Saturday, the day before Easter, which is sometimes called Black Saturday or the Great Sabbath Witches' Sabbath (disambiguation) \n",
      "\n",
      "\n"
     ]
    }
   ],
   "source": [
    "results = find_documents_svd(\"black cat\", 10)\n",
    "print_results(results)"
   ]
  },
  {
   "cell_type": "code",
   "execution_count": 84,
   "metadata": {
    "scrolled": false
   },
   "outputs": [
    {
     "name": "stdout",
     "output_type": "stream",
     "text": [
      "Screaming Trees\n",
      "Screaming Trees were an American rock band formed in Ellensburg, Washington in 1985 by vocalist Mark Lanegan, guitarist Gary Lee Conner, bass player Van Conner and drummer Mark Pickerel. Pickerel had been replaced by Barrett Martin by the time the band reached its most successful period. Although widely associated with grunge, the band's sound incorporated hard rock and psychedelic elements. During Screaming Trees' existence the band released seven studio albums, five EPs, and three compilations. Screaming Trees is known as one of the pioneers of grunge along with the Melvins, Mudhoney, U-Men, Skin Yard, Soundgarden, Green River, and Malfunkshun. Screaming Trees rose to fame as part of the grunge movement of the early 1990s, along with bands such as Alice in Chains, Pearl Jam, Nirvana, and Soundgarden and was one of the most successful underground music acts of the 1990s. The band achieved one top ten single on the Modern Rock Tracks charts. Screaming Trees were plagued by extended inactivity due to their problems with making a follow up to Dust. This led to their official breakup in 2000. History 1985–1989: Formation and early releases The Conner brothers formed Screaming Trees with Mark Lanegan and Mark Pickerel in 1985 in \n",
      "\n",
      "\n",
      "Rolling Stone's 100 Greatest Songwriters of All Time\n",
      "\"The 100 Greatest Songwriters of All Time\" is a feature published by the American magazine Rolling Stone in August 2015. The list presented was compiled based on the magazine's music critics, and unlike previous lists the votes came entirely from the magazine's staff. However, it predominantly features American and English songwriters solely of the rock era. Top 10 songwriters Reception The list received mixed response from fellow publications. Writing for Flavorwire, Judy Berman criticized the selection of the songwriters, saying \"Predictably, it's over 70% white and features only nine solo female songwriters (five other women are included as part of mixed-gender writing teams). Classic rock is overrepresented; every other genre and subgenre of popular music is underrepresented.\" Geeta Dayal from The Guardian accused \"corporate sponsorship\" in determining the list's content. Tom Moon from NPR wrote that \"This list represents another trip through the hagiographic, hermetically sealed rock hall of fame, with the same stars you've been reading about in Rolling Stone since the dinosaur age.\" The Daily Telegraph editor Martin Chilton responded with a list of 100 best songwriters missed out by Rolling Stone, including Cole Porter, Townes Van Zandt, Ewan MacColl, Kate Bush, and Ray Charles.Jacqueline Cutler from New \n",
      "\n",
      "\n",
      "Bucida buceras\n",
      "Bucida buceras is a tree in the Combretaceae family. It is known by a variety of names in English, including bullet tree, black olive tree, gregorywood (or gregory wood), Antigua whitewood, and oxhorn bucida. It is native to Mexico, Central America, the Caribbean, and northern South America. It is commonly found in coastal swamps and wet inland forests in low elevations.To grow it prefers high sunlight and rich, moist, well drained soil. It is highly tolerant to salt, insects, fungus, wind, and air pollution. Its roots are able to dig up paving stones and damage foundations.The wood of the bullet tree is extremely hard and durable. Being highly resistance to insects and fungi, it is sometimes used for house posts or bridge timbers. The bark may be used for tanning leather due to its contained tannins. Generally it is also often used as an ornamental/shade tree. == References == \n",
      "\n",
      "\n",
      "Steven Wilson\n",
      "Steven John Wilson (born 3 November 1967) is an English musician, singer, songwriter and record producer, most closely associated with the progressive rock genre. Currently a solo artist, he became known as the founder, lead guitarist, lead vocalist and songwriter of the band Porcupine Tree, as well as being a member of several other bands. Wilson is a self-taught composer, producer, audio engineer, guitar and keyboard player, and plays other instruments as needed, including bass guitar, autoharp, hammered dulcimer and flute. Despite being mainly associated with progressive rock, his influences and work have encompassed a diverse range of genres including psychedelia, pop, extreme metal, electronic and jazz, among others, shifting his musical direction through his albums. His concerts incorporate quadraphonic sound and elaborate visuals. He has also worked with artists such as Opeth, King Crimson, Pendulum, Jethro Tull, Andy Partridge, Yes, Fish, Marillion, Tears for Fears, Roxy Music and Anathema. In a career spanning more than 30 years, Wilson has made music prolifically and earned critical acclaim. His honours include four nominations for Grammy Awards, twice with Porcupine Tree, with his collaborative band Storm Corrosion and as a soloist on one occasion. In 2015, he received three awards at the \n",
      "\n",
      "\n",
      "Joshua Tree, California\n",
      "Joshua Tree is a census-designated place (CDP) in San Bernardino County, California, United States. The population was 7,414 at the 2010 census. At approximately 2,700 feet (820 meters) above sea level, Joshua Tree and its surrounding communities are located in the High Desert of California. The center of the business district in Joshua Tree is on California State Route 62. Geography Joshua Tree is located in the Mojave Desert at 34°8′N 116°19′W.According to the United States Census Bureau, the CDP has a total all land area of 95.9 km² (37.0 mi²). Joshua Tree, California is home to Joshua Tree National Park. Joshua Tree shares the border to its east with Twentynine Palms, California, its western border with Yucca Valley, California, its northwestern border with Landers, California, and its southern border is Coachella Valley, California. Demographics 2010 The 2010 United States Census reported that Joshua Tree had a population of 7,414. The population density was 200.1 people per square mile (77.3/km²). The racial makeup of Joshua Tree was 6,176 (83.3%) White (73.9% Non-Hispanic White), 234 (3.2%) African American, 84 (1.1%) Native American, 104 (1.4%) Asian, 18 (0.2%) Pacific Islander, 368 (5.0%) from other races, and 430 (5.8%) from two or more \n",
      "\n",
      "\n",
      "Songwriters Hall of Fame\n",
      "The Songwriters Hall of Fame (SHOF) was founded in 1969 by songwriter Johnny Mercer and music publisher/songwriter Abe Olman and publisher/executive Howie Richmond to honor those whose work represents and maintains the heritage and legacy of a spectrum of the most beloved songs from the world's popular music songbook. It not only celebrates these established songwriters, but is also involved on the development of new songwriting talent through workshops, showcases and scholarships. There are many programs designed to teach and discover new songwriters. Nile Rodgers serves as the organization's chairman.The Hall of Fame only existed as an online virtual collection until 2010, when it was first put on display as a physical gallery inside The Grammy Museum in Los Angeles. With an under-construction basement installation at the Brill Building in New York, the Hall does not have a permanent place and the awards are not televised.Through 2019, 461 individuals had been inducted into the SHOF. There are numerous examples of collaborating songwriters being inducted in unison, with each person being considered a separate entrant. The inaugural year featured 120 inductees, many of whom had a professional partnership, such as Rodgers and Hammerstein. Burt Bacharach and Hal David followed in 1972. \n",
      "\n",
      "\n",
      "Ailanthus altissima\n",
      "Ailanthus altissima , commonly known as tree of heaven, ailanthus, varnish tree, or in Chinese as chouchun (Chinese: 臭椿; pinyin: chòuchūn; literally: 'foul smelling tree'), is a deciduous tree in the family Simaroubaceae. It is native to both northeast and central China, as well as Taiwan. Unlike other members of the genus Ailanthus, it is found in temperate climates rather than the tropics. The tree grows rapidly and is capable of reaching heights of 15 m (50 feet) in 25 years. While the species rarely lives more than 50 years, some specimens exceed 100 years of age. Its remarkable suckering ability makes it possible for this tree to clone itself indefinitely. It is considered a noxious weed and vigorous invasive species, and one of the worst invasive plant species in Europe and North America. Description A. altissima is a medium-sized tree that reaches heights between 17 and 27 metres (56 and 89 ft) with a diameter at breast height of about 1 m (40 inches). The bark is smooth and light grey, often becoming somewhat rougher with light tan fissures as the tree ages. The twigs are stout, smooth to lightly pubescent, and reddish or chestnut in color. They have \n",
      "\n",
      "\n",
      "Joshua Tree\n",
      "Yucca brevifolia is a plant species belonging to the genus Yucca. It is tree-like in habit, which is reflected in its common names: Joshua tree, yucca palm, tree yucca, and palm tree yucca.This monocotyledonous tree is native to the arid southwestern United States, specifically California, Arizona, Utah, and Nevada, where it is confined mostly to the Mojave Desert between 400 and 1,800 m (1,300 and 5,900 ft) elevation. It thrives in the open grasslands of Queen Valley and Lost Horse Valley in Joshua Tree National Park. A dense Joshua tree forest also exists on the Cima Dome (Cima, California) in the Mojave National Preserve; northeast of Kingman, Arizona, in Mohave County, Arizona; as well as along U.S. 93 between the towns of Wickenburg and Wikieup, and designated as the Joshua Tree Parkway of Arizona. The Joshua Tree has barely any leaves, just a few balls on the edges. The Joshua tree can appear in the Mojave desert most of the time. It rarely appears in Death Valley. Taxonomy The Joshua tree is also called izote de desierto (Spanish, \"desert dagger\"). It was first formally described in the botanical literature as Yucca brevifolia by George Engelmann in 1871 as part of \n",
      "\n",
      "\n",
      "Songwriter\n",
      "A songwriter is a musician who professionally composes musical compositions and writes lyrics for songs. A songwriter can also be called a composer, although the latter term tends to be used mainly for individuals from the classical music genre and film scoring, but is also associated writing and composing the original musical composition or musical bed. A songwriter who mainly writes the lyrics for a song is referred to as lyricist. The pressure from the music industry to produce popular hits means that songwriting is often an activity for which the tasks are distributed between a number of people. For example, a songwriter who excels at writing lyrics might be paired with a songwriter with the task of creating original melodies. Pop songs may be composed by group members from the band or by staff writers – songwriters directly employed by music publishers. Some songwriters serve as their own music publishers, while others have outside publishers.The old-style apprenticeship approach to learning how to write songs is being supplemented by university degrees and college diplomas and \"rock schools\". Knowledge of modern music technology (sequencers, synthesizers, computer sound editing), songwriting elements and business skills are now often necessary requirements for a songwriter. \n",
      "\n",
      "\n",
      "Tree sitting\n",
      "Tree sitting is a form of environmentalist civil disobedience in which a protester sits in a tree, usually on a small platform built for the purpose, to protect it from being cut down (speculating that loggers will not endanger human lives by cutting an occupied tree). Supporters usually provide the tree sitters with food and other supplies. Tree sitting is often used as a stalling tactic, to prevent the cutting of trees while lawyers fight in the courts to secure the long-term victories. Tree-sitting was once a children's pastime. In the early 1930s, when endurance contests raged across the U.S., it became a child's contest for kids to climb into their backyard trees and, serviced by siblings and local businesses, attempt to win prizes for the longest sit. Extractions Tree-sitters in trees claimed by Pacific Lumber in Humboldt County have been subject to forced removal by hired extractors. The practice started with a single extractor in the late 1990s but in 2003 Pacific Lumber hired teams of climbers to remove dozens of tree-sitters, particularly in the Freshwater area East of Eureka, California.Most of the extractions in Northern California are done under the leadership of Eric Schatz of Schatz Tree Service, \n",
      "\n",
      "\n"
     ]
    }
   ],
   "source": [
    "results = find_documents_normalized(\"songwriter of Porcupine Tree\", 10)\n",
    "print_results(results)"
   ]
  },
  {
   "cell_type": "code",
   "execution_count": 79,
   "metadata": {
    "scrolled": false
   },
   "outputs": [
    {
     "name": "stdout",
     "output_type": "stream",
     "text": [
      "Lewis Black\n",
      "Lewis Niles Black (born August 30, 1948) is an American stand-up comedian, author, playwright, social critic and actor. His comedy routines often escalate into angry rants about history, politics, religion, or any other cultural trends. He hosted the Comedy Central series Lewis Black's Root of All Evil and makes regular appearances on The Daily Show delivering his \"Back in Black\" commentary segment, which he has been doing since The Daily Show was hosted by Craig Kilborn.When not on the road performing, Black resides in Manhattan, but also maintains a residence in Chapel Hill, North Carolina. He is also a spokesman for the Aruba Tourism Authority, appearing in television ads that first aired in late 2009 and 2010, as well as the voice of Anger in 2015's Pixar film, Inside Out. He was voted 51st of the 100 greatest stand-up comedians of all time by Comedy Central in 2004; he was voted 5th in Comedy Central's Stand Up Showdown in 2008 and 11th in 2010. Black has served as an \"ambassador for voting rights\" for the American Civil Liberties Union, since 2013. Early life Black was born in Washington, D.C., the son of Jeannette (born 1918), a teacher, and Sam Black \n",
      "\n",
      "\n",
      "Cincinnati riots of 1829\n",
      "The Cincinnati riots of 1829 were triggered by competition for jobs between Irish immigrants and native blacks and former slaves, in Cincinnati, Ohio, United States but also were related to white fears given the rapid increases of free and fugitive blacks in the city during this decade, particularly in the preceding three years. Merchants complained about the poor neighborhoods along the river as having ill effects on their waterfront shops and trade with southern planters. Artisans excluded blacks from apprenticeships and jobs in the skilled trades. In June 1829 overseers of the poor announced that blacks would be required to post surety bonds of $500 (equivalent to $12,005 in 2019), within 30 days or face expulsion from the city and state. This was in accord with an 1807 Black Law, which was intended to discourage black settlement in the state, which was not being enforced. Some blacks had already considered relocating to Canada, which they believed had a more accepting environment. They generally opposed the American Colonization Society's desire to export free people of color \"back to Africa\". Native-born black indigenous Americans had been in the United States for generations and as a result, they wanted to make their homes \n",
      "\n",
      "\n",
      "Black Saturday (disambiguation)\n",
      "Black Saturday may refer to: Holy Saturday, the day between Good Friday and Easter Sunday Black Saturday (France), the busiest day of the year when many people go on holiday Battle of Pinkie Cleugh a 1547 battle fought between the Scottish and the English Royal armies Black Saturday (1621), a dark, stormy day in Scotland, taken as a sign of Armageddon Black Saturday (1900), the collapse of Dumbell's Bank, Isle of Man, leading to numerous bankruptcies and poverty Black Saturday (1903), the collapse of a section of balcony during a baseball game between the Boston Braves and Philadelphia Phillies, which killed 12 spectators and injured more than 200 Black Saturday (Mau Movement), a 1929 killing of 11 unarmed people by New Zealand police during a Mau demonstration in Samoa Black Saturday, a day during the 1942 Battle of Gazala between the German Afrika Korps and British armoured divisions Operation Agatha or Black Saturday (1946), British arrests of Jewish paramilitaries Cairo Fire or Black Saturday, a 1952 series of riots in Cairo Black Saturday (Cuban Missile Crisis), a day in 1962 when tensions reached their height Massacre of the Sixty or Black Saturday, a 1974 execution of 60 senior Ethiopian officials \n",
      "\n",
      "\n",
      "Cincinnati riots of 1841\n",
      "The Cincinnati riots of 1841 occurred after a long drought had created widespread unemployment in Cincinnati, Ohio, United States. Over a period of several days in September 1841, unemployed whites attacked black residents who defended themselves. Many blacks were rounded up and held behind a cordon and then moved to the jail. According to the authorities, this was for their own protection. Background By 1840, Cincinnati had grown from a frontier settlement to the sixth largest city in the US. It was a crowded city of contrasts, with prosperous neighborhoods and squalid, violent slums inhabited by immigrants from Europe and black migrants from the South who were drawn there by economic opportunities. Many of the businessmen who controlled the city were interested in good relationships with the slave-owning states to the south of the Ohio River and were hostile to abolitionists and blacks. Although a free state, the Ohio constitution denied blacks the right to vote and the Black Laws imposed further restrictions.Black children were denied education in the public schools while black property owners were required to pay taxes to support these schools. From 1829 Black migrants to the state were required to register and provide surety. Blacks could \n",
      "\n",
      "\n",
      "Ring-tailed cat\n",
      "The ringtail (Bassariscus astutus) is a mammal of the raccoon family, native to arid regions of North America. Even though it is not a cat, it is also known as the ringtail cat, ring-tailed cat, miner's cat or bassarisk, and is also sometimes called a \"civet cat\" (after similar, though only distantly related, cat-like carnivores of Asia and Africa). The ringtail is sometimes called a cacomistle, though this term seems to be more often used to refer to Bassariscus sumichrasti. Description The ringtail is buff to dark brown in color with pale underparts. Ringtails have a pointed muzzle with long whiskers resembles that of a fox (its Latin name means ‘clever little fox’) and its body resembles that of a cat. These animals are characterized by a long black and white \"ringed\" tail with 14–16 stripes, which is the about the same length as its body. The claws are short, straight, and semi-retractable, well-suited for climbing.Smaller than a house cat, it is one of the smallest extant procyonids (only the smallest in the olingo species group average smaller). Its body alone measures 30–42 cm (12–17 in) and its tail averages 31–44 cm (12–17 in) from its base. It typically weighs \n",
      "\n",
      "\n",
      "Black Sabbath (disambiguation)\n",
      "Black Sabbath is a British rock band. Black Sabbath may also refer to: Black Sabbath (album), the debut studio album by British rock band Black Sabbath \"Black Sabbath\" (song) Black Sabbath (film), a 1963 film Operation Agatha or the Black Sabbath, the 1946 British arrests of Jewish paramilitaries Shabbat Chazon or Black Sabbath, the Sabbath immediately preceding the Jewish fast day of Tisha B'Av Witches' Sabbath, also referred to as \"Black Sabbath\" See also Black Saturday (disambiguation) Black Sunday (disambiguation) Holy Saturday, the day before Easter, which is sometimes called Black Saturday or the Great Sabbath Witches' Sabbath (disambiguation) \n",
      "\n",
      "\n",
      "Black Sunday (disambiguation)\n",
      "Black Sunday may refer to: Events Natural disasters Black Sunday, a day of major bushfires in Victoria, Australia during the 1925–26 Victorian bushfire season Black Sunday (storm), a 1935 dust storm that swept across the Midwestern United States during the Dust Bowl Black Sunday, a 1938 event of extraordinary surf conditions at Bondi Beach, Sydney, Australia Black Sunday (1955), a series of bushfires in South Australia Black Sunday, the day of the deadly 1967 Iowa–Minnesota tornado outbreak Warfare and terrorism Black Sunday, the 1918 attack of SM U-151 against U.S. ships off the coast of New Jersey Black Sunday, 1937, an Irgun attack on November 14 in Jerusalem Black Sunday, a 1943 event where 53 USAAF aircraft and 660 aircrewmen were lost during Operation Tidal Wave Bus massacre, also known as Black Sunday, the 1975 clashes in Beirut that started the Lebanese Civil War Black Sunday, the first day of the Siege of Sadr City (2004–2007) during the Iraq War Other events Black Sunday, the 1955 opening day of Disneyland Park Black Sunday, the 1982 cancellation of the Colony Shale Oil Project Black Sunday, the 1984 victory by the Los Angeles Raiders in Super Bowl XVIII Black Sunday, the 1998 \n",
      "\n",
      "\n",
      "Black moth\n",
      "Black moth or Black Moth can refer to: Moths Arctornis l-nigrum, black V moth Ascalapha odorata, black witch moth Biston betularia, peppered moth Celiptera frustulum, black bit moth Epicoma melanospila, black spot moth Glacies coracina, black mountain moth Hypena scabra, black snout moth Idia lubricalis, glossy black idia moth Langessa nomophilalis, black langessa moth Metalectra tantillus, black fungus moth Panthea acronyctoides, black zigzag moth Parascotia fuliginaria, waved black moth Penestola bufalis, black penestola moth Siona lineata, black-veined moth Trichodezia albovittata, white-striped black moth Zale undularis, black zale moth Others The Black Moth, 1921 novel by Georgette Heyer Black Moth, stoner rock band from Leeds, England \"Black Moth\", first song in Of the Wand & the Moon 2005 album Sonnenheim See also Black Moth Super Rainbow, an American experimental band founded 2003 Judas as Black Moth, a 2005 compilation album of British group Current 93 \n",
      "\n",
      "\n",
      "Cat\n",
      "The cat (Felis catus) is a domestic species of small carnivorous mammal. It is the only domesticated species in the family Felidae and is often referred to as the domestic cat to distinguish it from the wild members of the family. A cat can either be a house cat, a farm cat or a feral cat; the latter ranges freely and avoids human contact. Domestic cats are valued by humans for companionship and their ability to hunt pests such as rodents. About 60 cat breeds are recognized by various cat registries.The cat is similar in anatomy to the other felid species: it has a strong flexible body, quick reflexes, sharp teeth and retractable claws adapted to killing small prey. Its night vision and sense of smell are well developed. Cat communication includes vocalizations like meowing, purring, trilling, hissing, growling and grunting as well as cat-specific body language. It is a solitary hunter but a social species. It can hear sounds too faint or too high in frequency for human ears, such as those made by mice and other small mammals. It is a predator that is most active at dawn and dusk. It secretes and perceives pheromones.Female domestic cats can \n",
      "\n",
      "\n",
      "Black cat\n",
      "A black cat is a domestic cat with black fur that may be a mixed or specific breed, or a common domestic cat of no particular breed. The Cat Fanciers' Association (CFA) recognizes 22 cat breeds that can come with solid black coats. The Bombay breed is exclusively black. All-black fur pigmentation is slightly more prevalent in male cats than female cats. Their high melanin pigment content causes most black cats to have yellow (golden) eyes (irises). Coat Any cat whose fur is a single color, including black, is known as a \"solid\" or \"self\". A \"solid black\" cat may be coal black, grayish black, or brownish black. Most solid-colored cats result from a recessive gene that suppresses the tabby pattern. Sometimes the tabby pattern is not completely suppressed; faint markings may appear in certain lights, even on a solid black cat. A cat having black fur with white roots is known as a \"black smoke.\"Black cats can also \"rust\" in sunlight, the coat turning a lighter brownish-red shade. Eumelanin, the pigment that is required to produce the black fur, is somewhat fragile, so the rusting effect can be more pronounced in cats that frequently spend time in the sun. \n",
      "\n",
      "\n"
     ]
    }
   ],
   "source": [
    "results = find_documents_normalized(\"black cat\", 10)\n",
    "print_results(results)"
   ]
  },
  {
   "cell_type": "markdown",
   "metadata": {},
   "source": [
    "Przetestowano różne wartości k dla SVD. Subiektywnie najlepsze wyniki były przy zastosowaniu k = 275."
   ]
  },
  {
   "cell_type": "markdown",
   "metadata": {},
   "source": [
    "Zastosowanie LSI wpłynęło znacząco na rodzaj znajdywanych artykułów. Tematycznie były bardziej powiązane z wyszukiwaną frazą. Jednak kluczowe artykuły pojawiły się dalej w wynikach, niż przy zastosowaniu jedynie macierzy znormalizowanej. Prawdopodobnie również negatywnie wpłynęła na wyszukanie konkretnych nazw własnych."
   ]
  },
  {
   "cell_type": "markdown",
   "metadata": {},
   "source": [
    "## Wpływ IDF na wyniki wyszukiwań"
   ]
  },
  {
   "cell_type": "markdown",
   "metadata": {},
   "source": [
    "Sprawdzono także wpływ przekształcenia IDF na wyniki w przypadku macierzy znormalizowanej."
   ]
  },
  {
   "cell_type": "code",
   "execution_count": 51,
   "metadata": {},
   "outputs": [],
   "source": [
    "def normalize_no_idf():\n",
    "    tbd_no_idf = sparse.load_npz(res_dir + os.sep + 'tbd_no_idf.npz')\n",
    "    tbd_no_idf = normalize_tbd(tbd_no_idf)\n",
    "    sparse.save_npz(res_dir + os.sep + 'tbd_no_idf_normalized.npz', tbd_no_idf)\n",
    "\n",
    "    \n",
    "normalize_no_idf()"
   ]
  },
  {
   "cell_type": "code",
   "execution_count": 52,
   "metadata": {},
   "outputs": [],
   "source": [
    "def normalized_without_idf(query, k):\n",
    "    terms_dict, documents_dict = load_dicts()\n",
    "    \n",
    "    query_bow = query_to_bow(query, terms_dict)\n",
    "    \n",
    "    if query_bow == []:\n",
    "        return []\n",
    "    \n",
    "    query_bow = normalize(query_bow, axis = 1)\n",
    "    query_bow_t = query_bow.transpose()\n",
    "    \n",
    "    tbd = sparse.load_npz(res_dir + os.sep + 'tbd_no_idf_normalized.npz')\n",
    "\n",
    "    \n",
    "    results = []\n",
    "    \n",
    "    for document in documents_dict.keys():\n",
    "        i = documents_dict[document]\n",
    "        col = tbd.getcol(i)\n",
    "        res = query_bow_t.dot(col)[0,0]\n",
    "        if i < k:\n",
    "            results.append((res, document))\n",
    "        else:\n",
    "            results = sorted(results)\n",
    "            if res > results[0][0]:\n",
    "                results[0] = (res, document)\n",
    "                \n",
    "    return results\n",
    "    "
   ]
  },
  {
   "cell_type": "code",
   "execution_count": 86,
   "metadata": {
    "scrolled": false
   },
   "outputs": [
    {
     "name": "stdout",
     "output_type": "stream",
     "text": [
      "Screaming Trees\n",
      "Screaming Trees were an American rock band formed in Ellensburg, Washington in 1985 by vocalist Mark Lanegan, guitarist Gary Lee Conner, bass player Van Conner and drummer Mark Pickerel. Pickerel had been replaced by Barrett Martin by the time the band reached its most successful period. Although widely associated with grunge, the band's sound incorporated hard rock and psychedelic elements. During Screaming Trees' existence the band released seven studio albums, five EPs, and three compilations. Screaming Trees is known as one of the pioneers of grunge along with the Melvins, Mudhoney, U-Men, Skin Yard, Soundgarden, Green River, and Malfunkshun. Screaming Trees rose to fame as part of the grunge movement of the early 1990s, along with bands such as Alice in Chains, Pearl Jam, Nirvana, and Soundgarden and was one of the most successful underground music acts of the 1990s. The band achieved one top ten single on the Modern Rock Tracks charts. Screaming Trees were plagued by extended inactivity due to their problems with making a follow up to Dust. This led to their official breakup in 2000. History 1985–1989: Formation and early releases The Conner brothers formed Screaming Trees with Mark Lanegan and Mark Pickerel in 1985 in \n",
      "\n",
      "\n",
      "Rolling Stone's 100 Greatest Songwriters of All Time\n",
      "\"The 100 Greatest Songwriters of All Time\" is a feature published by the American magazine Rolling Stone in August 2015. The list presented was compiled based on the magazine's music critics, and unlike previous lists the votes came entirely from the magazine's staff. However, it predominantly features American and English songwriters solely of the rock era. Top 10 songwriters Reception The list received mixed response from fellow publications. Writing for Flavorwire, Judy Berman criticized the selection of the songwriters, saying \"Predictably, it's over 70% white and features only nine solo female songwriters (five other women are included as part of mixed-gender writing teams). Classic rock is overrepresented; every other genre and subgenre of popular music is underrepresented.\" Geeta Dayal from The Guardian accused \"corporate sponsorship\" in determining the list's content. Tom Moon from NPR wrote that \"This list represents another trip through the hagiographic, hermetically sealed rock hall of fame, with the same stars you've been reading about in Rolling Stone since the dinosaur age.\" The Daily Telegraph editor Martin Chilton responded with a list of 100 best songwriters missed out by Rolling Stone, including Cole Porter, Townes Van Zandt, Ewan MacColl, Kate Bush, and Ray Charles.Jacqueline Cutler from New \n",
      "\n",
      "\n",
      "Bucida buceras\n",
      "Bucida buceras is a tree in the Combretaceae family. It is known by a variety of names in English, including bullet tree, black olive tree, gregorywood (or gregory wood), Antigua whitewood, and oxhorn bucida. It is native to Mexico, Central America, the Caribbean, and northern South America. It is commonly found in coastal swamps and wet inland forests in low elevations.To grow it prefers high sunlight and rich, moist, well drained soil. It is highly tolerant to salt, insects, fungus, wind, and air pollution. Its roots are able to dig up paving stones and damage foundations.The wood of the bullet tree is extremely hard and durable. Being highly resistance to insects and fungi, it is sometimes used for house posts or bridge timbers. The bark may be used for tanning leather due to its contained tannins. Generally it is also often used as an ornamental/shade tree. == References == \n",
      "\n",
      "\n",
      "Steven Wilson\n",
      "Steven John Wilson (born 3 November 1967) is an English musician, singer, songwriter and record producer, most closely associated with the progressive rock genre. Currently a solo artist, he became known as the founder, lead guitarist, lead vocalist and songwriter of the band Porcupine Tree, as well as being a member of several other bands. Wilson is a self-taught composer, producer, audio engineer, guitar and keyboard player, and plays other instruments as needed, including bass guitar, autoharp, hammered dulcimer and flute. Despite being mainly associated with progressive rock, his influences and work have encompassed a diverse range of genres including psychedelia, pop, extreme metal, electronic and jazz, among others, shifting his musical direction through his albums. His concerts incorporate quadraphonic sound and elaborate visuals. He has also worked with artists such as Opeth, King Crimson, Pendulum, Jethro Tull, Andy Partridge, Yes, Fish, Marillion, Tears for Fears, Roxy Music and Anathema. In a career spanning more than 30 years, Wilson has made music prolifically and earned critical acclaim. His honours include four nominations for Grammy Awards, twice with Porcupine Tree, with his collaborative band Storm Corrosion and as a soloist on one occasion. In 2015, he received three awards at the \n",
      "\n",
      "\n",
      "Joshua Tree, California\n",
      "Joshua Tree is a census-designated place (CDP) in San Bernardino County, California, United States. The population was 7,414 at the 2010 census. At approximately 2,700 feet (820 meters) above sea level, Joshua Tree and its surrounding communities are located in the High Desert of California. The center of the business district in Joshua Tree is on California State Route 62. Geography Joshua Tree is located in the Mojave Desert at 34°8′N 116°19′W.According to the United States Census Bureau, the CDP has a total all land area of 95.9 km² (37.0 mi²). Joshua Tree, California is home to Joshua Tree National Park. Joshua Tree shares the border to its east with Twentynine Palms, California, its western border with Yucca Valley, California, its northwestern border with Landers, California, and its southern border is Coachella Valley, California. Demographics 2010 The 2010 United States Census reported that Joshua Tree had a population of 7,414. The population density was 200.1 people per square mile (77.3/km²). The racial makeup of Joshua Tree was 6,176 (83.3%) White (73.9% Non-Hispanic White), 234 (3.2%) African American, 84 (1.1%) Native American, 104 (1.4%) Asian, 18 (0.2%) Pacific Islander, 368 (5.0%) from other races, and 430 (5.8%) from two or more \n",
      "\n",
      "\n",
      "Songwriters Hall of Fame\n",
      "The Songwriters Hall of Fame (SHOF) was founded in 1969 by songwriter Johnny Mercer and music publisher/songwriter Abe Olman and publisher/executive Howie Richmond to honor those whose work represents and maintains the heritage and legacy of a spectrum of the most beloved songs from the world's popular music songbook. It not only celebrates these established songwriters, but is also involved on the development of new songwriting talent through workshops, showcases and scholarships. There are many programs designed to teach and discover new songwriters. Nile Rodgers serves as the organization's chairman.The Hall of Fame only existed as an online virtual collection until 2010, when it was first put on display as a physical gallery inside The Grammy Museum in Los Angeles. With an under-construction basement installation at the Brill Building in New York, the Hall does not have a permanent place and the awards are not televised.Through 2019, 461 individuals had been inducted into the SHOF. There are numerous examples of collaborating songwriters being inducted in unison, with each person being considered a separate entrant. The inaugural year featured 120 inductees, many of whom had a professional partnership, such as Rodgers and Hammerstein. Burt Bacharach and Hal David followed in 1972. \n",
      "\n",
      "\n",
      "Ailanthus altissima\n",
      "Ailanthus altissima , commonly known as tree of heaven, ailanthus, varnish tree, or in Chinese as chouchun (Chinese: 臭椿; pinyin: chòuchūn; literally: 'foul smelling tree'), is a deciduous tree in the family Simaroubaceae. It is native to both northeast and central China, as well as Taiwan. Unlike other members of the genus Ailanthus, it is found in temperate climates rather than the tropics. The tree grows rapidly and is capable of reaching heights of 15 m (50 feet) in 25 years. While the species rarely lives more than 50 years, some specimens exceed 100 years of age. Its remarkable suckering ability makes it possible for this tree to clone itself indefinitely. It is considered a noxious weed and vigorous invasive species, and one of the worst invasive plant species in Europe and North America. Description A. altissima is a medium-sized tree that reaches heights between 17 and 27 metres (56 and 89 ft) with a diameter at breast height of about 1 m (40 inches). The bark is smooth and light grey, often becoming somewhat rougher with light tan fissures as the tree ages. The twigs are stout, smooth to lightly pubescent, and reddish or chestnut in color. They have \n",
      "\n",
      "\n",
      "Joshua Tree\n",
      "Yucca brevifolia is a plant species belonging to the genus Yucca. It is tree-like in habit, which is reflected in its common names: Joshua tree, yucca palm, tree yucca, and palm tree yucca.This monocotyledonous tree is native to the arid southwestern United States, specifically California, Arizona, Utah, and Nevada, where it is confined mostly to the Mojave Desert between 400 and 1,800 m (1,300 and 5,900 ft) elevation. It thrives in the open grasslands of Queen Valley and Lost Horse Valley in Joshua Tree National Park. A dense Joshua tree forest also exists on the Cima Dome (Cima, California) in the Mojave National Preserve; northeast of Kingman, Arizona, in Mohave County, Arizona; as well as along U.S. 93 between the towns of Wickenburg and Wikieup, and designated as the Joshua Tree Parkway of Arizona. The Joshua Tree has barely any leaves, just a few balls on the edges. The Joshua tree can appear in the Mojave desert most of the time. It rarely appears in Death Valley. Taxonomy The Joshua tree is also called izote de desierto (Spanish, \"desert dagger\"). It was first formally described in the botanical literature as Yucca brevifolia by George Engelmann in 1871 as part of \n",
      "\n",
      "\n",
      "Songwriter\n",
      "A songwriter is a musician who professionally composes musical compositions and writes lyrics for songs. A songwriter can also be called a composer, although the latter term tends to be used mainly for individuals from the classical music genre and film scoring, but is also associated writing and composing the original musical composition or musical bed. A songwriter who mainly writes the lyrics for a song is referred to as lyricist. The pressure from the music industry to produce popular hits means that songwriting is often an activity for which the tasks are distributed between a number of people. For example, a songwriter who excels at writing lyrics might be paired with a songwriter with the task of creating original melodies. Pop songs may be composed by group members from the band or by staff writers – songwriters directly employed by music publishers. Some songwriters serve as their own music publishers, while others have outside publishers.The old-style apprenticeship approach to learning how to write songs is being supplemented by university degrees and college diplomas and \"rock schools\". Knowledge of modern music technology (sequencers, synthesizers, computer sound editing), songwriting elements and business skills are now often necessary requirements for a songwriter. \n",
      "\n",
      "\n",
      "Tree sitting\n",
      "Tree sitting is a form of environmentalist civil disobedience in which a protester sits in a tree, usually on a small platform built for the purpose, to protect it from being cut down (speculating that loggers will not endanger human lives by cutting an occupied tree). Supporters usually provide the tree sitters with food and other supplies. Tree sitting is often used as a stalling tactic, to prevent the cutting of trees while lawyers fight in the courts to secure the long-term victories. Tree-sitting was once a children's pastime. In the early 1930s, when endurance contests raged across the U.S., it became a child's contest for kids to climb into their backyard trees and, serviced by siblings and local businesses, attempt to win prizes for the longest sit. Extractions Tree-sitters in trees claimed by Pacific Lumber in Humboldt County have been subject to forced removal by hired extractors. The practice started with a single extractor in the late 1990s but in 2003 Pacific Lumber hired teams of climbers to remove dozens of tree-sitters, particularly in the Freshwater area East of Eureka, California.Most of the extractions in Northern California are done under the leadership of Eric Schatz of Schatz Tree Service, \n",
      "\n",
      "\n"
     ]
    }
   ],
   "source": [
    "results = normalized_without_idf(\"songwriter of Porcupine Tree\", 10)\n",
    "print_results(results)"
   ]
  },
  {
   "cell_type": "code",
   "execution_count": 60,
   "metadata": {
    "scrolled": false
   },
   "outputs": [
    {
     "name": "stdout",
     "output_type": "stream",
     "text": [
      "Lewis Black\n",
      "Lewis Niles Black (born August 30, 1948) is an American stand-up comedian, author, playwright, social critic and actor. His comedy routines often escalate into angry rants about history, politics, religion, or any other cultural trends. He hosted the Comedy Central series Lewis Black's Root of All Evil and makes regular appearances on The Daily Show delivering his \"Back in Black\" commentary segment, which he has been doing since The Daily Show was hosted by Craig Kilborn.When not on the road performing, Black resides in Manhattan, but also maintains a residence in Chapel Hill, North Carolina. He is also a spokesman for the Aruba Tourism Authority, appearing in television ads that first aired in late 2009 and 2010, as well as the voice of Anger in 2015's Pixar film, Inside Out. He was voted 51st of the 100 greatest stand-up comedians of all time by Comedy Central in 2004; he was voted 5th in Comedy Central's Stand Up Showdown in 2008 and 11th in 2010. Black has served as an \"ambassador for voting rights\" for the American Civil Liberties Union, since 2013. Early life Black was born in Washington, D.C., the son of Jeannette (born 1918), a teacher, and Sam Black \n",
      "\n",
      "\n",
      "Cincinnati riots of 1829\n",
      "The Cincinnati riots of 1829 were triggered by competition for jobs between Irish immigrants and native blacks and former slaves, in Cincinnati, Ohio, United States but also were related to white fears given the rapid increases of free and fugitive blacks in the city during this decade, particularly in the preceding three years. Merchants complained about the poor neighborhoods along the river as having ill effects on their waterfront shops and trade with southern planters. Artisans excluded blacks from apprenticeships and jobs in the skilled trades. In June 1829 overseers of the poor announced that blacks would be required to post surety bonds of $500 (equivalent to $12,005 in 2019), within 30 days or face expulsion from the city and state. This was in accord with an 1807 Black Law, which was intended to discourage black settlement in the state, which was not being enforced. Some blacks had already considered relocating to Canada, which they believed had a more accepting environment. They generally opposed the American Colonization Society's desire to export free people of color \"back to Africa\". Native-born black indigenous Americans had been in the United States for generations and as a result, they wanted to make their homes \n",
      "\n",
      "\n",
      "Black Saturday (disambiguation)\n",
      "Black Saturday may refer to: Holy Saturday, the day between Good Friday and Easter Sunday Black Saturday (France), the busiest day of the year when many people go on holiday Battle of Pinkie Cleugh a 1547 battle fought between the Scottish and the English Royal armies Black Saturday (1621), a dark, stormy day in Scotland, taken as a sign of Armageddon Black Saturday (1900), the collapse of Dumbell's Bank, Isle of Man, leading to numerous bankruptcies and poverty Black Saturday (1903), the collapse of a section of balcony during a baseball game between the Boston Braves and Philadelphia Phillies, which killed 12 spectators and injured more than 200 Black Saturday (Mau Movement), a 1929 killing of 11 unarmed people by New Zealand police during a Mau demonstration in Samoa Black Saturday, a day during the 1942 Battle of Gazala between the German Afrika Korps and British armoured divisions Operation Agatha or Black Saturday (1946), British arrests of Jewish paramilitaries Cairo Fire or Black Saturday, a 1952 series of riots in Cairo Black Saturday (Cuban Missile Crisis), a day in 1962 when tensions reached their height Massacre of the Sixty or Black Saturday, a 1974 execution of 60 senior Ethiopian officials \n",
      "\n",
      "\n",
      "Cincinnati riots of 1841\n",
      "The Cincinnati riots of 1841 occurred after a long drought had created widespread unemployment in Cincinnati, Ohio, United States. Over a period of several days in September 1841, unemployed whites attacked black residents who defended themselves. Many blacks were rounded up and held behind a cordon and then moved to the jail. According to the authorities, this was for their own protection. Background By 1840, Cincinnati had grown from a frontier settlement to the sixth largest city in the US. It was a crowded city of contrasts, with prosperous neighborhoods and squalid, violent slums inhabited by immigrants from Europe and black migrants from the South who were drawn there by economic opportunities. Many of the businessmen who controlled the city were interested in good relationships with the slave-owning states to the south of the Ohio River and were hostile to abolitionists and blacks. Although a free state, the Ohio constitution denied blacks the right to vote and the Black Laws imposed further restrictions.Black children were denied education in the public schools while black property owners were required to pay taxes to support these schools. From 1829 Black migrants to the state were required to register and provide surety. Blacks could \n",
      "\n",
      "\n",
      "Ring-tailed cat\n",
      "The ringtail (Bassariscus astutus) is a mammal of the raccoon family, native to arid regions of North America. Even though it is not a cat, it is also known as the ringtail cat, ring-tailed cat, miner's cat or bassarisk, and is also sometimes called a \"civet cat\" (after similar, though only distantly related, cat-like carnivores of Asia and Africa). The ringtail is sometimes called a cacomistle, though this term seems to be more often used to refer to Bassariscus sumichrasti. Description The ringtail is buff to dark brown in color with pale underparts. Ringtails have a pointed muzzle with long whiskers resembles that of a fox (its Latin name means ‘clever little fox’) and its body resembles that of a cat. These animals are characterized by a long black and white \"ringed\" tail with 14–16 stripes, which is the about the same length as its body. The claws are short, straight, and semi-retractable, well-suited for climbing.Smaller than a house cat, it is one of the smallest extant procyonids (only the smallest in the olingo species group average smaller). Its body alone measures 30–42 cm (12–17 in) and its tail averages 31–44 cm (12–17 in) from its base. It typically weighs \n",
      "\n",
      "\n",
      "Black Sabbath (disambiguation)\n",
      "Black Sabbath is a British rock band. Black Sabbath may also refer to: Black Sabbath (album), the debut studio album by British rock band Black Sabbath \"Black Sabbath\" (song) Black Sabbath (film), a 1963 film Operation Agatha or the Black Sabbath, the 1946 British arrests of Jewish paramilitaries Shabbat Chazon or Black Sabbath, the Sabbath immediately preceding the Jewish fast day of Tisha B'Av Witches' Sabbath, also referred to as \"Black Sabbath\" See also Black Saturday (disambiguation) Black Sunday (disambiguation) Holy Saturday, the day before Easter, which is sometimes called Black Saturday or the Great Sabbath Witches' Sabbath (disambiguation) \n",
      "\n",
      "\n",
      "Black Sunday (disambiguation)\n",
      "Black Sunday may refer to: Events Natural disasters Black Sunday, a day of major bushfires in Victoria, Australia during the 1925–26 Victorian bushfire season Black Sunday (storm), a 1935 dust storm that swept across the Midwestern United States during the Dust Bowl Black Sunday, a 1938 event of extraordinary surf conditions at Bondi Beach, Sydney, Australia Black Sunday (1955), a series of bushfires in South Australia Black Sunday, the day of the deadly 1967 Iowa–Minnesota tornado outbreak Warfare and terrorism Black Sunday, the 1918 attack of SM U-151 against U.S. ships off the coast of New Jersey Black Sunday, 1937, an Irgun attack on November 14 in Jerusalem Black Sunday, a 1943 event where 53 USAAF aircraft and 660 aircrewmen were lost during Operation Tidal Wave Bus massacre, also known as Black Sunday, the 1975 clashes in Beirut that started the Lebanese Civil War Black Sunday, the first day of the Siege of Sadr City (2004–2007) during the Iraq War Other events Black Sunday, the 1955 opening day of Disneyland Park Black Sunday, the 1982 cancellation of the Colony Shale Oil Project Black Sunday, the 1984 victory by the Los Angeles Raiders in Super Bowl XVIII Black Sunday, the 1998 \n",
      "\n",
      "\n",
      "Black moth\n",
      "Black moth or Black Moth can refer to: Moths Arctornis l-nigrum, black V moth Ascalapha odorata, black witch moth Biston betularia, peppered moth Celiptera frustulum, black bit moth Epicoma melanospila, black spot moth Glacies coracina, black mountain moth Hypena scabra, black snout moth Idia lubricalis, glossy black idia moth Langessa nomophilalis, black langessa moth Metalectra tantillus, black fungus moth Panthea acronyctoides, black zigzag moth Parascotia fuliginaria, waved black moth Penestola bufalis, black penestola moth Siona lineata, black-veined moth Trichodezia albovittata, white-striped black moth Zale undularis, black zale moth Others The Black Moth, 1921 novel by Georgette Heyer Black Moth, stoner rock band from Leeds, England \"Black Moth\", first song in Of the Wand & the Moon 2005 album Sonnenheim See also Black Moth Super Rainbow, an American experimental band founded 2003 Judas as Black Moth, a 2005 compilation album of British group Current 93 \n",
      "\n",
      "\n",
      "Cat\n",
      "The cat (Felis catus) is a domestic species of small carnivorous mammal. It is the only domesticated species in the family Felidae and is often referred to as the domestic cat to distinguish it from the wild members of the family. A cat can either be a house cat, a farm cat or a feral cat; the latter ranges freely and avoids human contact. Domestic cats are valued by humans for companionship and their ability to hunt pests such as rodents. About 60 cat breeds are recognized by various cat registries.The cat is similar in anatomy to the other felid species: it has a strong flexible body, quick reflexes, sharp teeth and retractable claws adapted to killing small prey. Its night vision and sense of smell are well developed. Cat communication includes vocalizations like meowing, purring, trilling, hissing, growling and grunting as well as cat-specific body language. It is a solitary hunter but a social species. It can hear sounds too faint or too high in frequency for human ears, such as those made by mice and other small mammals. It is a predator that is most active at dawn and dusk. It secretes and perceives pheromones.Female domestic cats can \n",
      "\n",
      "\n",
      "Black cat\n",
      "A black cat is a domestic cat with black fur that may be a mixed or specific breed, or a common domestic cat of no particular breed. The Cat Fanciers' Association (CFA) recognizes 22 cat breeds that can come with solid black coats. The Bombay breed is exclusively black. All-black fur pigmentation is slightly more prevalent in male cats than female cats. Their high melanin pigment content causes most black cats to have yellow (golden) eyes (irises). Coat Any cat whose fur is a single color, including black, is known as a \"solid\" or \"self\". A \"solid black\" cat may be coal black, grayish black, or brownish black. Most solid-colored cats result from a recessive gene that suppresses the tabby pattern. Sometimes the tabby pattern is not completely suppressed; faint markings may appear in certain lights, even on a solid black cat. A cat having black fur with white roots is known as a \"black smoke.\"Black cats can also \"rust\" in sunlight, the coat turning a lighter brownish-red shade. Eumelanin, the pigment that is required to produce the black fur, is somewhat fragile, so the rusting effect can be more pronounced in cats that frequently spend time in the sun. \n",
      "\n",
      "\n"
     ]
    }
   ],
   "source": [
    "results = normalized_without_idf(\"black cat\", 10)\n",
    "print_results(results)"
   ]
  },
  {
   "cell_type": "markdown",
   "metadata": {},
   "source": [
    "Wiele wyników bez IDF pokrywa się z wynikami przy IDF. Zastosowanie IDF pozwala zminimalizować wpływ powtarzających się często słów na wynik zapytania. Duże pokrycie się wyników jest skutkiem tego, iż zebrane artykuły są dosyć zróżnicowane."
   ]
  },
  {
   "cell_type": "markdown",
   "metadata": {},
   "source": [
    "## Prosty interfejs webowy"
   ]
  },
  {
   "cell_type": "markdown",
   "metadata": {},
   "source": [
    "Stworzono prosty interfejs webowy w frameworku Flask. Do jego utworzenia najważniejsze funkcje przeniesiono do odpowiednich (Search oraz TextPreprocessor). Instancja klasy Search jest tworzona przy uruchomieniu aplikacji i służy do wykonywania zapytań. Wcześniej obliczone macierze odczytuje z plików. Aplikacja webowa znajduje się w pliku search_webpage.py. Dostępne są opcje wyszukiwania: korzystając z LSI, korzystając z macierzy znormalizowanej, korzystając z macierzy nieznormalizowanej. Część wizualna zrealizowana została za pomocą Bootstrap."
   ]
  }
 ],
 "metadata": {
  "kernelspec": {
   "display_name": "Python 3",
   "language": "python",
   "name": "python3"
  },
  "language_info": {
   "codemirror_mode": {
    "name": "ipython",
    "version": 3
   },
   "file_extension": ".py",
   "mimetype": "text/x-python",
   "name": "python",
   "nbconvert_exporter": "python",
   "pygments_lexer": "ipython3",
   "version": "3.7.7"
  }
 },
 "nbformat": 4,
 "nbformat_minor": 4
}
